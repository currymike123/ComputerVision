{
 "cells": [
  {
   "cell_type": "code",
   "execution_count": null,
   "metadata": {},
   "outputs": [],
   "source": [
    "import cv2\n",
    "import numpy as np\n",
    "from numpy import interp\n",
    "a = np.uint8(([[[200,74,55]]]))\n",
    "\n",
    "new_arr = a.reshape(2,2,-1)\n",
    "\n",
    "\n",
    "def rgb_to_hsv(rgb):\n",
    "    # Input: rgb is an 1-D array [r,g,b] with values in range [0,255]. \n",
    "    # r = rgb[0], b = rgb[1], g = rgb[2]\n",
    "    # Output: hsv is an 1-D array [h,s,v] with values in range h = [0,360], s = [0,1], v = [0,1].\n",
    "\n",
    "    # Normalize color values.  Convert to floating point values between 0 - 1\n",
    "    rgb = rgb/255\n",
    "\n",
    "    # Initialize HSV\n",
    "    h = 0.0\n",
    "    s = 0.0\n",
    "    v = 0.0\n",
    "\n",
    "    # Find the max and min RGB values. \n",
    "    v = np.max(rgb)\n",
    "    vMin = np.min(rgb)\n",
    "\n",
    "    # Set the saturation value.\n",
    "    if(v>0.0):\n",
    "        s = (v - vMin)/v\n",
    "    else:\n",
    "        s = 0.0\n",
    "\n",
    "    # Calculate (v - vMin) convenience\n",
    "    diff = (v - vMin)\n",
    "\n",
    "    # Compute the hue by the relative sizes of the RGB components\n",
    "\n",
    "    # Are r,g,b equal. \n",
    "    if(rgb[0] == rgb[1] and rgb[1] == rgb[2]):\n",
    "        h = 0\n",
    "    # Is the point within +/- 60 degrees of the red axis\n",
    "    elif(rgb[0] == v):\n",
    "        h = 60 * (rgb[1] - rgb[2]) / diff\n",
    "    # Is the point within +/- 60 degrees of the green axis\n",
    "    elif(rgb[1] == v):\n",
    "        h = 120 + 60 * (rgb[2] - rgb[0]) / diff\n",
    "    # IS the point within +/- 60 degrees of the blue axis\n",
    "    elif(rgb[2] == v):\n",
    "        h = 240 + 60 * (rgb[0] - rgb[1]) / diff\n",
    "    \n",
    "\n",
    "    # Return hsv values.\n",
    "    return np.array([h,s,v])\n",
    "\n",
    "# Create a rgb value.\n",
    "rgb_cv = np.uint8([[[200,74,55]]])\n",
    "\n",
    "# Call the rgb_to_hsv function.  \n",
    "hsv = rgb_to_hsv(rgb)\n",
    "\n",
    "print(\"The original rgb value:\", rgb)\n",
    "print(\"Converted to hsv:\", hsv)\n",
    "print(new_arr)\n",
    "\n",
    "   "
   ]
  },
  {
   "cell_type": "code",
   "execution_count": null,
   "metadata": {},
   "outputs": [],
   "source": [
    "rgb_cv = np.uint8([[[200,74,55]]])\n",
    "hsv_cv = cv2.cvtColor(rgb_cv,cv2.COLOR_RGB2HSV)\n",
    "print(\"OpenCv hsv:\", hsv_cv) "
   ]
  },
  {
   "cell_type": "code",
   "execution_count": null,
   "metadata": {},
   "outputs": [],
   "source": [
    "s = np.interp(.725,[0,1],[0,255])\n",
    "v = np.interp(.78431,[0,1],[0,255])\n",
    "print(\"HSV converted to OpenCv's range:\", [[[round(hsv[0]/2),round(s),round(v)]]])"
   ]
  }
 ],
 "metadata": {
  "kernelspec": {
   "display_name": "Python 3",
   "language": "python",
   "name": "python3"
  },
  "language_info": {
   "name": "python",
   "version": "3.11.1 (tags/v3.11.1:a7a450f, Dec  6 2022, 19:58:39) [MSC v.1934 64 bit (AMD64)]"
  },
  "orig_nbformat": 4,
  "vscode": {
   "interpreter": {
    "hash": "8a5edab282632443219e051e4ade2d1d5bbc671c781051bf1437897cbdfea0f1"
   }
  }
 },
 "nbformat": 4,
 "nbformat_minor": 2
}
