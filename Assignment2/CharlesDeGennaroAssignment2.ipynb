{
 "cells": [
  {
   "cell_type": "markdown",
   "metadata": {},
   "source": [
    "# Charles DeGennaro\n",
    "\n",
    "### 1: Convert the RGB to HSV code so it produces values in OpenCv's specified ranges and array structure. Your function should accept a 3D array and return HSV values in OpenCv's ranges. H -> [0,180], S -> [0,255], V -> [0,255]\n",
    "\n",
    "#### To test your function use the following rgb value: rgb = np.uint8([[[200,74,55]]])\n",
    "\n",
    "#### Your function should return: [[[4, 185, 200]]]"
   ]
  },
  {
   "cell_type": "code",
   "execution_count": 137,
   "metadata": {},
   "outputs": [],
   "source": [
    "import cv2\n",
    "import numpy as np\n",
    "import matplotlib.pyplot as plt"
   ]
  },
  {
   "cell_type": "code",
   "execution_count": 138,
   "metadata": {},
   "outputs": [],
   "source": [
    "def rgb_to_hsv_single(rgb):\n",
    "    # Input: rgb is a 1-D array with values in range [0..255]\n",
    "    # r = rgb[0], g = rgb[1], b = rgb[2]\n",
    "    # Output: hsv is a 1-D array with values in range h = [0..255], s = [0..1], v = [0..1]\n",
    "    \n",
    "    # Normalize input\n",
    "    rgb = rgb/255\n",
    "    \n",
    "    h = 0.0\n",
    "    s = 0.0\n",
    "    v = 0.0\n",
    "    \n",
    "    # Find the max and min RGB values\n",
    "    v = np.max(rgb)\n",
    "    vMin = np.min(rgb)\n",
    "    \n",
    "    diff = v-vMin\n",
    "    \n",
    "    if v == 0:\n",
    "        s = 0\n",
    "    else:\n",
    "        s = diff/v\n",
    "        \n",
    "        \n",
    "    if rgb[0] == rgb[1] and rgb[1] == rgb[2]:\n",
    "        h = 0\n",
    "    elif v == rgb[0]:\n",
    "        h = 60*(rgb[1]-rgb[2])/diff\n",
    "    elif v == rgb[1]:\n",
    "        h = 120*(rgb[2]-rgb[0])/diff\n",
    "    elif v == rgb[2]:\n",
    "        h = 240*(rgb[0]-rgb[1])/diff\n",
    "        \n",
    "    return np.array([h,s,v])"
   ]
  },
  {
   "cell_type": "code",
   "execution_count": 139,
   "metadata": {},
   "outputs": [],
   "source": [
    "def rgb_to_hsv(rgb):\n",
    "    # Input: rgb is a 3-D array with values in range [0..255]\n",
    "    # 2 Dimensions are for pixel coordinates\n",
    "    # 1 Dimension is for the RGB values\n",
    "    # The deepest layer is the RGB information\n",
    "    \n",
    "    hsv = np.zeros((rgb.shape[0], rgb.shape[1], rgb.shape[2]), dtype=np.double)\n",
    "    \n",
    "    for i in range(len(rgb)):\n",
    "        for j in range(len(rgb[i])):\n",
    "            hsv[i][j] = rgb_to_hsv_single(rgb[i][j])\n",
    "    \n",
    "    return hsv    "
   ]
  },
  {
   "cell_type": "code",
   "execution_count": 140,
   "metadata": {},
   "outputs": [],
   "source": [
    "def hsv_to_opencv(hsv):\n",
    "    new_hsv = np.zeros((hsv.shape[0], hsv.shape[1], hsv.shape[2]), dtype=np.uint8)\n",
    "    for i in range(len(hsv)):\n",
    "        for j in range(len(hsv[i])):\n",
    "            s = np.interp(hsv[i][j][1],[0,1],[0,255])\n",
    "            v = np.interp(hsv[i][j][2],[0,1],[0,255])\n",
    "            new_hsv[i][j] = [round(hsv[i][j][0]/2),round(s),round(v)]\n",
    "    return new_hsv"
   ]
  },
  {
   "cell_type": "code",
   "execution_count": 141,
   "metadata": {},
   "outputs": [
    {
     "name": "stdout",
     "output_type": "stream",
     "text": [
      "rgb:\n",
      " [[[200  74  55]]]\n",
      "hsv:\n",
      " [[[7.86206897 0.725      0.78431373]]]\n",
      "converted hsv:\n",
      " [[[  4 185 200]]]\n"
     ]
    }
   ],
   "source": [
    "# rgb = np.uint8([[[200,74,55],[170,123,23]], [[170,123,23],[200,74,55]]])\n",
    "rgb = np.uint8([[[200,74,55]]])\n",
    "\n",
    "print('rgb:\\n', rgb)\n",
    "hsv = rgb_to_hsv(rgb)\n",
    "print('hsv:\\n', hsv)\n",
    "new_hsv = hsv_to_opencv(hsv)\n",
    "print('converted hsv:\\n', new_hsv)\n"
   ]
  },
  {
   "attachments": {},
   "cell_type": "markdown",
   "metadata": {},
   "source": [
    "### 2. Extra credit: Write the Python code for the conversion of HSV color space to RGB. The algorithm is below. The code is available online but please write it on your own. Include comments to describe each step in your code."
   ]
  },
  {
   "cell_type": "code",
   "execution_count": 142,
   "metadata": {},
   "outputs": [],
   "source": [
    "def hsv_to_rgb_single(hsv):\n",
    "    # Input: 1d np array where:\n",
    "    # hsv[0] = H [0..360]\n",
    "    # hsv[1] = S [0..1]\n",
    "    # hsv[2] = V [0..1]\n",
    "    \n",
    "    H = hsv[0]\n",
    "    S = hsv[1]\n",
    "    V = hsv[2]\n",
    "    \n",
    "    C = V * S\n",
    "    X = C * (1 - abs((H / 60) % 2 - 1))\n",
    "    m = V - C\n",
    "    \n",
    "    # Rp, Gp, and Bp are the R', G', and B' from the table online\n",
    "    Rp, Gp, Bp = hsv_to_rgb_intermediary_step(H,C,X)\n",
    "    \n",
    "    R = (Rp + m) * 255\n",
    "    G = (Gp + m) * 255\n",
    "    B = (Bp + m) * 255\n",
    "    \n",
    "    return np.uint8([R, G, B])\n",
    "    \n",
    "    \n",
    "def hsv_to_rgb_intermediary_step(H,C,X):\n",
    "    # Return the R', G', and B' values\n",
    "    if H < 60:\n",
    "        return C, X, 0\n",
    "    if H < 120:\n",
    "        return X, C, 0\n",
    "    if H < 180:\n",
    "        return 0, C, X\n",
    "    if H < 240:\n",
    "        return 0, X, C\n",
    "    if H < 300:\n",
    "        return X, 0, C\n",
    "    return C, 0, X"
   ]
  },
  {
   "cell_type": "code",
   "execution_count": 143,
   "metadata": {},
   "outputs": [],
   "source": [
    "def hsv_to_rgb(hsv):\n",
    "    # Input: rgb is a 3-D array with values in range [0..255]\n",
    "    # 2 Dimensions are for pixel coordinates\n",
    "    # 1 Dimension is for the RGB values\n",
    "    # The deepest layer is the RGB information\n",
    "    \n",
    "    rgb = np.zeros((hsv.shape[0], hsv.shape[1], hsv.shape[2]), dtype=np.uint8)\n",
    "    \n",
    "    for i in range(len(hsv)):\n",
    "        for j in range(len(hsv[i])):\n",
    "            rgb[i][j] = hsv_to_rgb_single(hsv[i][j])\n",
    "    \n",
    "    return rgb    "
   ]
  },
  {
   "cell_type": "code",
   "execution_count": 144,
   "metadata": {},
   "outputs": [
    {
     "name": "stdout",
     "output_type": "stream",
     "text": [
      "rgb:\n",
      " [[[200  74  55]]]\n",
      "hsv:\n",
      " [[[7.86206897 0.725      0.78431373]]]\n",
      "hsv_2_rgb:\n",
      " [[[200  74  55]]]\n"
     ]
    }
   ],
   "source": [
    "print('rgb:\\n', rgb)\n",
    "print('hsv:\\n', hsv)\n",
    "hsv_2_rgb = hsv_to_rgb(hsv)\n",
    "print('hsv_2_rgb:\\n', hsv_2_rgb)"
   ]
  }
 ],
 "metadata": {
  "kernelspec": {
   "display_name": "Python 3",
   "language": "python",
   "name": "python3"
  },
  "language_info": {
   "codemirror_mode": {
    "name": "ipython",
    "version": 3
   },
   "file_extension": ".py",
   "mimetype": "text/x-python",
   "name": "python",
   "nbconvert_exporter": "python",
   "pygments_lexer": "ipython3",
   "version": "3.10.7"
  },
  "orig_nbformat": 4,
  "vscode": {
   "interpreter": {
    "hash": "b4ea76c1531d03d42fa684ef75e88bec03153d3e383e7fec7c7cfb2b3fcabf35"
   }
  }
 },
 "nbformat": 4,
 "nbformat_minor": 2
}
