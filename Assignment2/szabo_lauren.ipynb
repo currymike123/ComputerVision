{
 "cells": [
  {
   "attachments": {},
   "cell_type": "markdown",
   "metadata": {},
   "source": [
    "# so I am new to fairly python but have done java and javascript and havent used 3d arrays too much\n",
    "I was just wondering how one would go about doing a for or while loop to iterate through a 3d array with multiple rgbs stored in it\n",
    "I attempted to with itertools and imported product, and then for i, j, k in product(xrange(N), xrange(N), xrange(N)): then used the formulas and inserting each one to a new array but it only worked for the first "
   ]
  },
  {
   "cell_type": "code",
   "execution_count": 19,
   "metadata": {},
   "outputs": [
    {
     "name": "stdout",
     "output_type": "stream",
     "text": [
      "the original tgv value  [[[200  74  55]]]\n",
      "converted to hsv  [[[  4 185 200]]]\n"
     ]
    }
   ],
   "source": [
    "import cv2\n",
    "import numpy as np\n",
    "from numpy import interp\n",
    "\n",
    "def rgb_to_hsv(rgb):\n",
    "\n",
    "    r = rgb[0,0,0]/255\n",
    "    g= rgb[0,0,1]/255 #converting to num between 0-1\n",
    "    b = rgb[0,0,2]/255\n",
    "\n",
    "    nrgb = [r,g,b] # I dont think this was necessary but my way to get the max and min from the array was making it a 1d array\n",
    "                   \n",
    "    h = 0.0\n",
    "    s = 0.0\n",
    "    v = 0.0\n",
    "\n",
    "    v = np.max(nrgb)#get the max from the three values which is assigned to v\n",
    "    vmin = np.min(nrgb)#get the min from the three values\n",
    "\n",
    "    if(v> 0.0):\n",
    "        s = (v-vmin)/v #calculate s\n",
    "    else: \n",
    "        s= 0.0\n",
    "\n",
    "    diff=(v-vmin) #difference between max and min\n",
    "    \n",
    "    \n",
    "\n",
    "    if(r==g and g==b): #if all values are equal then h is 0\n",
    "        h=0\n",
    "    elif(r==v): #if red is the max value \n",
    "        h=60*(g-b)/diff\n",
    "    elif(g==v): #if green is the max value\n",
    "        h=120+60*(b-r)\n",
    "    elif(b==v): #if blue is the max value\n",
    "        h=240+60*(r-g)/diff\n",
    "\n",
    "    ns = np.interp(s,[0,1],[0,255]) #convert s and v to openCV\n",
    "    nv = np.interp(v,[0,1],[0,255])\n",
    "\n",
    "    return np.array([[[round(h/2),round(ns),round(nv)]]]) #return new openCV values\n",
    "\n",
    "rgb = np.uint8([[[200,74,55]]])\n",
    "hsv = rgb_to_hsv(rgb)\n",
    "\n",
    "print(\"the original tgv value \", rgb)\n",
    "print(\"converted to hsv \", hsv)\n",
    "\n"
   ]
  }
 ],
 "metadata": {
  "kernelspec": {
   "display_name": "Python 3",
   "language": "python",
   "name": "python3"
  },
  "language_info": {
   "codemirror_mode": {
    "name": "ipython",
    "version": 3
   },
   "file_extension": ".py",
   "mimetype": "text/x-python",
   "name": "python",
   "nbconvert_exporter": "python",
   "pygments_lexer": "ipython3",
   "version": "3.11.1 (tags/v3.11.1:a7a450f, Dec  6 2022, 19:58:39) [MSC v.1934 64 bit (AMD64)]"
  },
  "orig_nbformat": 4,
  "vscode": {
   "interpreter": {
    "hash": "98b374e99358913c1c42b6b370ad32794c013153bdea03f97f4485417b03b617"
   }
  }
 },
 "nbformat": 4,
 "nbformat_minor": 2
}
