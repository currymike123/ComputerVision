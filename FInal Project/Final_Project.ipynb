{
 "cells": [
  {
   "attachments": {},
   "cell_type": "markdown",
   "metadata": {},
   "source": [
    "Using the provided Python file (final_project_template.py), create an image filtering and tracking app.&nbsp; Your app needs to have five different key codes that made to filters/tracking.&nbsp; We will discuss using the python file and the project requirements.&nbsp;\n",
    "\n",
    "&nbsp;Your app should have the following:\n",
    "<ol>\n",
    "<li>Color Space Conversion or Threshold filter using for loops.</li>\n",
    "<li>HSV Skin detector. (In-class project)</li>\n",
    "<li>Convolution-based filter. (Sharpening, Blurring, etc.)</li>\n",
    "<li>Edge-detecting pipeline with noise reduction (Prewitt/Sobel).</li>\n",
    "<li>One object detection/tracking algorithm.</li>\n",
    "</ol>\n",
    "\n",
    "More details to come..."
   ]
  }
 ],
 "metadata": {
  "language_info": {
   "name": "python"
  },
  "orig_nbformat": 4
 },
 "nbformat": 4,
 "nbformat_minor": 2
}
