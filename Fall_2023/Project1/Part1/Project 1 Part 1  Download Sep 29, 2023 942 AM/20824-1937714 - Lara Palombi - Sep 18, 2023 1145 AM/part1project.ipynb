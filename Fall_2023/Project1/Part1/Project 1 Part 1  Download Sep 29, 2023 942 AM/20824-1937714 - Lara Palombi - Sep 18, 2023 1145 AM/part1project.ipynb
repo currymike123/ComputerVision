{
 "cells": [
  {
   "cell_type": "markdown",
   "metadata": {},
   "source": [
    "<h1>PROJECT PART 1 </h1>\n",
    "\n",
    "\n",
    "<h3>#1: Convert the RGB to HSV code so it produces values in OpenCV's specified ranges and array structure. Your function should accept a 3D array and return HSV values in OpenCV's ranges. </h3>"
   ]
  },
  {
   "cell_type": "code",
   "execution_count": 93,
   "metadata": {},
   "outputs": [],
   "source": [
    "import cv2 \n",
    "import numpy as np \n",
    "from numpy import interp \n",
    "\n",
    "# defining a function. Accepts a 3d array with RGB values. RGB values are in the range (0, 255).\n",
    "def rgb2hsv(rgb):\n",
    "    rgb = rgb / 255\n",
    "    for i in range(0, len(rgb)):\n",
    "        for j in range(0, len(rgb[i])):\n",
    "            # initialize your hsv values. Make sure they are floating point numbers. \n",
    "            h = 0.0\n",
    "            s = 0.0 \n",
    "            v = 0.0 \n",
    "            \n",
    "            # beginning to implement formula. \n",
    "            v = np.max(rgb[i][j])\n",
    "            diff = np.max(rgb[i][j]) - np.min(rgb[i][j])\n",
    "            \n",
    "            if(v > 0.0):\n",
    "                s = diff / v\n",
    "            # otherwise s stays at 0 \n",
    "            \n",
    "            # follow conditionals of formula. If conditions are not met \n",
    "            if(rgb[i][j][0] == rgb[i][j][1] and rgb[i][j][1]== rgb[i][j][2]):\n",
    "                h = 0.0\n",
    "            elif(v == rgb[i][j][0]):\n",
    "                h = 60*(rgb[i][j][1]- rgb[i][j][2]) / diff\n",
    "            elif(v == rgb[i][j][1]):\n",
    "                h = 120 + 60*(rgb[i][j][2] - rgb[i][j][0]) / diff\n",
    "            elif(v == rgb[i][j][2]):\n",
    "                h = 240 + 60*(rgb[i][j][2] - rgb[i][j][1]) / diff\n",
    "                \n",
    "            # convert them to OpenCV's range \n",
    "            h = round(h/2)\n",
    "            s = round(np.interp(s, [0, 1], [0, 255]))\n",
    "            v = round(np.interp(v, [0, 1], [0,255]))\n",
    "            \n",
    "            # overwrite values in-place\n",
    "            rgb[i][j][0] = h\n",
    "            rgb[i][j][1] = s \n",
    "            rgb[i][j][2] = v\n",
    "            \n",
    "        \n",
    "    return rgb"
   ]
  },
  {
   "cell_type": "code",
   "execution_count": 94,
   "metadata": {},
   "outputs": [
    {
     "name": "stdout",
     "output_type": "stream",
     "text": [
      "Original RGB value:  [[[200  74  55]]]\n",
      "Converted to HSV:  [[[  4. 185. 200.]]]\n"
     ]
    }
   ],
   "source": [
    "# TESTING: \n",
    "rgb = np.uint8([[[200, 74, 55]]])\n",
    "hsv = rgb2hsv(rgb)\n",
    "print(\"Original RGB value: \", rgb)\n",
    "print(\"Converted to HSV: \", hsv)"
   ]
  },
  {
   "cell_type": "markdown",
   "metadata": {},
   "source": [
    " <h3>#2: Write the Python code for the conversion of HSV color space to RGB. Include comments to describe each step in your code.</h3>"
   ]
  },
  {
   "cell_type": "code",
   "execution_count": 142,
   "metadata": {},
   "outputs": [],
   "source": [
    "def hsv2rgb(hsv):\n",
    "    for i in range(0, len(hsv)):\n",
    "        for j in range(0, len(hsv[i])):\n",
    "            h, s, v = hsv[i][j]\n",
    "            h*=2\n",
    "            s /= 255\n",
    "            v /= 255\n",
    "            \n",
    "            c = v * s \n",
    "            x = c * (1 -abs((h/60)%2 -1))\n",
    "            m = v - c\n",
    "                \n",
    "            r = 0.0\n",
    "            g = 0.0 \n",
    "            b = 0.0\n",
    "                    \n",
    "            rp = 0.0\n",
    "            gp = 0.0\n",
    "            bp = 0.0\n",
    "                \n",
    "                    \n",
    "            if(h >= 0 and h < 60):\n",
    "                rp = c \n",
    "                gp = x \n",
    "                bp = 0\n",
    "            elif(h>=60 and h < 120):\n",
    "                rp = x\n",
    "                gp = c \n",
    "                bp = 0   \n",
    "            elif(h>=120 and h < 180):\n",
    "                rp = 0\n",
    "                gp = c \n",
    "                bp = x   \n",
    "            elif(h>=180 and h < 240):\n",
    "                rp = 0\n",
    "                gp = x \n",
    "                bp = c   \n",
    "            elif(h>=240 and h < 300):\n",
    "                rp = x\n",
    "                gp = 0 \n",
    "                bp = c     \n",
    "            elif(h>=300 and h < 360):\n",
    "                rp = c\n",
    "                gp = 0 \n",
    "                bp = x\n",
    "                    \n",
    "            r = (rp + m)*255\n",
    "            g = (gp + m)*255\n",
    "            b = (bp + m)*255 \n",
    "            \n",
    "            hsv[i][j][0] = r\n",
    "            hsv[i][j][1] = g \n",
    "            hsv[i][j][2] = b \n",
    "                        \n",
    "    return np.uint8(hsv) \n",
    "                "
   ]
  },
  {
   "cell_type": "code",
   "execution_count": 143,
   "metadata": {},
   "outputs": [
    {
     "name": "stdout",
     "output_type": "stream",
     "text": [
      "Original HSV value:  [[[  4 185 200]]]\n",
      "Converted to RGB:  [[[200  74  54]]]\n"
     ]
    }
   ],
   "source": [
    "hsv = np.uint8([[[4, 185, 200]]])\n",
    "print(\"Original HSV value: \", hsv)\n",
    "rgb = hsv2rgb(hsv)\n",
    "print(\"Converted to RGB: \", rgb)"
   ]
  }
 ],
 "metadata": {
  "kernelspec": {
   "display_name": "Python 3",
   "language": "python",
   "name": "python3"
  },
  "language_info": {
   "codemirror_mode": {
    "name": "ipython",
    "version": 3
   },
   "file_extension": ".py",
   "mimetype": "text/x-python",
   "name": "python",
   "nbconvert_exporter": "python",
   "pygments_lexer": "ipython3",
   "version": "3.10.7"
  },
  "orig_nbformat": 4
 },
 "nbformat": 4,
 "nbformat_minor": 2
}
