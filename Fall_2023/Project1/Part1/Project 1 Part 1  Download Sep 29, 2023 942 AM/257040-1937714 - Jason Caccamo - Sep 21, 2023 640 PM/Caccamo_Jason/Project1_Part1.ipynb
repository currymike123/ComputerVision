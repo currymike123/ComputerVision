{
 "cells": [
  {
   "cell_type": "markdown",
   "metadata": {},
   "source": [
    "### <b>Project 1 - Part 1 </b>\n",
    "\n",
    "**(1)** Convert the RGB to HSV code so it produces values in OpenCv's specified ranges and array structure. Your function should accept a 3D array and return HSV values in OpenCv's ranges. H -> [0,180], S -> [0,255], V -> [0,255] <p> To test your function use the following rgb value: <code> rgb = np.uint8([[[200,74,55]]]) </code> <br> Your function should return: [[[4, 185, 200]]] <p>\n",
    "**(2)** Write the Python code for the conversion of HSV color space to RGB. The algorithm is below. The code is available online but please write it on your own. Include comments to describe each step in your code. <p>\n",
    "<img src=\"../Graphics/hsv_rgb.png\" height=500> <br>"
   ]
  },
  {
   "cell_type": "code",
   "execution_count": 114,
   "metadata": {},
   "outputs": [
    {
     "name": "stdout",
     "output_type": "stream",
     "text": [
      "The original RGB value: [[[200  74  55]]]\n",
      "The converted HSV value: [[[  4 185 200]]]\n"
     ]
    }
   ],
   "source": [
    "# (1)\n",
    "import cv2\n",
    "import numpy as np\n",
    "from numpy import interp\n",
    "\n",
    "def rgb_to_hsv(rgb):\n",
    "    # Input: rgb is a 3-D array [[[r, g, b]]] with values in range [0, 255]\n",
    "    # r = rgb[0, 0, 0], g = rgb[0, 0, 1], b = rgb[0, 0, 2]\n",
    "    # Output: hsv is a 3-D array [[[h, s, v]]] with values in range h = [0, 360], s = [0, 1], v = [0, 1]\n",
    "\n",
    "    # Normalize color values. Convert to floating point values between 0 - 1\n",
    "    rgb = rgb / 255\n",
    "\n",
    "    # Initialize HSV\n",
    "    h = 0.0\n",
    "    s = 0.0\n",
    "    v = 0.0\n",
    "\n",
    "    # Find the max and min RGB values\n",
    "    v = np.max(rgb)\n",
    "    vMin = np.min(rgb)\n",
    "\n",
    "    # Set the saturation value\n",
    "    if(v > 0.0):\n",
    "        s = (v - vMin)/v\n",
    "    else:\n",
    "        s = 0.0\n",
    "\n",
    "    # Calculate (v - vMin) convenience\n",
    "    diff = (v - vMin)\n",
    "\n",
    "    # Compute the hue by the relative sizes of the RGB components\n",
    "\n",
    "    # Are r,g,b equal\n",
    "    if(rgb[0, 0, 0] == rgb[0, 0, 1] and rgb[0, 0, 1] == rgb[0, 0, 2]):\n",
    "        h = 0\n",
    "    # Is the point within +/- 60 degrees of the red axis\n",
    "    elif(rgb[0, 0, 0] == v):\n",
    "        h = 60 * (rgb[0, 0, 1] - rgb[0, 0, 2]) / diff\n",
    "    # Is the point within +/- 60 degrees of the green axis\n",
    "    elif(rgb[0, 0, 1] == v):\n",
    "        h = 120 + 60 * (rgb[0, 0, 2] - rgb[0, 0, 0]) / diff\n",
    "    # IS the point within +/- 60 degrees of the blue axis\n",
    "    elif(rgb[0, 0, 2] == v):\n",
    "        h = 240 + 60 * (rgb[0, 0, 0] - rgb[0, 0, 1]) / diff\n",
    "\n",
    "    # Convert to OpenCv ranges\n",
    "    s = np.interp(s, [0, 1], [0, 255])\n",
    "    v = np.interp(v, [0, 1], [0, 255])\n",
    "\n",
    "    # Return hsv values\n",
    "    return np.array([[[np.round(h/2), np.round(s), np.round(v)]]], dtype = int)\n",
    "\n",
    "# Create a rgb value\n",
    "rgb = np.uint8([[[200, 74, 55]]])\n",
    "\n",
    "# Call the rgb_to_hsv function\n",
    "hsv = rgb_to_hsv(rgb)\n",
    "\n",
    "print(\"The original RGB value:\", rgb)\n",
    "print(\"The converted HSV value:\", hsv)"
   ]
  },
  {
   "cell_type": "code",
   "execution_count": 115,
   "metadata": {},
   "outputs": [
    {
     "name": "stdout",
     "output_type": "stream",
     "text": [
      "The HSV value using OpenCV: [[[  4 185 200]]]\n"
     ]
    }
   ],
   "source": [
    "# Testing with OpenCV\n",
    "\n",
    "rgb_cv = np.uint8([[[200, 74, 55]]])\n",
    "hsv_cv = cv2.cvtColor(rgb_cv, cv2.COLOR_RGB2HSV)\n",
    "print(\"The HSV value using OpenCV:\", hsv_cv)"
   ]
  },
  {
   "cell_type": "code",
   "execution_count": 116,
   "metadata": {},
   "outputs": [
    {
     "name": "stdout",
     "output_type": "stream",
     "text": [
      "The original HSV value: [[[  4 185 200]]]\n",
      "The converted RGB value: [[[200  74  55]]]\n"
     ]
    }
   ],
   "source": [
    "# (2)\n",
    "import math\n",
    "\n",
    "def hsv_to_rgb(hsv):\n",
    "    # Input: hsv is a 3-D array [[[h, s, v]]] with values in range h = [0, 360], s = [0, 1], v = [0, 1]\n",
    "    # h = hsv[0, 0, 0], s = hsv[0, 0, 1], v = hsv[0, 0, 2]\n",
    "    # Output: rgb is a 3-D array [[[r, g, b]]] with values in range [0, 255]\n",
    "\n",
    "    # Seperate out the h,s,v\n",
    "    h = hsv[0, 0, 0]\n",
    "    s = hsv[0, 0, 1]\n",
    "    v = hsv[0, 0, 2]\n",
    "\n",
    "    # When 0 <= H < 360, 0 <= S <= 1 and 0 <= V <=1:\n",
    "    h = h * 2\n",
    "    s = s / 255\n",
    "    v = v / 255\n",
    "\n",
    "    # Initialize RGB\n",
    "    r = 0.0\n",
    "    g = 0.0\n",
    "    b = 0.0\n",
    "\n",
    "    # C = V x S\n",
    "    c = v * s\n",
    "\n",
    "    # X = C x (1 - |(H / 60°) mod 2 - 1|)\n",
    "    x = c * (1 - abs((h / 60) % 2 - 1))\n",
    "\n",
    "    # m = V - C\n",
    "    m = v - c\n",
    "\n",
    "    if(0 <= h < 60):\n",
    "        r = c\n",
    "        g = x\n",
    "        b = 0\n",
    "    elif(60 <= h < 120):\n",
    "        r = x\n",
    "        g = c\n",
    "        b = 0\n",
    "    elif(120 <= h < 180):\n",
    "        r = 0\n",
    "        g = c\n",
    "        b = x\n",
    "    elif(180 <= h < 240):\n",
    "        r = 0\n",
    "        g = x\n",
    "        b = c\n",
    "    elif(240 <= h < 300):\n",
    "        r = x\n",
    "        g = 0\n",
    "        b = c\n",
    "    elif(300 <= h < 360):\n",
    "        r = c\n",
    "        g = 0\n",
    "        b = x\n",
    "\n",
    "    # Convert to OpenCv ranges\n",
    "    r = (r + m) * 255\n",
    "    g = (g + m) * 255\n",
    "    b = (b + m) * 255\n",
    "\n",
    "    # Return rgb values\n",
    "    return np.array([[[np.round(r), np.round(g), np.round(b)]]], dtype = int)\n",
    "\n",
    "# Create a hsv value\n",
    "hsv = np.uint8([[[4, 185, 200]]])\n",
    "\n",
    "# Call the hsv_to_rgb function\n",
    "rgb = hsv_to_rgb(hsv)\n",
    "\n",
    "print(\"The original HSV value:\", hsv)\n",
    "print(\"The converted RGB value:\", rgb)"
   ]
  },
  {
   "cell_type": "code",
   "execution_count": 117,
   "metadata": {},
   "outputs": [
    {
     "name": "stdout",
     "output_type": "stream",
     "text": [
      "The RGB value using OpenCv: [[[200  74  55]]]\n"
     ]
    }
   ],
   "source": [
    "# Testing with OpenCV\n",
    "\n",
    "hsv_cv = np.uint8([[[4, 185, 200]]])\n",
    "rgb_cv = cv2.cvtColor(hsv_cv,cv2.COLOR_HSV2RGB)\n",
    "print(\"The RGB value using OpenCv:\", rgb_cv)"
   ]
  }
 ],
 "metadata": {
  "kernelspec": {
   "display_name": "Python 3",
   "language": "python",
   "name": "python3"
  },
  "language_info": {
   "codemirror_mode": {
    "name": "ipython",
    "version": 3
   },
   "file_extension": ".py",
   "mimetype": "text/x-python",
   "name": "python",
   "nbconvert_exporter": "python",
   "pygments_lexer": "ipython3",
   "version": "3.10.7"
  },
  "orig_nbformat": 4
 },
 "nbformat": 4,
 "nbformat_minor": 2
}
