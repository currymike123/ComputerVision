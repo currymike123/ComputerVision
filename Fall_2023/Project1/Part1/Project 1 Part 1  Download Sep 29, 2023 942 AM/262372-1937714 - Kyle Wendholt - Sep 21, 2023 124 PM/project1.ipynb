{
 "cells": [
  {
   "cell_type": "markdown",
   "metadata": {},
   "source": [
    "#### Import Numpy"
   ]
  },
  {
   "cell_type": "code",
   "execution_count": 1,
   "metadata": {},
   "outputs": [],
   "source": [
    "import numpy as np"
   ]
  },
  {
   "cell_type": "markdown",
   "metadata": {},
   "source": [
    "#### Helper function that converts one rbg pixel into an hsv pixel"
   ]
  },
  {
   "cell_type": "code",
   "execution_count": 2,
   "metadata": {},
   "outputs": [],
   "source": [
    "\n",
    "def rgb_to_hsv(rgb):\n",
    "    # Input: rgb is an 1-D array [r,g,b] with values in range [0,255]. \n",
    "    # r = rgb[0], b = rgb[1], g = rgb[2]\n",
    "    # Output: hsv is an 1-D array [h,s,v] with values in range h = [0,360], s = [0,1], v = [0,1].\n",
    "\n",
    "    # Normalize color values.  Convert to floating point values between 0 - 1\n",
    "    rgb = rgb/255\n",
    "\n",
    "    # Initialize HSV\n",
    "    h = 0.0\n",
    "    s = 0.0\n",
    "    v = 0.0\n",
    "\n",
    "    # Find the max and min RGB values. \n",
    "    v = np.max(rgb)\n",
    "    vMin = np.min(rgb)\n",
    "\n",
    "    # Set the saturation value.\n",
    "    if(v>0.0):\n",
    "        s = (v - vMin)/v\n",
    "    else:\n",
    "        s = 0.0\n",
    "\n",
    "    # Calculate (v - vMin) convenience\n",
    "    diff = (v - vMin)\n",
    "\n",
    "    # Compute the hue by the relative sizes of the RGB components\n",
    "\n",
    "    # Are r,g,b equal. \n",
    "    if(rgb[0] == rgb[1] and rgb[1] == rgb[2]):\n",
    "        h = 0\n",
    "    # Is the point within +/- 60 degrees of the red axis\n",
    "    elif(rgb[0] == v):\n",
    "        h = 60 * (rgb[1] - rgb[2]) / diff\n",
    "    # Is the point within +/- 60 degrees of the green axis\n",
    "    elif(rgb[1] == v):\n",
    "        h = 120 + 60 * (rgb[2] - rgb[0]) / diff\n",
    "    # IS the point within +/- 60 degrees of the blue axis\n",
    "    elif(rgb[2] == v):\n",
    "        h = 240 + 60 * (rgb[0] - rgb[1]) / diff\n",
    "    \n",
    "    # Return hsv values.\n",
    "    return np.float32([h,s,v])"
   ]
  },
  {
   "cell_type": "markdown",
   "metadata": {},
   "source": [
    "#### Run through the 3d array, converting each pixel using the helper function, and after converting to opencv's range"
   ]
  },
  {
   "cell_type": "code",
   "execution_count": 3,
   "metadata": {},
   "outputs": [],
   "source": [
    "\n",
    "def rgb_to_hsv3D(rgb):\n",
    "    # \n",
    "    hsv = np.float32([[[]]])\n",
    "    for i in rgb:\n",
    "        for j in i:\n",
    "            # Convert to hsv value\n",
    "            j = rgb_to_hsv(j)\n",
    "            # Split into seperate variables\n",
    "            h = j[0]\n",
    "            s = j[1]\n",
    "            v = j[2]\n",
    "            \n",
    "            # convert to openCV format\n",
    "            h = round(h / 2)\n",
    "            s = round(s * 255)\n",
    "            v = round(v * 255)\n",
    "            \n",
    "            # recreate pixel\n",
    "            j = np.float32([h,s,v])\n",
    "\n",
    "            # add to hsv array\n",
    "            hsv = np.append(hsv, j)\n",
    "    # reshape hsv pixel array to match rgb\n",
    "    hsv = hsv.reshape(rgb.shape)\n",
    "    return hsv"
   ]
  },
  {
   "cell_type": "markdown",
   "metadata": {},
   "source": [
    "#### Helper function to convert hsv pixel to rgb"
   ]
  },
  {
   "cell_type": "code",
   "execution_count": 4,
   "metadata": {},
   "outputs": [],
   "source": [
    "\n",
    "def hsv_to_rgb(hsv):\n",
    "    # c = v * s\n",
    "    c = hsv[2] * hsv[1]\n",
    "    # x = c * (1 - |(h/60) mod 2 - 1|)\n",
    "    x = c * (1-abs((hsv[0]/60)%2 - 1))\n",
    "    # m = v - c\n",
    "    m = hsv[2] - c\n",
    "\n",
    "\n",
    "    #set rgb values\n",
    "    if hsv[0] < 60:\n",
    "        r,g,b = c,x,0\n",
    "    elif hsv[0] < 120:\n",
    "        r,g,b = x,c,0\n",
    "    elif hsv[0] < 180:\n",
    "        r,g,b = 0,c,x\n",
    "    elif hsv[0] < 240:\n",
    "        r,g,b = 0,x,c\n",
    "    elif hsv[0] < 300:\n",
    "        r,g,b = x,0,c\n",
    "    elif hsv[0] < 360:\n",
    "        r,g,b = c,0,x\n",
    "    # add m to each value and convert to 0-255 range\n",
    "    r,g,b = (r+m)*255, (g+m)*255, (b+m)*255\n",
    "    return np.float32([r,g,b])\n"
   ]
  },
  {
   "cell_type": "markdown",
   "metadata": {},
   "source": [
    "#### Loop through the 3D array, changing each pixel to rgb after converting from openCV's format"
   ]
  },
  {
   "cell_type": "code",
   "execution_count": 5,
   "metadata": {},
   "outputs": [],
   "source": [
    "def hsv_to_rgb3D(hsv):\n",
    "    # Create new empty array for rgb values\n",
    "    rgb = np.uint8([[[]]])\n",
    "    for i in hsv:\n",
    "        for j in i:\n",
    "            # Split pixel into seperate values\n",
    "            h = j[0]\n",
    "            s = j[1]\n",
    "            v = j[2]\n",
    "            \n",
    "            # # Convert to regular values from openCV's values\n",
    "            h = (h*2)\n",
    "            s = (s/255)\n",
    "            v = (v/255)\n",
    "            \n",
    "            # Add values into pixel\n",
    "            j = np.float32([h,s,v])\n",
    "\n",
    "            # convert to rgb from hsv\n",
    "            j = hsv_to_rgb(j)\n",
    "            rgb = np.append(rgb, j)\n",
    "    # reshape rgb picture to match hsv\n",
    "    rgb = rgb.reshape(hsv.shape)\n",
    "    return rgb"
   ]
  },
  {
   "cell_type": "markdown",
   "metadata": {},
   "source": [
    "#### Function calls"
   ]
  },
  {
   "cell_type": "code",
   "execution_count": 6,
   "metadata": {},
   "outputs": [
    {
     "name": "stdout",
     "output_type": "stream",
     "text": [
      "The original rgb value is:  [[[200  74  55]]]\n",
      "The hsv value is:  [[[  4. 185. 200.]]]\n",
      "The new rgb value is:  [[[200.        74.24837   54.901962]]]\n"
     ]
    }
   ],
   "source": [
    "rgb = np.uint8([[[200,74,55]]])\n",
    "\n",
    "hsv = rgb_to_hsv3D(rgb)\n",
    "\n",
    "newRgb = hsv_to_rgb3D(hsv)\n",
    "\n",
    "print('The original rgb value is: ', rgb)\n",
    "print('The hsv value is: ', hsv)\n",
    "print('The new rgb value is: ', newRgb)"
   ]
  }
 ],
 "metadata": {
  "kernelspec": {
   "display_name": "Python 3",
   "language": "python",
   "name": "python3"
  },
  "language_info": {
   "codemirror_mode": {
    "name": "ipython",
    "version": 3
   },
   "file_extension": ".py",
   "mimetype": "text/x-python",
   "name": "python",
   "nbconvert_exporter": "python",
   "pygments_lexer": "ipython3",
   "version": "3.11.5"
  },
  "orig_nbformat": 4
 },
 "nbformat": 4,
 "nbformat_minor": 2
}
