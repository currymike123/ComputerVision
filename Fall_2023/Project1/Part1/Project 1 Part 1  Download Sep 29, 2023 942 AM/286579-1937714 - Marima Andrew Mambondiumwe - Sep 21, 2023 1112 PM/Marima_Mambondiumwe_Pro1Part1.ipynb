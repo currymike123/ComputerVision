{
 "cells": [
  {
   "attachments": {},
   "cell_type": "markdown",
   "id": "e1968fcd",
   "metadata": {},
   "source": [
    "# MARIMA ANDREW MAMBONDIUMWE-\n",
    "PROJECT 1 PART 1"
   ]
  },
  {
   "attachments": {},
   "cell_type": "markdown",
   "id": "10dbd6d0",
   "metadata": {},
   "source": [
    "1) Convert the RGB to HSV code so it produces values in OpenCv's specified ranges and array\n",
    "structure. Your function should accept a 3D array and return HSV values in OpenCv's ranges. H\n",
    "-> [0,180], S -> [0,255], V -> [0,255]\n",
    "To test your function use the following rgb value: rgb = np.uint8([[[200,74,55]]])\n",
    "Your function should return: [[[4, 185, 200]]]"
   ]
  },
  {
   "cell_type": "code",
   "execution_count": 4,
   "id": "64198b75",
   "metadata": {},
   "outputs": [
    {
     "name": "stdout",
     "output_type": "stream",
     "text": [
      "The original rgb value: [[[200  74  55]]]\n",
      "converted to HSV - OpenCv's specified ranges: [[[  4 185 200]]]\n"
     ]
    }
   ],
   "source": [
    "import cv2 as cv\n",
    "import numpy as np\n",
    "from numpy import interp\n",
    "\n",
    "def rgb_to_hsv(rgb):\n",
    "    # Input: rgb is an 3-D array [[[r,g,b]]] with values in range [0,255]. \n",
    "    # r = rgb[0][0][0], g = rgb[0][0][1], b = rgb[0][0][2]\n",
    "    # Output: hsv is an 3-D array [[[h,s,v]]] with values in range h = [0,180], s = [0,255], v = [0,255].\n",
    "\n",
    "    # Normalizing color values.\n",
    "    # Converting to floating point values between 0 - 1\n",
    "    rgb = rgb/255\n",
    "    \n",
    "    r = rgb[0][0][0]\n",
    "    g = rgb[0][0][1]\n",
    "    b = rgb[0][0][2]\n",
    "    \n",
    "    # Initializing HSV\n",
    "    h = 0.0\n",
    "    s = 0.0\n",
    "    v = 0.0\n",
    "\n",
    "    # Finding the max and min RGB values. \n",
    "    v = np.max(rgb)\n",
    "    vMin = np.min(rgb)\n",
    "    \n",
    "    # Setting the saturation value.\n",
    "    if(v>0.0):\n",
    "        s = (v - vMin)/v\n",
    "    else:\n",
    "        s = 0.0\n",
    "\n",
    "    # Calculating the (v - vMin) convenience.\n",
    "    diff = (v - vMin)\n",
    "    \n",
    "    # Computing the hue by the relative sizes of the RGB components.\n",
    "\n",
    "    # checking if r,g,b are equal. \n",
    "    if(r == g and g == b):\n",
    "        h = 0\n",
    "    # Is the point within +/- 60 degrees of the red axis.\n",
    "    elif(r == v):\n",
    "        h = 60 * (g - b) / diff\n",
    "    # Is the point within +/- 60 degrees of the green axis.\n",
    "    elif(g == v):\n",
    "        h = 120 + 60 * (b - r) / diff\n",
    "    # Is the point within +/- 60 degrees of the blue axis.\n",
    "    elif(b == v):\n",
    "        h = 240 + 60 * (r - g) / diff\n",
    "    \n",
    "    # Converting to OpenCv ranges\n",
    "    s = np.interp(s,[0,1],[0,255])\n",
    "    v = np.interp(v,[0,1],[0,255])\n",
    "    h = h/2\n",
    "    # Storing h,s,v values in a hsv array.\n",
    "    hsv = np.uint8([[[round(h),round(s),round(v)]]])\n",
    "    # Returning the hsv array.\n",
    "    return hsv\n",
    "\n",
    "# Creating a rgb value.\n",
    "rgb = np.uint8([[[200,74,55]]])\n",
    "# Function call to the rgb_to_hsv function.  \n",
    "hsv = rgb_to_hsv(rgb)\n",
    "\n",
    "# Printing the inputs and outputs\n",
    "print(\"The original rgb value:\", rgb)\n",
    "print(\"converted to HSV - OpenCv's specified ranges:\", hsv)\n"
   ]
  },
  {
   "attachments": {},
   "cell_type": "markdown",
   "id": "af97f22f",
   "metadata": {},
   "source": [
    "2) Write the Python code for the conversion of HSV color space to RGB. The algorithm is\n",
    "below. The code is available online but please write it on your own. Include comments to\n",
    "describe each step in your code."
   ]
  },
  {
   "cell_type": "code",
   "execution_count": 5,
   "id": "0e48606c",
   "metadata": {},
   "outputs": [
    {
     "name": "stdout",
     "output_type": "stream",
     "text": [
      "The original hsv value: [[[7.86206897 0.725      0.78431373]]]\n",
      "Converted to rgb: [[[200  74  55]]]\n"
     ]
    }
   ],
   "source": [
    "import cv2 as cv\n",
    "import numpy as np\n",
    "\n",
    "# A function which converts 'hsv' values to 'rgb' values.\n",
    "def hsv_to_rgb(hsv):\n",
    "    # Input: hsv is an 3-D array[h,s,v] with values in range h = [0,360], s = [0,1], v = [0,1].\n",
    "    # h= hsv[0], h= hsv[0], v= hsv[2].\n",
    "    # Output: rgb in an 3-D array [r,g,b] with values in range [0,255]. \n",
    "    \n",
    "    h= hsv[0][0][0]\n",
    "    s= hsv[0][0][1]\n",
    "    v= hsv[0][0][2]\n",
    "    \n",
    "    # Finding the product of the saturation and value.\n",
    "    c = v * s\n",
    "    \n",
    "    x = c * (1 - abs((h / 60) % 2 - 1))\n",
    "    \n",
    "    m = v - c\n",
    "    \n",
    "    # Converting hsv to rgb using the values of h, s and v.\n",
    "    # Dividing the hue into 6 regions and assigning the r, g, b values based on the specific region.\n",
    "    if h >= 0 and h < 60:\n",
    "        r = c \n",
    "        g = x \n",
    "        b = 0 \n",
    "    \n",
    "    elif h >= 60 and h < 120:\n",
    "        r = x\n",
    "        g = c\n",
    "        b = 0\n",
    "    \n",
    "    elif h >= 120 and h < 180:\n",
    "        r = 0 \n",
    "        g = c\n",
    "        b = x\n",
    "    \n",
    "    elif h >= 180 and h < 240:\n",
    "        r = 0\n",
    "        g = x\n",
    "        b = c\n",
    "    \n",
    "    elif h >= 240 and h < 300:\n",
    "        r = x\n",
    "        g = 0\n",
    "        b = c\n",
    "    \n",
    "    else:\n",
    "        r = c \n",
    "        g = 0\n",
    "        b = x\n",
    "    \n",
    "    # Converting the r,g,b values from [0,1] to [0,255].\n",
    "    r = int((r + m) * 255)\n",
    "    g = int((g + m) * 255)\n",
    "    b = int((b + m) * 255)\n",
    "    \n",
    "    # Storing the values of r, g, b in an array.\n",
    "    rgb = np.array([[[r,g,b]]])\n",
    "    # Return the rgb array\n",
    "    return rgb\n",
    "\n",
    "# Creating a hsv value.\n",
    "hsv = np.array([[[7.86206897,0.725,0.78431373]]])\n",
    "\n",
    "# A function call to the hsv_to_rgb function.\n",
    "rgb = hsv_to_rgb(hsv)\n",
    "\n",
    "# Printing the inputs and outputs.\n",
    "print(\"The original hsv value:\", hsv)\n",
    "print(\"Converted to rgb:\", rgb)"
   ]
  }
 ],
 "metadata": {
  "kernelspec": {
   "display_name": "base",
   "language": "python",
   "name": "python3"
  },
  "language_info": {
   "codemirror_mode": {
    "name": "ipython",
    "version": 3
   },
   "file_extension": ".py",
   "mimetype": "text/x-python",
   "name": "python",
   "nbconvert_exporter": "python",
   "pygments_lexer": "ipython3",
   "version": "3.9.6"
  },
  "vscode": {
   "interpreter": {
    "hash": "e2ac57fbb7f7f03929f6f65b5565ea3080effbbb53897178279bb189d05c8e5f"
   }
  }
 },
 "nbformat": 4,
 "nbformat_minor": 5
}
