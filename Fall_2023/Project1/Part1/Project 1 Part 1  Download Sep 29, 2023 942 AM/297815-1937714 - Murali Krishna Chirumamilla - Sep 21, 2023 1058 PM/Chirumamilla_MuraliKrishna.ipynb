{
  "cells": [
    {
      "cell_type": "code",
      "execution_count": 17,
      "metadata": {
        "trusted": true
      },
      "outputs": [
        {
          "name": "stdout",
          "output_type": "stream",
          "text": [
            "[[[  4 185 200]]]\n"
          ]
        }
      ],
      "source": [
        "import numpy as np\n",
        "\n",
        "def rgb_to_hsv(rgb):\n",
        "    # ensure the input is 3D array\n",
        "    # r = rgb[0], b = rgb[1], g = rgb[2]\n",
        "    # Output: hsv is an 1-D array [h,s,v] with values in range h = [0,180], s = [0,1], v = [0,1]\n",
        "    # Convert RGB to HSV\n",
        "    if rgb.shape != (1, 1, 3):\n",
        "        raise ValueError(\"Input must be a 3D array with shape (1, 1, 3)\")\n",
        "        \n",
        "    r, g, b = rgb[0, 0] / 255.0\n",
        "    \n",
        "    # Find the minimum and maximum values among R, G, and B\n",
        "    min_val = min(r, g, b)\n",
        "    max_val = max(r, g, b)\n",
        "    rgb = rgb[0][0] \n",
        "    rgb = rgb/255.0 \n",
        "\n",
        "    # Calculate the value (V) in the range [0, 255]\n",
        "    v=np.max(rgb)\n",
        "    # Calculate the saturation (S)\n",
        "    if max_val != 0:\n",
        "        s = (np.max(rgb)-np.min(rgb))/np.max(rgb)\n",
        "    else:\n",
        "        s = 0\n",
        "\n",
        "    # Calculate the hue (H) in the range [0, 180]\n",
        "    if max_val == min_val:\n",
        "        h = 0\n",
        "    else:\n",
        "        if max_val == r:\n",
        "            h = int((60 * ((g - b) / (max_val - min_val)) + 360) % 360)\n",
        "        elif max_val == g:\n",
        "            h = int((60 * ((b - r) / (max_val - min_val)) + 120))\n",
        "        else:\n",
        "            h = int((60 * ((r - g) / (max_val - min_val)) + 240))\n",
        "\n",
        "    h=round(h/2)    # to scale the hue value from range [0,360] to range [0,180]\n",
        "    s = round(np.interp(s,[0,1],[0,255]))   \n",
        "    v = round(np.interp(v,[0,1],[0,255]))\n",
        "    return np.uint8([[[h, s, v]]])\n",
        "\n",
        "# Test the function with the given RGB value\n",
        "rgb = np.uint8([[[200, 74, 55]]])\n",
        "hsv_result = rgb_to_hsv(rgb)\n",
        "\n",
        "# Print the result\n",
        "print(hsv_result)"
      ]
    },
    {
      "cell_type": "code",
      "execution_count": 13,
      "metadata": {
        "trusted": true
      },
      "outputs": [
        {
          "name": "stdout",
          "output_type": "stream",
          "text": [
            "[[[200  74  55]]]\n"
          ]
        }
      ],
      "source": [
        "import numpy as np\n",
        "\n",
        "def hsv_to_rgb(hsv_array):\n",
        "    # Ensure the input array has the correct shape \n",
        "    if hsv_array.shape != (1, 1, 3):\n",
        "        raise ValueError(\"Input array shape must be (1, 1, 3)\")\n",
        "\n",
        "    # Extract the HSV components\n",
        "    h, s, v = hsv_array[0, 0]\n",
        "    h = h * 2\n",
        "    s = s / 255\n",
        "    v = v / 255\n",
        "\n",
        "    # Check if the input values are within valid ranges\n",
        "    if not (0 <= h < 360 and 0 <= s <= 1 and 0 <= v <= 1):\n",
        "        raise ValueError(\"Input values out of valid range\")\n",
        "\n",
        "    c = v * s\n",
        "    x = c * (1 - abs((h / 60) % 2 - 1))\n",
        "    m = v - c\n",
        "\n",
        "    if 0 <= h < 60:\n",
        "        r, g, b = c, x, 0\n",
        "    elif 60 <= h < 120:\n",
        "        r, g, b = x, c, 0\n",
        "    elif 120 <= h < 180:\n",
        "        r, g, b = 0, c, x\n",
        "    elif 180 <= h < 240:\n",
        "        r, g, b = 0, x, c\n",
        "    elif 240 <= h < 300:\n",
        "        r, g, b = x, 0, c\n",
        "    else:\n",
        "        r, g, b = c, 0, x\n",
        "\n",
        "    # Round the b component to the nearest integer\n",
        "    b = round((b + m) * 255)\n",
        "\n",
        "    # Convert to 8-bit integer values\n",
        "    r = int((r + m) * 255)\n",
        "    g = int((g + m) * 255)\n",
        "\n",
        "    # Create and return the RGB array\n",
        "    rgb_array = np.uint8([[[r, g, b]]])\n",
        "    return rgb_array\n",
        "\n",
        "# Example usage:\n",
        "hsv_input = np.uint8([[[4, 185, 200]]])\n",
        "rgb_output = hsv_to_rgb(hsv_input)\n",
        "print(rgb_output)"
      ]
    }
  ],
  "metadata": {
    "kernelspec": {
      "display_name": "Python (Pyodide)",
      "language": "python",
      "name": "python"
    },
    "language_info": {
      "codemirror_mode": {
        "name": "python",
        "version": 3
      },
      "file_extension": ".py",
      "mimetype": "text/x-python",
      "name": "python",
      "nbconvert_exporter": "python",
      "pygments_lexer": "ipython3",
      "version": "3.8"
    }
  },
  "nbformat": 4,
  "nbformat_minor": 4
}
