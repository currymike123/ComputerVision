{
 "cells": [
  {
   "cell_type": "markdown",
   "metadata": {},
   "source": [
    "                                                        Project 1 - Part 1"
   ]
  },
  {
   "cell_type": "markdown",
   "metadata": {},
   "source": [
    "1) The below code shows coverting RGB to HSV that accepts a 3D array as input and returns HSV values in OpenCv's ranges"
   ]
  },
  {
   "cell_type": "code",
   "execution_count": 5,
   "metadata": {},
   "outputs": [
    {
     "name": "stdout",
     "output_type": "stream",
     "text": [
      "Given RGB Value: [[[200  74  55]]]\n",
      "Converted HSV Value: [[[  4 185 200]]]\n"
     ]
    }
   ],
   "source": [
    "#Importing Required packages\n",
    "import numpy as np\n",
    "\n",
    "#Function to convert RGB to HSV \n",
    "def rgb_to_hsv(rgb):\n",
    "    #Extract the RGB values from the 3D array\n",
    "    rgb = rgb[0][0]\n",
    "    #Normalize RGB values to keep them in range [0,1]\n",
    "    rgb = rgb/255       \n",
    "    #Initialize the H,S,V Values\n",
    "    h=0.0\n",
    "    s=0.0\n",
    "    v=0.0\n",
    "    #Calculating the maximum value among RGB components\n",
    "    v=np.max(rgb)\n",
    "    #Calculating the minimum value among RGB components\n",
    "    vMin=np.min(rgb)\n",
    "    #Calculating the saturation value\n",
    "    if v > 0.0:\n",
    "        s = (v-vMin)/v\n",
    "    else:\n",
    "        s = 0.0\n",
    "    #calculating the difference between max and min values\n",
    "    diff = v-vMin\n",
    "    #Calculate the hue (H) value\n",
    "    if(rgb[0] == rgb[1] and rgb[1] == rgb[2]):\n",
    "        h = 0\n",
    "    elif(rgb[0] == v):\n",
    "        h = 60 * (rgb[1] - rgb[2]) / diff\n",
    "    elif(rgb[1] == v):\n",
    "        h = 120 + 60 * (rgb[2] - rgb[0]) / diff\n",
    "    elif(rgb[2] == v):\n",
    "        h = 240 + 60 * (rgb[0] - rgb[1]) / diff\n",
    "    #Rounding the H,S,V values\n",
    "    h=round(h/2)    \n",
    "    s = round(s*255)  \n",
    "    v = round(v*255)\n",
    "    #Return the result as 3D array\n",
    "    return np.array([[[h,s,v]]])\n",
    "\n",
    "#Input RGB color as 3D array\n",
    "rgb=np.uint8([[[200,74,55]]])\n",
    "#Calling function to convert RGB to HSV by passing input \n",
    "hsv=rgb_to_hsv(rgb)\n",
    "\n",
    "#Printing Input and Output values\n",
    "print(\"Given RGB Value:\",rgb)\n",
    "print(\"Converted HSV Value:\",hsv)\n"
   ]
  },
  {
   "cell_type": "markdown",
   "metadata": {},
   "source": [
    "2) The below code shows conversion of HSV to RGB"
   ]
  },
  {
   "cell_type": "code",
   "execution_count": 6,
   "metadata": {},
   "outputs": [
    {
     "name": "stdout",
     "output_type": "stream",
     "text": [
      "Given HSV value: [[[  4 185 200]]]\n",
      "Converted RGB value: [[[200  74  55]]]\n"
     ]
    }
   ],
   "source": [
    "#Importing Required packages\n",
    "import numpy as np\n",
    "\n",
    "#Function to convert HSV to RGB \n",
    "def hsv_to_rgb(hsv):\n",
    "    #Ensure that the input is treated as float\n",
    "    hsv=hsv.astype(float)\n",
    "    #Extract the HSV values from the 3D array\n",
    "    hsv = hsv[0][0]\n",
    "    #Extract and modify the individual components\n",
    "    h=hsv[0]=((hsv[0]*2))       #Scale the hue(h) component\n",
    "    s=hsv[1] = ((hsv[1]/255))   #Normalize saturation(s) value to keep in the range [0, 1] \n",
    "    v=hsv[2] = (hsv[2]/255)     #Normalize value(v) to keep in the range [0, 1]\n",
    "\n",
    "    #Using if condtion to Check if the input HSV values are within valid ranges\n",
    "    if h>=0 and h < 360 and s>=0 and s <= 1 and v >=0 and v <= 1: \n",
    "        c = v * s\n",
    "        x = c*(1 - abs((h/60)%2-1))\n",
    "        m =v - c\n",
    "        ## Calcluate the RGB values based on the hue value\n",
    "        if h >=0 and h < 60:\n",
    "            rgb = [c, x, 0]\n",
    "        elif h >=60 and h < 120:\n",
    "            rgb = [x, c, 0]\n",
    "        elif h >=120 and h < 180:\n",
    "            rgb = [0, c, x]\n",
    "        elif h >=180 and h < 240:\n",
    "            rgb = [0, x, c]\n",
    "        elif h >=240 and h < 300:\n",
    "            rgb = [x, 0, c]\n",
    "        else:\n",
    "            rgb = [c,0, x]\n",
    "    else:\n",
    "        #else case executes when HSV values are out of range\n",
    "        print(\"HSV values out of range values\")\n",
    "    \n",
    "    #Scale and round the RGB values and return as a 3D numpy array\n",
    "    rgb = np.array([[[int(round((rgb[0]+m)*255)), int(round((rgb[1]+m)*255)), int(round((rgb[2]+m)*255)) ]]])\n",
    "    return rgb\n",
    "\n",
    "#Input HSV color as 3D array\n",
    "hsv = np.uint8([[[4,185,200]]])\n",
    "print(\"Given HSV value:\",hsv)\n",
    "#Calling function to convert HSV to RGB by passing input \n",
    "rgb = hsv_to_rgb(hsv) \n",
    "print(\"Converted RGB value:\",rgb)"
   ]
  }
 ],
 "metadata": {
  "kernelspec": {
   "display_name": ".venv",
   "language": "python",
   "name": "python3"
  },
  "language_info": {
   "codemirror_mode": {
    "name": "ipython",
    "version": 3
   },
   "file_extension": ".py",
   "mimetype": "text/x-python",
   "name": "python",
   "nbconvert_exporter": "python",
   "pygments_lexer": "ipython3",
   "version": "3.8.0"
  },
  "orig_nbformat": 4
 },
 "nbformat": 4,
 "nbformat_minor": 2
}
