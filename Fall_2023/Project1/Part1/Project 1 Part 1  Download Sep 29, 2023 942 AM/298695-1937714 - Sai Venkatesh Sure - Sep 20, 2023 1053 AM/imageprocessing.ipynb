{
 "cells": [
  {
   "cell_type": "markdown",
   "metadata": {},
   "source": [
    "PROJECT 1 QUESTION 1:"
   ]
  },
  {
   "cell_type": "code",
   "execution_count": 2,
   "metadata": {},
   "outputs": [
    {
     "name": "stdout",
     "output_type": "stream",
     "text": [
      "RGB values to convert:  [[[200  74  55]]]\n",
      "Converted HSV values from RGB:  [[[  4 185 200]]]\n"
     ]
    }
   ],
   "source": [
    "#importing the required libraries\n",
    "import numpy as np\n",
    "import matplotlib.pyplot as plt\n",
    "\n",
    "\n",
    "def rgb_2_hsv(rgb3d):\n",
    "    #  used to convert the rgb  to hsv \n",
    "    # input : A 3-D array of  RGB value\n",
    "    # output : A 3-D array of  HSV values\n",
    "    rgb = rgb3d[0][0] #getting the rgb 1-D array from 3-D array\n",
    "    rgb = rgb/255\n",
    "\n",
    "    # Initialising the hsv values\n",
    "    h=0.0\n",
    "    s=0.0\n",
    "    v=0.0\n",
    "    #Finding the MAX and MIN values\n",
    "    v=np.max(rgb)\n",
    "    v_min=np.min(rgb)\n",
    "\n",
    "    # setting saturation values\n",
    "    if v > 0.0:\n",
    "        s = (v-v_min)/v\n",
    "    else:\n",
    "        s = 0.0\n",
    "    \n",
    "    # calculating v-vmin \n",
    "    diff = v-v_min\n",
    "    # Are r,g,b equal. \n",
    "    if(rgb[0] == rgb[1] and rgb[1] == rgb[2]):\n",
    "        h = 0\n",
    "    # Is the point within +/- 60 degrees of the red axis\n",
    "    elif(rgb[0] == v):\n",
    "        h = 60 * (rgb[1] - rgb[2]) / diff\n",
    "    # Is the point within +/- 60 degrees of the green axis\n",
    "    elif(rgb[1] == v):\n",
    "        h = 120 + 60 * (rgb[2] - rgb[0]) / diff\n",
    "    # IS the point within +/- 60 degrees of the blue axis\n",
    "    elif(rgb[2] == v):\n",
    "        h = 240 + 60 * (rgb[0] - rgb[1]) / diff\n",
    "    h=round(h/2)\n",
    "    #Normalizing the color values to cv2 standards\n",
    "    s = round(np.interp(s,[0,1],[0,255]))\n",
    "    v = round(np.interp(v,[0,1],[0,255]))\n",
    "    return np.array([[[h,s,v]]])\n",
    "\n",
    "# initialising the values of RGB to convert to hsv\n",
    "rgb = np.array([[[200,74,55]]])\n",
    "print(\"RGB values to convert: \", rgb) #print RGB value in 3-D format\n",
    "# Call the rgb_to_hsv function.  \n",
    "hsv = rgb_2_hsv(rgb) #calling the function created above to convert to hsv from RGB\n",
    "print(\"Converted HSV values from RGB: \",hsv)"
   ]
  },
  {
   "cell_type": "markdown",
   "metadata": {},
   "source": [
    "question 2"
   ]
  },
  {
   "cell_type": "code",
   "execution_count": 15,
   "metadata": {},
   "outputs": [],
   "source": [
    "hsv = [7.86206897, 0.725, 0.78431373]"
   ]
  },
  {
   "cell_type": "code",
   "execution_count": 16,
   "metadata": {},
   "outputs": [],
   "source": [
    "def hsv_to_rgb(hsv):\n",
    "     #  used to convert HSV to RGB \n",
    "    # input value: 1-D array of HSV values\n",
    "    #output value: 1-D array of RGB values[converted]\n",
    "    if hsv[0]>=0 and hsv[0] < 360 and hsv[1]>=0 and hsv[1] < 1 and hsv[2] >=0 and hsv[2] < 1: \n",
    "        #The condition is used to check if the hsv values used to convert are in the specified ranges or not\n",
    "        # finding c,x,m values as per given steps\n",
    "        c=hsv[2] *hsv[1]\n",
    "        x= c * (1-abs((hsv[0]/60)%2-1))\n",
    "        m=hsv[2] - c\n",
    "         # The below condition calculates RGB values on hue value\n",
    "        if hsv[0] >=0 and hsv[0] < 60:\n",
    "            rgb = [c, x, 0]\n",
    "        elif hsv[0] >=60 and hsv[0] < 120:\n",
    "            rgb = [x, c, 0]\n",
    "        elif hsv[0] >=120 and hsv[0]< 180:\n",
    "            rgb = [0, c, x]\n",
    "        elif hsv[0] >=180 and hsv[0] < 240:\n",
    "            rgb = [0, x, c]\n",
    "        elif hsv[0] >=240 and hsv[0] <300:\n",
    "            rgb = [x, 0, c]\n",
    "        else:\n",
    "            rgb = [c, 0, x]\n",
    "             # Calculating the RGB values and rounding them to integers\n",
    "    rgb=[int((rgb[0]+m)*255), int((rgb[1]+m)*255), int((rgb[2]+m)*255) ]\n",
    "    # returning rgb values \n",
    "    return rgb   "
   ]
  },
  {
   "cell_type": "code",
   "execution_count": 17,
   "metadata": {},
   "outputs": [
    {
     "name": "stdout",
     "output_type": "stream",
     "text": [
      "Converted RGB values from HSV values [200, 74, 55]\n"
     ]
    }
   ],
   "source": [
    "rgb = hsv_to_rgb(hsv) # calling the function to convert hsv to rgb\n",
    "print(\"Converted RGB values from HSV values\",rgb)"
   ]
  }
 ],
 "metadata": {
  "kernelspec": {
   "display_name": "base",
   "language": "python",
   "name": "python3"
  },
  "language_info": {
   "codemirror_mode": {
    "name": "ipython",
    "version": 3
   },
   "file_extension": ".py",
   "mimetype": "text/x-python",
   "name": "python",
   "nbconvert_exporter": "python",
   "pygments_lexer": "ipython3",
   "version": "3.9.13"
  },
  "orig_nbformat": 4
 },
 "nbformat": 4,
 "nbformat_minor": 2
}
