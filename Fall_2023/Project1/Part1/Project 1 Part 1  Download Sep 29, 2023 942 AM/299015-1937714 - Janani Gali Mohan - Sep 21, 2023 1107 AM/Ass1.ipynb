{
 "cells": [
  {
   "cell_type": "code",
   "execution_count": 17,
   "metadata": {},
   "outputs": [],
   "source": [
    "# Importing libraries\n",
    "\n",
    "import cv2\n",
    "import numpy as np\n",
    "from numpy import interp"
   ]
  },
  {
   "cell_type": "markdown",
   "metadata": {},
   "source": [
    "RGB to HSV Function: "
   ]
  },
  {
   "cell_type": "code",
   "execution_count": 18,
   "metadata": {},
   "outputs": [],
   "source": [
    "def rgb_to_hsv(rgb):\n",
    "    # Input: rgb is an 1-D array [r,g,b] with values in range [0,255]. \n",
    "    # r = rgb[0], b = rgb[1], g = rgb[2]\n",
    "    # Output: hsv is an 1-D array [h,s,v] with values in range h = [0,360], s = [0,1], v = [0,1].\n",
    "\n",
    "    # Normalize color values.  Convert to floating point values between 0 - 1\n",
    "    rgb = rgb/255\n",
    "\n",
    "    # Initialize HSV\n",
    "    h = 0.0\n",
    "    s = 0.0\n",
    "    v = 0.0\n",
    "\n",
    "    # Find the max and min RGB values. \n",
    "    v = np.max(rgb)\n",
    "    vMin = np.min(rgb)\n",
    "\n",
    "    # Set the saturation value.\n",
    "    if(v>0.0):\n",
    "        s = (v - vMin)/v\n",
    "    else:\n",
    "        s = 0.0\n",
    "\n",
    "    # Calculate (v - vMin) convenience\n",
    "    diff = (v - vMin)\n",
    "\n",
    "    # Compute the hue by the relative sizes of the RGB components\n",
    "\n",
    "    # Are r,g,b equal. \n",
    "    if(rgb[0][0][0] == rgb[0][0][1] and rgb[0][0][1] == rgb[0][0][2]):\n",
    "      h = 0\n",
    "    # Is the point within +/- 60 degrees of the red axis\n",
    "    elif(rgb[0][0][0] == v):\n",
    "      h = 60 * (rgb[0][0][1] - rgb[0][0][2]) / diff\n",
    "    # Is the point within +/- 60 degrees of the green axis\n",
    "    elif(rgb[0][0][1] == v):\n",
    "      h = 120 + 60 * (rgb[0][0][2] - rgb[0][0][0]) / diff\n",
    "    # IS the point within +/- 60 degrees of the blue axis\n",
    "    elif(rgb[0][0][2] == v):\n",
    "      h = 240 + 60 * (rgb[0][0][0] - rgb[0][0][1]) / diff\n",
    "\n",
    "    h=round(h/2)\n",
    "    #Normalize color values. Convert to floating point values between 0 - 255\n",
    "    s = np.interp(s,[0,1],[0,255])\n",
    "    v = np.interp(v,[0,1],[0,255])\n",
    "    return np.array([[[round(h),round(s),round(v)]]])\n",
    "   "
   ]
  },
  {
   "cell_type": "code",
   "execution_count": 19,
   "metadata": {},
   "outputs": [
    {
     "name": "stdout",
     "output_type": "stream",
     "text": [
      "The original rgb value: [[[200  74  55]]]\n",
      "Converted to hsv: [[[  4 185 200]]]\n"
     ]
    }
   ],
   "source": [
    "rgb = np.uint8([[[200,74,55]]])\n",
    "# Call the rgb_to_hsv function.\n",
    "hsv = rgb_to_hsv(rgb)\n",
    "\n",
    "print(\"The original rgb value:\", rgb)\n",
    "print(\"Converted to hsv:\", hsv)"
   ]
  },
  {
   "cell_type": "code",
   "execution_count": 20,
   "metadata": {},
   "outputs": [
    {
     "name": "stdout",
     "output_type": "stream",
     "text": [
      "OpenCv hsv: [[[  4 185 200]]]\n"
     ]
    }
   ],
   "source": [
    "rgb_cv = np.uint8([[[200,74,55]]])\n",
    "hsv_cv = cv2.cvtColor(rgb_cv,cv2.COLOR_RGB2HSV)\n",
    "print(\"OpenCv hsv:\", hsv_cv) "
   ]
  },
  {
   "cell_type": "markdown",
   "metadata": {},
   "source": [
    "The HSV values of both rgb_to_hsv function and cv2 function are same."
   ]
  },
  {
   "cell_type": "markdown",
   "metadata": {},
   "source": [
    "HSV to RGB Function: "
   ]
  },
  {
   "cell_type": "code",
   "execution_count": 21,
   "metadata": {},
   "outputs": [
    {
     "name": "stdout",
     "output_type": "stream",
     "text": [
      "The original hsv value: [[[  4 185 200]]]\n",
      "Converted to rgb: [[[200  74  55]]]\n"
     ]
    }
   ],
   "source": [
    "\n",
    "\n",
    "#Taking h s v values seperately\n",
    "h=hsv[0][0][0]\n",
    "s=hsv[0][0][1]\n",
    "v=hsv[0][0][2]\n",
    "\n",
    "\n",
    "\n",
    "h=h*2\n",
    "# Changing the range values from 0-255 to 0-1 of s and v\n",
    "s=np.interp(185,[0,255],[0,1])\n",
    "v=np.interp(200,[0,255],[0,1])\n",
    "\n",
    "# Assign the values c v m\n",
    "c=v*s\n",
    "x=c*(1 - abs(((h/60) % 2) - 1))\n",
    "m=v-c\n",
    "\n",
    "#initialize rgb array\n",
    "rgb=[0,0,0]\n",
    "\n",
    "## Is the point when + 60 degrees of the red axis\n",
    "if(0<=h<60):\n",
    "    rgb=[c,x,0]\n",
    " # Is the point when + 60 degrees of the green axis\n",
    "elif(60<=h<120):\n",
    "    rgb=[x,c,0]\n",
    "# Is the point when + 60 degrees of the blue axis\n",
    "elif(120<=h<180):\n",
    "    rgb=[0,c,x]\n",
    "# Is the point when - 60 degrees of the blue axis\n",
    "elif(180<=h<240):\n",
    "    rgb=[0,x,c]\n",
    "# Is the point when - 60 degrees of the green axis\n",
    "elif(240<=h<300):\n",
    "    rgb=[x,0,c]\n",
    "    # Is the point when - 60 degrees of the red axis\n",
    "elif(300<=h<360):\n",
    "    rgb=[c,0,x]\n",
    "\n",
    "# assign values to r g b of rgb array\n",
    "r=rgb[0]\n",
    "g=rgb[1]\n",
    "b=rgb[2]\n",
    "    \n",
    "# converting them in to range 0-255\n",
    "RGB=[[[round(((r+m)*255)),round(((g+m)*255)),round(((b+m)*255))]]]\n",
    "npRGB = np.array(RGB)\n",
    "\n",
    "#print converted rgb values\n",
    "print(\"The original hsv value:\", hsv)\n",
    "print(\"Converted to rgb:\", npRGB)"
   ]
  },
  {
   "cell_type": "code",
   "execution_count": 22,
   "metadata": {},
   "outputs": [
    {
     "name": "stdout",
     "output_type": "stream",
     "text": [
      "OpenCv hsv: [[[200  74  55]]]\n"
     ]
    }
   ],
   "source": [
    "rgb_cv2 = cv2.cvtColor(hsv_cv,cv2.COLOR_HSV2RGB)\n",
    "print(\"OpenCv hsv:\", rgb_cv2) "
   ]
  },
  {
   "cell_type": "markdown",
   "metadata": {},
   "source": [
    "The RGB values of both hsv_to_rgb function and cv2 function are same."
   ]
  }
 ],
 "metadata": {
  "kernelspec": {
   "display_name": "Python 3",
   "language": "python",
   "name": "python3"
  },
  "language_info": {
   "codemirror_mode": {
    "name": "ipython",
    "version": 3
   },
   "file_extension": ".py",
   "mimetype": "text/x-python",
   "name": "python",
   "nbconvert_exporter": "python",
   "pygments_lexer": "ipython3",
   "version": "3.11.5"
  },
  "orig_nbformat": 4
 },
 "nbformat": 4,
 "nbformat_minor": 2
}
