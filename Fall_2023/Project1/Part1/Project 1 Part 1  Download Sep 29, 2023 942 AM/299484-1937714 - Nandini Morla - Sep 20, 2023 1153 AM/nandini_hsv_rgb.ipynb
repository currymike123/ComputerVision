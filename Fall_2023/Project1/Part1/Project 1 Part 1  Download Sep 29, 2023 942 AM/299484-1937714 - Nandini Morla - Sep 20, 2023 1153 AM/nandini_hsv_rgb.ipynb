{
  "nbformat": 4,
  "nbformat_minor": 0,
  "metadata": {
    "colab": {
      "provenance": []
    },
    "kernelspec": {
      "name": "python3",
      "display_name": "Python 3"
    },
    "language_info": {
      "name": "python"
    }
  },
  "cells": [
    {
      "cell_type": "code",
      "execution_count": 11,
      "metadata": {
        "colab": {
          "base_uri": "https://localhost:8080/"
        },
        "id": "nP6YUgBXxx4a",
        "outputId": "74c08aa2-1b00-4e1b-b8fd-03f67f895ef2"
      },
      "outputs": [
        {
          "output_type": "stream",
          "name": "stdout",
          "text": [
            "The original hsv value: [[[7.86206897 0.725      0.78431373]]]\n",
            "Converted to rgb: [[[200  74  55]]]\n"
          ]
        }
      ],
      "source": [
        "import cv2\n",
        "import numpy as np\n",
        "from numpy import interp\n",
        "\n",
        "def hsv_to_rgb(hsv):  # Input: hsv is an 3-D array [[[h,s,v]]].\n",
        "    h=hsv[0,0,0]\n",
        "    s=hsv[0,0,1]\n",
        "    v=hsv[0,0,2]\n",
        "    # Calculate c,x and m.\n",
        "    c=v*s\n",
        "    k=(h/60)%2\n",
        "    k=k-1\n",
        "    if(k<0):\n",
        "      k=k*-1\n",
        "    x=c*(1-k)\n",
        "    m=v-c\n",
        "    # Is h in the range of 0 and 60?\n",
        "    if(h>=0 and h<60):\n",
        "      r=c\n",
        "      g=x\n",
        "      b=0\n",
        "      # Is h in the range of 60 and 120?\n",
        "    elif(h>=60 and h<120):\n",
        "      r=x\n",
        "      g=c\n",
        "      b=0\n",
        "      # Is h in the range of 120 and 180?\n",
        "    elif(h>=120 and h<180):\n",
        "      r=0\n",
        "      g=c\n",
        "      b=x\n",
        "      # Is h in the range of 180 and 240?\n",
        "    elif(h>=180 and h<240):\n",
        "      r=0\n",
        "      g=x\n",
        "      b=c\n",
        "      # Is h in the range of 240 and 300?\n",
        "    elif(h>=240 and h<300):\n",
        "      r=x\n",
        "      g=0\n",
        "      b=c\n",
        "      # Is h in the range of 300 and 360?\n",
        "    elif(h>=300 and h<360):\n",
        "      r=c\n",
        "      g=0\n",
        "      b=x\n",
        "    # Calculatr final RGB values\n",
        "    R=(r+m)*255\n",
        "    G=(g+m)*255\n",
        "    B=(b+m)*255\n",
        "    # Return 3-D  RGB values array\n",
        "    return np.array([[[round(R),round(G),round(B)]]])\n",
        "\n",
        "\n",
        "# Create a rgb value.\n",
        "hsv = np.array([[[7.86206897,0.725,0.78431373]]])\n",
        "\n",
        "# Call the hsv_to_rgb function.\n",
        "rgb = hsv_to_rgb(hsv)\n",
        "\n",
        "print(\"The original hsv value:\", hsv)\n",
        "print(\"Converted to rgb:\", rgb)\n"
      ]
    },
    {
      "cell_type": "markdown",
      "source": [
        "Covert HSV to Open CV range"
      ],
      "metadata": {
        "id": "xiP5RpoGSKA6"
      }
    },
    {
      "cell_type": "code",
      "source": [
        "h = 7.86206897\n",
        "s = np.interp(0.725,[0,1],[0,255])\n",
        "v = np.interp(0.784,[0,1],[0,255])\n",
        "print(\"HSV converted to OpenCv's range:\", [[[round(hsv[0,0,0]/2),round(s),round(v)]]])"
      ],
      "metadata": {
        "colab": {
          "base_uri": "https://localhost:8080/"
        },
        "id": "OT_I9UFpSN9x",
        "outputId": "ae4848e8-6ca1-4c89-a17a-882c2899d300"
      },
      "execution_count": 12,
      "outputs": [
        {
          "output_type": "stream",
          "name": "stdout",
          "text": [
            "HSV converted to OpenCv's range: [[[4, 185, 200]]]\n"
          ]
        }
      ]
    },
    {
      "cell_type": "markdown",
      "source": [
        "Checking the output with builtin function"
      ],
      "metadata": {
        "id": "jfgcbdzB1DgH"
      }
    },
    {
      "cell_type": "code",
      "source": [
        "hsv_cv = np.uint8([[[4, 185, 200]]])\n",
        "rgb_cv = cv2.cvtColor(hsv_cv,cv2.COLOR_HSV2RGB)\n",
        "print(\"OpenCv hsv:\", rgb_cv)"
      ],
      "metadata": {
        "colab": {
          "base_uri": "https://localhost:8080/"
        },
        "id": "l3UEd8Hw1LSo",
        "outputId": "5746d67c-23ba-4b12-eab9-0e4565cd8fa1"
      },
      "execution_count": 13,
      "outputs": [
        {
          "output_type": "stream",
          "name": "stdout",
          "text": [
            "OpenCv hsv: [[[200  74  55]]]\n"
          ]
        }
      ]
    }
  ]
}