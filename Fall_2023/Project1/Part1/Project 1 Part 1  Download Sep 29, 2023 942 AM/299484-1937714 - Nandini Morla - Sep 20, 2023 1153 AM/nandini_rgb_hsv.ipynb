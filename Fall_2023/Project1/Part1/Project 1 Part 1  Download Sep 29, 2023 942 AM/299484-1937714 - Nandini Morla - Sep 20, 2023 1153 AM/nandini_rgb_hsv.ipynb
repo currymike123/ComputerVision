{
  "nbformat": 4,
  "nbformat_minor": 0,
  "metadata": {
    "colab": {
      "provenance": []
    },
    "kernelspec": {
      "name": "python3",
      "display_name": "Python 3"
    },
    "language_info": {
      "name": "python"
    }
  },
  "cells": [
    {
      "cell_type": "markdown",
      "source": [
        "Image Processing Assignment : Convert RGB to HSV"
      ],
      "metadata": {
        "id": "tETWA5TlcGel"
      }
    },
    {
      "cell_type": "code",
      "source": [
        "import cv2\n",
        "import numpy as np\n",
        "from numpy import interp\n",
        "\n",
        "def rgb_to_hsv(rgb):  # Input: rgb is an 3-D array [[[r,g,b]]].\n",
        "\n",
        "    # r = rgb[0,0,0], b = rgb[0,0,1], g = rgb[0,0,2]\n",
        "    # Normalize color values.  Convert to floating point values between 0 - 1\n",
        "    rgb = rgb/255\n",
        "    # print(rgb)\n",
        "    # Initialize HSV\n",
        "    h = 0.0\n",
        "    s = 0.0\n",
        "    v = 0.0\n",
        "    # Find the max and min RGB values.\n",
        "    v = np.max(rgb)\n",
        "    vMin = np.min(rgb)\n",
        "    # Set the saturation value.\n",
        "    if(v>0.0):\n",
        "        s = (v - vMin)/v\n",
        "    else:\n",
        "        s = 0.0\n",
        "    # print(h)\n",
        "    # print(s)\n",
        "    # print(v)\n",
        "    # Calculate (v - vMin) convenience\n",
        "    diff = (v - vMin)\n",
        "    # Compute the hue by the relative sizes of the RGB components\n",
        "    # Are r,g,b equal.\n",
        "    if(rgb[0,0,0]== rgb[0,0,1] and rgb[0,0,1] == rgb[0,0,2]):\n",
        "        h = 0\n",
        "    # Is the point within +/- 60 degrees of the red axis\n",
        "    elif(rgb[0,0,0] == v):\n",
        "        h = 60 * (rgb[0,0,1] - rgb[0,0,2]) / diff\n",
        "    # Is the point within +/- 60 degrees of the green axis\n",
        "    elif(rgb[0,0,1] == v):\n",
        "        print(\"yes\")\n",
        "        h = 120 + 60 * (rgb[0,0,2] - rgb[0,0,0]) / diff\n",
        "    # IS the point within +/- 60 degrees of the blue axis\n",
        "    elif(rgb[0,0,2] == v):\n",
        "        h = 240 + 60 * (rgb[0,0,0] - rgb[0,0,1]) / diff\n",
        "    # Return hsv values.\n",
        "    # h=round(h[0,0,0]/2)\n",
        "    s = np.interp(s,[0,1],[0,255])\n",
        "    v = np.interp(s,[0,1],[0,255])\n",
        "    h=h/2\n",
        "    # print(h)\n",
        "\n",
        "    return np.array([[[round(h),round(s),round(v)]]])\n",
        "\n",
        "\n",
        "# Create a rgb value.\n",
        "rgb = np.array([[[200,74,55]]])\n",
        "\n",
        "# Call the rgb_to_hsv function.\n",
        "hsv = rgb_to_hsv(rgb)\n",
        "\n",
        "print(\"The original rgb value:\", rgb)\n",
        "print(\"Converted to hsv:\", hsv)\n"
      ],
      "metadata": {
        "colab": {
          "base_uri": "https://localhost:8080/"
        },
        "id": "lTjbeKFrcFaP",
        "outputId": "d854ce0c-43f9-4a88-c915-fced58a49c17"
      },
      "execution_count": 15,
      "outputs": [
        {
          "output_type": "stream",
          "name": "stdout",
          "text": [
            "The original rgb value: [[[200  74  55]]]\n",
            "Converted to hsv: [[[  4 185 255]]]\n"
          ]
        }
      ]
    },
    {
      "cell_type": "markdown",
      "source": [
        "Checking the output with builtin function\n"
      ],
      "metadata": {
        "id": "SE765jXLOXMO"
      }
    },
    {
      "cell_type": "code",
      "source": [
        "rgb_cv = np.uint8([[[200,74,55]]])\n",
        "hsv_cv = cv2.cvtColor(rgb_cv,cv2.COLOR_RGB2HSV)\n",
        "print(\"OpenCv hsv:\", hsv_cv)"
      ],
      "metadata": {
        "colab": {
          "base_uri": "https://localhost:8080/"
        },
        "id": "faAZVFa6ObFI",
        "outputId": "c59f1cf0-843c-406e-8363-e27daf68f368"
      },
      "execution_count": 16,
      "outputs": [
        {
          "output_type": "stream",
          "name": "stdout",
          "text": [
            "OpenCv hsv: [[[  4 185 200]]]\n"
          ]
        }
      ]
    }
  ]
}