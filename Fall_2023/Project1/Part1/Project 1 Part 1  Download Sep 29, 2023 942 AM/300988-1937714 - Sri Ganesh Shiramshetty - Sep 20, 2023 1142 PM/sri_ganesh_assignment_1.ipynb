{
  "nbformat": 4,
  "nbformat_minor": 0,
  "metadata": {
    "colab": {
      "provenance": []
    },
    "kernelspec": {
      "name": "python3",
      "display_name": "Python 3"
    },
    "language_info": {
      "name": "python"
    }
  },
  "cells": [
    {
      "cell_type": "markdown",
      "source": [
        "IMAGE PROCESSING ASSIGNMENT-1-PART-1"
      ],
      "metadata": {
        "id": "0bQRNGufzwpx"
      }
    },
    {
      "cell_type": "markdown",
      "source": [
        "CONVERT RGB TO HSV"
      ],
      "metadata": {
        "id": "-hI_fGPzz0hL"
      }
    },
    {
      "cell_type": "code",
      "source": [
        "import cv2\n",
        "import numpy as np\n",
        "from numpy import interp\n",
        "\n",
        "def rgb_to_hsv(rgb):  #rgb is an 3-D array [[[r,g,b]]].\n",
        "\n",
        "    # r = rgb[0,0,0], g = rgb[0,0,2], b = rgb[0,0,1].\n",
        "    # Normalize color values.  Convert to floating point values between 0 - 1\n",
        "    rgb = rgb/255\n",
        "\n",
        "    # Initialize HSV\n",
        "    h = 0.0\n",
        "    s = 0.0\n",
        "    v = 0.0\n",
        "\n",
        "    # Find the max and min RGB values.\n",
        "    v = np.max(rgb)\n",
        "    vMin = np.min(rgb)\n",
        "\n",
        "    # Set the saturation value.\n",
        "    if(v>0.0):\n",
        "        s = (v - vMin)/v\n",
        "    else:\n",
        "        s = 0.0\n",
        "\n",
        "    # Calculate (v - vMin) convenience\n",
        "    diff = (v - vMin)\n",
        "\n",
        "    # Compute the hue by the relative sizes of the RGB components\n",
        "\n",
        "    # Are r,g,b equal.\n",
        "    if(rgb[0,0,0]== rgb[0,0,1] and rgb[0,0,1] == rgb[0,0,2]):\n",
        "        h = 0\n",
        "\n",
        "    # Is the point within +/- 60 degrees of the red axis\n",
        "    elif(rgb[0,0,0] == v):\n",
        "        h = 60 * (rgb[0,0,1] - rgb[0,0,2]) / diff\n",
        "\n",
        "    # Is the point within +/- 60 degrees of the green axis\n",
        "    elif(rgb[0,0,1] == v):\n",
        "        print(\"yes\")\n",
        "        h = 120 + 60 * (rgb[0,0,2] - rgb[0,0,0]) / diff\n",
        "\n",
        "    # IS the point within +/- 60 degrees of the blue axis\n",
        "    elif(rgb[0,0,2] == v):\n",
        "        h = 240 + 60 * (rgb[0,0,0] - rgb[0,0,1]) / diff\n",
        "\n",
        "    h=round(h/2)\n",
        "    s = round(np.interp(s,[0,1],[0,255]))\n",
        "    v = round(np.interp(s,[0,1],[0,255]))\n",
        "\n",
        "    # return hsv value.\n",
        "    return np.array([[[h,s,v]]])\n",
        "\n",
        "# Create a rgb value.\n",
        "rgb = np.array([[[200,74,55]]])\n",
        "\n",
        "# Call the rgb_to_hsv function.\n",
        "hsv = rgb_to_hsv(rgb)\n",
        "\n",
        "print(\"The original rgb value:\", rgb)\n",
        "print(\"Converted to hsv:\", hsv)\n"
      ],
      "metadata": {
        "colab": {
          "base_uri": "https://localhost:8080/"
        },
        "id": "lTjbeKFrcFaP",
        "outputId": "4f839123-b69e-458c-a714-a867202e8ce1"
      },
      "execution_count": 14,
      "outputs": [
        {
          "output_type": "stream",
          "name": "stdout",
          "text": [
            "The original rgb value: [[[200  74  55]]]\n",
            "Converted to hsv: [[[  4 185 255]]]\n"
          ]
        }
      ]
    },
    {
      "cell_type": "markdown",
      "source": [
        "test your function"
      ],
      "metadata": {
        "id": "i4JexW9S0Mh_"
      }
    },
    {
      "cell_type": "code",
      "source": [
        "rgb_cv = np.uint8([[[200,74,55]]])\n",
        "hsv_cv = cv2.cvtColor(rgb_cv,cv2.COLOR_RGB2HSV)\n",
        "print(\"OpenCv hsv:\", hsv_cv)"
      ],
      "metadata": {
        "colab": {
          "base_uri": "https://localhost:8080/"
        },
        "id": "faAZVFa6ObFI",
        "outputId": "351e857f-76a8-4f7c-90c0-beb4e1d9cea0"
      },
      "execution_count": 15,
      "outputs": [
        {
          "output_type": "stream",
          "name": "stdout",
          "text": [
            "OpenCv hsv: [[[  4 185 200]]]\n"
          ]
        }
      ]
    },
    {
      "cell_type": "markdown",
      "source": [
        "**CONVERT HSV to RGB**"
      ],
      "metadata": {
        "id": "gEJp4H9Nx2Yp"
      }
    },
    {
      "cell_type": "code",
      "source": [
        "import cv2\n",
        "import numpy as np\n",
        "from numpy import interp\n",
        "\n",
        "def hsv_to_rgb(hsv):  # hsv is an 3-D array [[[h,s,v]]].\n",
        "\n",
        "    h=hsv[0,0,0]\n",
        "    s=hsv[0,0,1]\n",
        "    v=hsv[0,0,2]\n",
        "\n",
        "    # Calculate the values of c,x and m.\n",
        "    c=v*s\n",
        "    temp=np.absolute(np.mod(h/60,2)-1)\n",
        "    x=c*(1-temp)\n",
        "    m=v-c\n",
        "\n",
        "    # If h is in the range of 0 and 60\n",
        "    if(h>=0 and h<60):\n",
        "      r=c\n",
        "      g=x\n",
        "      b=0\n",
        "      # If h is in the range of 60 and 120\n",
        "    elif(h>=60 and h<120):\n",
        "      r=x\n",
        "      g=c\n",
        "      b=0\n",
        "      # If h is in the range of 120 and 180?\n",
        "    elif(h>=120 and h<180):\n",
        "      r=0\n",
        "      g=c\n",
        "      b=x\n",
        "      # If h is in the range of 180 and 240?\n",
        "    elif(h>=180 and h<240):\n",
        "      r=0\n",
        "      g=x\n",
        "      b=c\n",
        "\n",
        "      # If h is in the range of 240 and 300?\n",
        "    elif(h>=240 and h<300):\n",
        "      r=x\n",
        "      g=0\n",
        "      b=c\n",
        "\n",
        "      # If h is in the range of 300 and 360?\n",
        "    elif(h>=300 and h<360):\n",
        "      r=c\n",
        "      g=0\n",
        "      b=x\n",
        "\n",
        "    # Calculatr final RGB values\n",
        "    R=round((r+m)*255)\n",
        "    G=round((g+m)*255)\n",
        "    B=round((b+m)*255)\n",
        "\n",
        "    # Return 3-D  RGB values array\n",
        "    return np.array([[[R,G,B]]])\n",
        "\n",
        "\n",
        "# Create a rgb value.\n",
        "hsv = np.array([[[7.86206897,0.725,0.78431373]]])\n",
        "\n",
        "# Call the hsv_to_rgb function.\n",
        "rgb = hsv_to_rgb(hsv)\n",
        "\n",
        "print(\"The original hsv value:\", hsv)\n",
        "print(\"Converted to rgb:\", rgb)\n"
      ],
      "metadata": {
        "colab": {
          "base_uri": "https://localhost:8080/"
        },
        "id": "tJNyx6EBx5vv",
        "outputId": "5f7aab43-6868-4dc0-cc32-5ce39e5da9d4"
      },
      "execution_count": 17,
      "outputs": [
        {
          "output_type": "stream",
          "name": "stdout",
          "text": [
            "The original hsv value: [[[7.86206897 0.725      0.78431373]]]\n",
            "Converted to rgb: [[[200  74  55]]]\n"
          ]
        }
      ]
    },
    {
      "cell_type": "markdown",
      "source": [
        "Convert to OpenCV range"
      ],
      "metadata": {
        "id": "JDPwONyIzVy9"
      }
    },
    {
      "cell_type": "code",
      "source": [
        "h = 7.86206897\n",
        "s = np.interp(0.725,[0,1],[0,255])\n",
        "v = np.interp(0.784,[0,1],[0,255])\n",
        "print(\"HSV converted to OpenCv's range:\", [[[round(hsv[0,0,0]/2),round(s),round(v)]]])"
      ],
      "metadata": {
        "colab": {
          "base_uri": "https://localhost:8080/"
        },
        "id": "SeFflWi6zWUu",
        "outputId": "7383b235-aca3-4cea-fde1-259a5cafea3e"
      },
      "execution_count": 18,
      "outputs": [
        {
          "output_type": "stream",
          "name": "stdout",
          "text": [
            "HSV converted to OpenCv's range: [[[4, 185, 200]]]\n"
          ]
        }
      ]
    },
    {
      "cell_type": "markdown",
      "source": [
        "Calculate using builtin function"
      ],
      "metadata": {
        "id": "JkbsFI01zK5T"
      }
    },
    {
      "cell_type": "code",
      "source": [
        "hsv_cv = np.uint8([[[4, 185, 200]]])\n",
        "rgb_cv = cv2.cvtColor(hsv_cv,cv2.COLOR_HSV2RGB)\n",
        "print(\"OpenCv hsv:\", rgb_cv)"
      ],
      "metadata": {
        "colab": {
          "base_uri": "https://localhost:8080/"
        },
        "id": "L7V1_ksXzNpG",
        "outputId": "9f7d2062-18a5-4031-9eed-1f7e278c995b"
      },
      "execution_count": 19,
      "outputs": [
        {
          "output_type": "stream",
          "name": "stdout",
          "text": [
            "OpenCv hsv: [[[200  74  55]]]\n"
          ]
        }
      ]
    }
  ]
}