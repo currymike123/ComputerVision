{
 "cells": [
  {
   "cell_type": "code",
   "execution_count": 1,
   "metadata": {},
   "outputs": [
    {
     "name": "stdout",
     "output_type": "stream",
     "text": [
      "RGB value to convert:  [[[200  74  55]]]\n",
      "Converted HSV values from RGB:  [[[  4 185 200]]]\n"
     ]
    }
   ],
   "source": [
    "# Import the required libraries\n",
    "import numpy as np\n",
    "import cv2\n",
    "import matplotlib.pyplot as plt\n",
    "from numpy import interp\n",
    "\n",
    "# Define a function to convert RGB to HSV\n",
    "def rgb_to_hsv(rgb3d_array):\n",
    "    # Convert the 1-D RGB array to a 3-D array\n",
    "    rgb = rgb3d_array[0][0]\n",
    "\n",
    "    # Normalize RGB color values to the range [0, 1]\n",
    "    rgb = rgb / 255.0\n",
    "\n",
    "    # Initialize HSV components\n",
    "    h = 0.0\n",
    "    s = 0.0\n",
    "    v = 0.0\n",
    "\n",
    "    # Find the maximum and minimum RGB values\n",
    "    v = np.max(rgb)\n",
    "    vmin = np.min(rgb)\n",
    "\n",
    "    # Calculate saturation\n",
    "    if v > 0.0:\n",
    "        s = (v - vmin) / v\n",
    "    else:\n",
    "        s = 0.0\n",
    "\n",
    "    # Calculate the difference between V and Vmin\n",
    "    diff = v - vmin\n",
    "\n",
    "    # Determine the hue value\n",
    "    if rgb[0] == rgb[1] and rgb[1] == rgb[2]:\n",
    "        h = 0\n",
    "    elif rgb[0] == v:\n",
    "        h = 60 * (rgb[1] - rgb[2]) / diff\n",
    "    elif rgb[1] == v:\n",
    "        h = 120 + 60 * (rgb[2] - rgb[0]) / diff\n",
    "    elif rgb[2] == v:\n",
    "        h = 240 + 60 * (rgb[0] - rgb[1]) / diff\n",
    "\n",
    "    # Normalize hue to OpenCV's HSV range [0, 180]\n",
    "    h = round(h / 2)\n",
    "\n",
    "    # Normalize saturation and value to [0, 255]\n",
    "    s = round(np.interp(s, [0, 1], [0, 255]))\n",
    "    v = round(np.interp(v, [0, 1], [0, 255]))\n",
    "\n",
    "    # Return the HSV values as a 3-D array\n",
    "    return np.array([[[h, s, v]]])\n",
    "\n",
    "# Define the RGB value to convert to HSV\n",
    "rgb = np.array([[[200, 74, 55]]])\n",
    "print(\"RGB value to convert: \", rgb)  # Print the RGB value in 3-D format\n",
    "\n",
    "# Call the rgb_to_hsv function to convert RGB to HSV\n",
    "hsv = rgb_to_hsv(rgb)\n",
    "print(\"Converted HSV values from RGB: \", hsv)\n"
   ]
  },
  {
   "cell_type": "code",
   "execution_count": 2,
   "metadata": {},
   "outputs": [],
   "source": [
    "# Initialising the HSV values to convert to RGB\n",
    "hsv = [7.86206897, 0.725, 0.78431373]"
   ]
  },
  {
   "cell_type": "code",
   "execution_count": 3,
   "metadata": {},
   "outputs": [],
   "source": [
    "# Define a function to convert HSV to RGB based on the specified algorithm\n",
    "def hsv_to_rgb(hsv):\n",
    "    # Check if the input HSV values are within the specified ranges\n",
    "    if 0 <= hsv[0] < 360 and 0 <= hsv[1] < 1 and 0 <= hsv[2] < 1:\n",
    "        # Calculate the chroma (c), temporary value (x), and minimum value (m)\n",
    "        c = hsv[2] * hsv[1]\n",
    "        x = c * (1 - abs((hsv[0] / 60) % 2 - 1))\n",
    "        m = hsv[2] - c\n",
    "        \n",
    "        # Calculate RGB values based on the hue (H) value\n",
    "        if 0 <= hsv[0] < 60:\n",
    "            rgb = [c, x, 0]\n",
    "        elif 60 <= hsv[0] < 120:\n",
    "            rgb = [x, c, 0]\n",
    "        elif 120 <= hsv[0] < 180:\n",
    "            rgb = [0, c, x]\n",
    "        elif 180 <= hsv[0] < 240:\n",
    "            rgb = [0, x, c]\n",
    "        elif 240 <= hsv[0] < 300:\n",
    "            rgb = [x, 0, c]\n",
    "        else:\n",
    "            rgb = [c, 0, x]\n",
    "    else:\n",
    "        # Handle the case where HSV values are out of range\n",
    "        print(\"HSV values provided are out of range\")\n",
    "\n",
    "    # Scale and round the RGB values to the nearest integers in the range [0, 255]\n",
    "    rgb = [int((rgb[0] + m) * 255), int((rgb[1] + m) * 255), int((rgb[2] + m) * 255)]\n",
    "    \n",
    "    # Return the converted RGB values as a 1-D array\n",
    "    return rgb\n"
   ]
  },
  {
   "cell_type": "code",
   "execution_count": 4,
   "metadata": {},
   "outputs": [
    {
     "name": "stdout",
     "output_type": "stream",
     "text": [
      "Converted RGB values from HSV values [200, 74, 55]\n"
     ]
    }
   ],
   "source": [
    "rgb = hsv_to_rgb(hsv) # calling the function created above to convert HSV values to RGB\n",
    "print(\"Converted RGB values from HSV values\",rgb)"
   ]
  }
 ],
 "metadata": {
  "kernelspec": {
   "display_name": "Python 3.11.1 64-bit",
   "language": "python",
   "name": "python3"
  },
  "language_info": {
   "codemirror_mode": {
    "name": "ipython",
    "version": 3
   },
   "file_extension": ".py",
   "mimetype": "text/x-python",
   "name": "python",
   "nbconvert_exporter": "python",
   "pygments_lexer": "ipython3",
   "version": "3.11.1"
  },
  "orig_nbformat": 4,
  "vscode": {
   "interpreter": {
    "hash": "aee8b7b246df8f9039afb4144a1f6fd8d2ca17a180786b69acc140d282b71a49"
   }
  }
 },
 "nbformat": 4,
 "nbformat_minor": 2
}
