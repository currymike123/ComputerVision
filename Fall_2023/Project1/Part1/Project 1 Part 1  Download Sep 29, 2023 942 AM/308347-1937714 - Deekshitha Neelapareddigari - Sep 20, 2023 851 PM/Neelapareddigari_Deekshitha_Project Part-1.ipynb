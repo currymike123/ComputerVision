{
 "cells": [
  {
   "attachments": {},
   "cell_type": "markdown",
   "metadata": {},
   "source": [
    "# Project Part-1"
   ]
  },
  {
   "cell_type": "code",
   "execution_count": 1,
   "metadata": {},
   "outputs": [
    {
     "name": "stdout",
     "output_type": "stream",
     "text": [
      "RGB values to convert:  [[[200  74  55]]]\n",
      "Converted HSV values from RGB:  [[[  4 185 200]]]\n"
     ]
    }
   ],
   "source": [
    "#importing the required libraries\n",
    "import cv2\n",
    "import numpy as np\n",
    "import matplotlib.pyplot as plt\n",
    "\n",
    "\n",
    "def rgb_2_hsv(rgb3d):\n",
    "    # converting rgb to hsv\n",
    "    # input :  Representation of 3D array RGB values\n",
    "    # output : Representation of 3D array HSV values\n",
    "    rgb = rgb3d[0][0] #obtaining the rgb 1-D array from 3-D array\n",
    "    rgb = rgb/255\n",
    "\n",
    "    # Initialising  hsv values\n",
    "    h=0.0\n",
    "    s=0.0\n",
    "    v=0.0\n",
    "    # Calculating the MAX,MIN values\n",
    "    v=np.max(rgb)\n",
    "    v_min=np.min(rgb)\n",
    "\n",
    "    # Finding saturation values\n",
    "    if v > 0.0:\n",
    "        s = (v-v_min)/v\n",
    "    else:\n",
    "        s = 0.0\n",
    "    \n",
    "    # calculating v-vmin \n",
    "    diff = v-v_min\n",
    "    #  r,g,b equal. \n",
    "    if(rgb[0] == rgb[1] and rgb[1] == rgb[2]):\n",
    "        h = 0\n",
    "    # Finding the point within +/- 60 degrees of the red axis\n",
    "    elif(rgb[0] == v):\n",
    "        h = 60 * (rgb[1] - rgb[2]) / diff\n",
    "    # Finding the point within +/- 60 degrees of the green axis\n",
    "    elif(rgb[1] == v):\n",
    "        h = 120 + 60 * (rgb[2] - rgb[0]) / diff\n",
    "    # Finding the point within +/- 60 degrees of the blue axis\n",
    "    elif(rgb[2] == v):\n",
    "        h = 240 + 60 * (rgb[0] - rgb[1]) / diff\n",
    "    h=round(h/2)\n",
    "    #Normalizing  color values to cv2 standards\n",
    "    s = round(np.interp(s,[0,1],[0,255]))\n",
    "    v = round(np.interp(v,[0,1],[0,255]))\n",
    "    return np.array([[[h,s,v]]])\n",
    "\n",
    "# initialising RGB values and converting to HSV \n",
    "rgb = np.array([[[200,74,55]]])\n",
    "print(\"RGB values to convert: \", rgb) #printing RGB value in 3-D format\n",
    "# Call rgb_to_hsv function.  \n",
    "hsv = rgb_2_hsv(rgb) #above function is called to convert from HSV from RGB\n",
    "print(\"Converted HSV values from RGB: \",hsv)"
   ]
  },
  {
   "cell_type": "code",
   "execution_count": 2,
   "metadata": {},
   "outputs": [],
   "source": [
    "# Initialising  HSV values to convert to RGB\n",
    "hsv = [7.86206897, 0.725, 0.78431373]"
   ]
  },
  {
   "cell_type": "code",
   "execution_count": 3,
   "metadata": {},
   "outputs": [],
   "source": [
    "# Using the algorithm \n",
    "def hsv_2_rgb(hsv):\n",
    "    #  convert HSV to RGB \n",
    "    # input value: 1-D array of HSV values\n",
    "    #output value: 1-D array of RGB values[converted values]\n",
    "    if hsv[0]>=0 and hsv[0] < 360 and hsv[1]>=0 and hsv[1] < 1 and hsv[2] >=0 and hsv[2] < 1: \n",
    "        # This condition is used to check if the hsv values are used to convert in the specified ranges or not\n",
    "        # calculating the c, x, m values as per algorithm\n",
    "        c = hsv[2] * hsv[1]\n",
    "        x = c*(1 - abs((hsv[0]/60)%2-1))\n",
    "        m =hsv[2] - c\n",
    "        # The below condition calculates the RGB values based on Hue value given\n",
    "        if hsv[0] >=0 and hsv[0] < 60:\n",
    "            rgb = [c, x, 0]\n",
    "        elif hsv[0] >=60 and hsv[0] < 120:\n",
    "            rgb = [x, c, 0]\n",
    "        elif hsv[0] >=120 and hsv[0] < 180:\n",
    "            rgb = [0, c, x]\n",
    "        elif hsv[0] >=180 and hsv[0] < 240:\n",
    "            rgb = [0, x, c]\n",
    "        elif hsv[0] >=240 and hsv[0] < 300:\n",
    "            rgb = [x, 0, c]\n",
    "        else:\n",
    "            rgb = [c,0, x]\n",
    "    else:\n",
    "        print(\"HSV values provided are out of range values\")\n",
    "    # Calculating the RGB values and rounding  to nearest integers\n",
    "    rgb = [int((rgb[0]+m)*255), int((rgb[1]+m)*255), int((rgb[2]+m)*255) ]\n",
    "    return rgb #returning the converted  RGB values as the output"
   ]
  },
  {
   "cell_type": "code",
   "execution_count": 4,
   "metadata": {},
   "outputs": [
    {
     "name": "stdout",
     "output_type": "stream",
     "text": [
      "Converted RGB values from HSV values [200, 74, 55]\n"
     ]
    }
   ],
   "source": [
    "rgb = hsv_2_rgb(hsv) # calling the above function to convert from HSV values to RGB values\n",
    "print(\"Converted RGB values from HSV values\",rgb)"
   ]
  }
 ],
 "metadata": {
  "kernelspec": {
   "display_name": "Python 3",
   "language": "python",
   "name": "python3"
  },
  "language_info": {
   "codemirror_mode": {
    "name": "ipython",
    "version": 3
   },
   "file_extension": ".py",
   "mimetype": "text/x-python",
   "name": "python",
   "nbconvert_exporter": "python",
   "pygments_lexer": "ipython3",
   "version": "3.11.5"
  },
  "orig_nbformat": 4,
  "vscode": {
   "interpreter": {
    "hash": "56b7d676b384d11689c6bbd3fe7477ccb8d31ddf67c8c9377e40456132ae5361"
   }
  }
 },
 "nbformat": 4,
 "nbformat_minor": 2
}
