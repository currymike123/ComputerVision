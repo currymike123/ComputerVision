{
 "cells": [
  {
   "cell_type": "code",
   "execution_count": 1,
   "metadata": {},
   "outputs": [],
   "source": [
    "import numpy as np\n",
    "from numpy import interp\n",
    "def rgb_to_hsv(rgb):\n",
    "  # Input: rgb is an 3-D array with values in range [0,255].\n",
    "  # r = rgb[0][0][0], b = rgb[0][0][1], g = rgb[0][0][2]\n",
    "  # Output: hsv is an 1-D array [h,s,v] with values in range h = [0,180], s = [0,255], v = [0,255] - returns hsv values in OpenCv's range.\n",
    "\n",
    "  # Normalize the color RGB values to floating point values between range[0 - 1]\n",
    "  \n",
    "    rgb=rgb/255\n",
    "    \n",
    "    # Initialize HSV\n",
    "    h = 0.0\n",
    "    s = 0.0\n",
    "    v = 0.0\n",
    "\n",
    "    # To Compute the max and min RGB channel values and Compute the value (V) channel\n",
    "    v = np.max(rgb)\n",
    "    vMin = np.min(rgb)\n",
    "\n",
    "    # Compute and Set the saturation(s) channel value\n",
    "    if(v>0.0):\n",
    "      s = (v - vMin)/v\n",
    "    else:\n",
    "      s = 0.0\n",
    "\n",
    "    # Calculate (v - vMin) convenience\n",
    "    diff = (v - vMin)\n",
    "\n",
    "    # Compute the hue by the relative sizes of the RGB components\n",
    "    # Are r,g,b equal.\n",
    "    if(rgb[0][0][0] == rgb[0][0][1] and rgb[0][0][1] == rgb[0][0][2]):\n",
    "      h = 0\n",
    "    # Is the point within +/- 60 degrees of the red axis\n",
    "    elif(rgb[0][0][0] == v):\n",
    "      h = 60 * (rgb[0][0][1] - rgb[0][0][2]) / diff\n",
    "    # Is the point within +/- 60 degrees of the green axis\n",
    "    elif(rgb[0][0][1] == v):\n",
    "      h = 120 + 60 * (rgb[0][0][2] - rgb[0][0][0]) / diff\n",
    "    # IS the point within +/- 60 degrees of the blue axis\n",
    "    elif(rgb[0][0][2] == v):\n",
    "      h = 240 + 60 * (rgb[0][0][0] - rgb[0][0][1]) / diff\n",
    "\n",
    "    h=round(h/2)\n",
    "    #Normalize color values. Convert the HSV values to OpenCV's specified range values between 0 - 255\n",
    "    \n",
    "    s = np.interp(s,[0,1],[0,255])\n",
    "    v = np.interp(v,[0,1],[0,255])\n",
    "    return np.array([[[round(h),round(s),round(v)]]])"
   ]
  },
  {
   "cell_type": "code",
   "execution_count": 2,
   "metadata": {},
   "outputs": [
    {
     "name": "stdout",
     "output_type": "stream",
     "text": [
      "The original rgb value: [[[200  74  55]]]\n",
      "Converted to hsv: [[[  4 185 200]]]\n"
     ]
    }
   ],
   "source": [
    "rgb = np.uint8([[[200,74,55]]])\n",
    "# Call the rgb_to_hsv function as to pass the hsv value required.\n",
    "hsv = rgb_to_hsv(rgb)\n",
    "\n",
    "print(\"The original rgb value:\", rgb)\n",
    "print(\"Converted to hsv:\", hsv)"
   ]
  },
  {
   "cell_type": "code",
   "execution_count": 3,
   "metadata": {},
   "outputs": [
    {
     "name": "stdout",
     "output_type": "stream",
     "text": [
      "The original hsv value: [[[  4 185 200]]]\n",
      "Converted to rgb: [[[200, 74, 55]]]\n"
     ]
    }
   ],
   "source": [
    "#HSV to RGB conersion code\n",
    "#Taking/Extracting the h s v values seperately from HSV color\n",
    "h=hsv[0][0][0]\n",
    "s=hsv[0][0][1]\n",
    "v=hsv[0][0][2]\n",
    "\n",
    "# Scale H to [0, 1]\n",
    "h=h*2\n",
    "# Changing the range values from 0-255 to 0-1 of s and v\n",
    "s=np.interp(185,[0,255],[0,1])\n",
    "v=np.interp(200,[0,255],[0,1])\n",
    "\n",
    "# Assign the values c, v, m\n",
    "# Calculate the chroma value\n",
    "c=v*s\n",
    "\n",
    "# Calculate the intermediate value x from absolute of h\n",
    "x=c*(1 - abs(((h/60) % 2) - 1))\n",
    "\n",
    "# Calculating m (minimum value)\n",
    "m=v-c\n",
    "\n",
    "#Initializing the rgb array value to 0\n",
    "rgb=[0,0,0]\n",
    "\n",
    "# Calculate the RGB values based on the hue angle\n",
    "## The point when + 60 degrees of the red axis\n",
    "if(0<=h<60):\n",
    "    rgb=[c,x,0]\n",
    " # The point when + 60 degrees of the green axis\n",
    "elif(60<=h<120):\n",
    "    rgb=[x,c,0]\n",
    "# The point when + 60 degrees of the blue axis\n",
    "elif(120<=h<180):\n",
    "    rgb=[0,c,x]\n",
    "# The point when - 60 degrees of the blue axis\n",
    "elif(180<=h<240):\n",
    "    rgb=[0,x,c]\n",
    "# The point when - 60 degrees of the green axis\n",
    "elif(240<=h<300):\n",
    "    rgb=[x,0,c]\n",
    "    # The point when - 60 degrees of the red axis\n",
    "elif(300<=h<360):\n",
    "    rgb=[c,0,x]\n",
    "\n",
    "#assign values to r g b of rgb 3D-array\n",
    "r=rgb[0]\n",
    "g=rgb[1]\n",
    "b=rgb[2]\n",
    "    \n",
    "\n",
    "# Calculate the RGB values with the m value added and converting them into the range 0-255\n",
    "RGB=[[[round(((r+m)*255)),round(((g+m)*255)),round(((b+m)*255))]]]\n",
    "\n",
    "#print converted rgb values from hsv\n",
    "print(\"The original hsv value:\", hsv)\n",
    "print(\"Converted to rgb:\", RGB)"
   ]
  }
 ],
 "metadata": {
  "kernelspec": {
   "display_name": "Python 3",
   "language": "python",
   "name": "python3"
  },
  "language_info": {
   "codemirror_mode": {
    "name": "ipython",
    "version": 3
   },
   "file_extension": ".py",
   "mimetype": "text/x-python",
   "name": "python",
   "nbconvert_exporter": "python",
   "pygments_lexer": "ipython3",
   "version": "3.11.4"
  },
  "orig_nbformat": 4
 },
 "nbformat": 4,
 "nbformat_minor": 2
}
