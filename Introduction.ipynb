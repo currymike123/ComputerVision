{
 "cells": [
  {
   "cell_type": "markdown",
   "metadata": {},
   "source": [
    "# Introduction: Computer Vision\n",
    "\n",
    "This course is intended for students who want to understand the fundementals of Computer Vision.  It is open to students from all disciplines, the only requirement is a basic understanding of programming. \n",
    "\n",
    "All the programming will be done in the Python language along with the OpenCv library (https://opencv.org/). Each module will be presented in a Jupyter notebook (https://jupyter.org/) with code examples included.  \n",
    "\n",
    "Initially focusing on static images, the course will present modules in image formats and\n",
    "data structures to give students a basic knowledge on how image information is digitally stored.\n",
    "\n",
    "The course will transition into modules on the manipulation of the stored image data covering\n",
    "topics such as filtering, transforming, and sorting.\n",
    "\n",
    "With this base, the course will move into computer visions topics such as tracking, segmenation, and classification.\n"
   ]
  }
 ],
 "metadata": {
  "language_info": {
   "name": "python"
  },
  "orig_nbformat": 4
 },
 "nbformat": 4,
 "nbformat_minor": 2
}
