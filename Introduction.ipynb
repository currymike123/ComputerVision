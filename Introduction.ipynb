{
 "cells": [
  {
   "cell_type": "markdown",
   "metadata": {},
   "source": [
    "# Introduction: Computer Vision (and Graphics)\n",
    "\n",
    "This course is intended for students who want to understand the fundementals of Computer Vision & Graphics.  It is open to students from all disciplines, the only requirement is a basic understanding of programming.  The course will have extensive comments in all code that is provided.  This sudo code will guide students through the story of each program.  My aim is to relay an understanding of why, how, and when to use the tools contained in this course.  Each student should find their most comfortable level of abstraction.  From the high level to the low, their is an abundance to learn. \n",
    "\n",
    "All the programming will be done in the Python language (https://python.org) along with the OpenCv library (https://opencv.org/). Each module will be presented in a Jupyter notebook (https://jupyter.org/).  All modules are contained in this GitHub repository:  \n",
    "\n",
    "Initially focusing on static images, the course will present modules in image formats and\n",
    "data structures to give students a basic knowledge on how image information is digitally stored.\n",
    "\n",
    "The course will transition into modules on the manipulation of the stored image data covering\n",
    "topics such as filtering, transforming, and sorting.\n",
    "\n",
    "With this base, the course will move into computer visions topics such as tracking, segmenation, and classification.\n",
    "\n",
    "Class information below...\n"
   ]
  }
 ],
 "metadata": {
  "language_info": {
   "name": "python"
  },
  "orig_nbformat": 4
 },
 "nbformat": 4,
 "nbformat_minor": 2
}
