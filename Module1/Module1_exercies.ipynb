{
 "cells": [
  {
   "cell_type": "code",
   "execution_count": 28,
   "metadata": {},
   "outputs": [
    {
     "name": "stdout",
     "output_type": "stream",
     "text": [
      "Original Array:\n",
      " [[ 50  75 100]\n",
      " [125 150 175]\n",
      " [200 225 250]]\n",
      "\n",
      "Correct Slicing Format\n",
      "\n",
      "C:\n",
      " [[ 50  75]\n",
      " [125 150]\n",
      " [200 225]]\n",
      "\n",
      "D:\n",
      " [[125 150]\n",
      " [200 225]]\n"
     ]
    }
   ],
   "source": [
    "import numpy as np\n",
    "\n",
    "arr_2D = np.array([[50,75,100], [125,150,175], [200,225,250]])\n",
    "\n",
    "print(\"Original Array:\\n\",arr_2D)\n",
    "\n",
    "# Correct slicing format for desired output. \n",
    "# Both slices happening at the same time. \n",
    "# This will give you the desired output\n",
    "\n",
    "print(\"\\nCorrect Slicing Format\")\n",
    "print(\"\\nC:\\n\", arr_2D[:,:2])\n",
    "print(\"\\nD:\\n\", arr_2D[1:,:2])\n"
   ]
  }
 ],
 "metadata": {
  "kernelspec": {
   "display_name": "Python 3",
   "language": "python",
   "name": "python3"
  },
  "language_info": {
   "codemirror_mode": {
    "name": "ipython",
    "version": 3
   },
   "file_extension": ".py",
   "mimetype": "text/x-python",
   "name": "python",
   "nbconvert_exporter": "python",
   "pygments_lexer": "ipython3",
   "version": "3.9.1"
  },
  "orig_nbformat": 4
 },
 "nbformat": 4,
 "nbformat_minor": 2
}
