{
 "cells": [
  {
   "cell_type": "markdown",
   "metadata": {},
   "source": [
    "### Module 1 Answers\n",
    "\n",
    "***"
   ]
  },
  {
   "cell_type": "code",
   "execution_count": 13,
   "metadata": {},
   "outputs": [
    {
     "name": "stdout",
     "output_type": "stream",
     "text": [
      "1D array:  [ 50  75 100 125 150 175 200 225]\n",
      "2D array:  [[ 50  75 100 125]\n",
      " [150 175 200 225]]\n",
      "The array position of 150 in arr_1D is:  (array([4]),) with the value of:  150\n",
      "The array position of 150 in arr_2D is:  (array([1]), array([1])) with the value of:  150\n",
      "The shape of arr_2D is:  (3, 3)\n"
     ]
    }
   ],
   "source": [
    "# Import Libraries\n",
    "import numpy as np\n",
    "\n",
    "#(1) 50,75,100,125,150,175,200,225.  Show this sequence of values in a 1D and 2D array.\n",
    "arr_1D = np.array([50,75,100,125,150,175,200,225])\n",
    "print(\"1D array: \", arr_1D)\n",
    "arr_2D = np.array([[50,75,100,125],[150,175,200,225]])\n",
    "print(\"2D array: \", arr_2D)\n",
    "\n",
    "#(2) 50,75,100,125,150,175,200,225,250.  In a 1D array, what is the array position of the value 150?<br><br> \n",
    "arr_1D = np.array([50,75,100,125,150,175,200,225,250])\n",
    "print(\"The array position of 150 in arr_1D is: \",np.where(arr_1D == 150), \"with the value of: \",arr_1D[4])\n",
    "\n",
    "#(3) 50,75,100,125,150,175,200,225,250.  In a 3x3 2D array, what is the array position of the value 150?<br><br> \n",
    "arr_2D = np.array([[50,75,100],[125,150,175],[200,225,250]])\n",
    "print(\"The array position of 150 in arr_2D is: \",np.where(arr_2D == 150), \"with the value of: \",arr_2D[1][1])\n",
    "print(\"The shape of arr_2D is: \",arr_2D.shape)\n",
    "#(4) Find a photo from Google Images, save it as a variable, and draw it using matplotlib.<br><br> \n"
   ]
  },
  {
   "cell_type": "code",
   "execution_count": 33,
   "metadata": {},
   "outputs": [
    {
     "name": "stdout",
     "output_type": "stream",
     "text": [
      "A:\n",
      " [[100]\n",
      " [175]\n",
      " [250]]\n",
      "B:\n",
      " [[125 150 175]]\n",
      "C:\n",
      " [[ 50  75]\n",
      " [125 150]\n",
      " [200 225]]\n",
      "D:\n",
      " [[125 150]\n",
      " [200 225]]\n"
     ]
    }
   ],
   "source": [
    "'''\n",
    "(A)\n",
    "[100,175,250]\n",
    "\n",
    "(B)\n",
    "[125, 150, 175]\n",
    "\n",
    "(C)\n",
    "[[50,75]\n",
    "[125,150]\n",
    "[200,225]]\n",
    "\n",
    "(D)\n",
    "[[125 150]\n",
    "[200 225]]\n",
    "'''\n",
    "\n",
    "import numpy as np\n",
    "\n",
    "# Original 3x3 array\n",
    "arr_2d = np.array([[50, 75, 100],\n",
    "                   [125, 150, 175],\n",
    "                   [200, 225, 250]])\n",
    "\n",
    "# Answer: (A) [100,175,250]\n",
    "subbarray = arr_2d[:,2:]\n",
    "print(\"A:\\n\", subbarray)\n",
    "\n",
    "#(B)[125, 150, 175]\n",
    "subbarray = arr_2d[1:2,:]\n",
    "print(\"B:\\n\", subbarray)\n",
    "\n",
    "#(C)\n",
    "#[[50,75]\n",
    "#[125,150]\n",
    "#[200,225]]\\\n",
    "subbarray = arr_2d[:,:2]\n",
    "print(\"C:\\n\", subbarray)\n",
    "\n",
    "#(D)\n",
    "#[[125 150]\n",
    "#[200 225]]\n",
    "subbarray = arr_2d[1:3,:2]\n",
    "print(\"D:\\n\", subbarray)\n",
    "\n"
   ]
  },
  {
   "cell_type": "code",
   "execution_count": 40,
   "metadata": {},
   "outputs": [
    {
     "name": "stdout",
     "output_type": "stream",
     "text": [
      "2D array:\n",
      " [[ 0  1  2  3  4  5]\n",
      " [ 6  7  8  9 10 11]\n",
      " [12 13 14 15 16 17]\n",
      " [18 19 20 21 22 23]\n",
      " [24 25 26 27 28 29]\n",
      " [30 31 32 33 34 35]\n",
      " [36 37 38 39 40 41]\n",
      " [42 43 44 45 46 47]]\n",
      "arr_2D's shape is:  (8, 6)\n",
      "3D array:\n",
      " [[[ 0  1  2]\n",
      "  [ 3  4  5]\n",
      "  [ 6  7  8]\n",
      "  [ 9 10 11]]\n",
      "\n",
      " [[12 13 14]\n",
      "  [15 16 17]\n",
      "  [18 19 20]\n",
      "  [21 22 23]]\n",
      "\n",
      " [[24 25 26]\n",
      "  [27 28 29]\n",
      "  [30 31 32]\n",
      "  [33 34 35]]\n",
      "\n",
      " [[36 37 38]\n",
      "  [39 40 41]\n",
      "  [42 43 44]\n",
      "  [45 46 47]]]\n",
      "arr_3D's shape is:  (4, 4, 3)\n"
     ]
    }
   ],
   "source": [
    "#(6)  Create a 2-D and 3-D array with Integers 0-47. \n",
    "\n",
    "arr_2D = np.arange(48).reshape(8,6)\n",
    "print(\"2D array:\\n\", arr_2D)\n",
    "print(\"arr_2D's shape is: \",arr_2D.shape)\n",
    "\n",
    "arr_3D = np.arange(48).reshape(4,4,3)\n",
    "print(\"3D array:\\n\", arr_3D)\n",
    "print(\"arr_3D's shape is: \",arr_3D.shape)"
   ]
  }
 ],
 "metadata": {
  "kernelspec": {
   "display_name": "Python 3",
   "language": "python",
   "name": "python3"
  },
  "language_info": {
   "codemirror_mode": {
    "name": "ipython",
    "version": 3
   },
   "file_extension": ".py",
   "mimetype": "text/x-python",
   "name": "python",
   "nbconvert_exporter": "python",
   "pygments_lexer": "ipython3",
   "version": "3.9.1"
  },
  "orig_nbformat": 4
 },
 "nbformat": 4,
 "nbformat_minor": 2
}
