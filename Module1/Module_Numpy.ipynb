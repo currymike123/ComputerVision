{
 "cells": [
  {
   "cell_type": "markdown",
   "metadata": {},
   "source": [
    "# Review of Python, Lists, & NumPy\n",
    "\n",
    "\"A complex system that works is invariably found to have evolved from a simple system that worked\" &ndash; John Gall\n",
    "<hr>"
   ]
  },
  {
   "cell_type": "markdown",
   "metadata": {},
   "source": [
    "### Python\n",
    "\n",
    "Python is a high-level, general-purpose programming language. Its design philosophy emphasizes code readability with its notable use of significant whitespace. Its language constructs and object-oriented approach aim to help programmers write clear, logical code for small and large-scale projects.\n",
    "<p>\n",
    "Python is dynamically typed and garbage-collected. \n",
    "<p>\n",
    "<b>Assembly language -> C -> Python</b><p>\n",
    "\n",
    "The progression from assembly language to C to Python represents a move up the abstraction ladder in the world of programming languages. Each step abstracts away some of the lower-level details, making it easier to write complex software."
   ]
  },
  {
   "cell_type": "code",
   "execution_count": 8,
   "metadata": {},
   "outputs": [
    {
     "name": "stdout",
     "output_type": "stream",
     "text": [
      "1\n"
     ]
    }
   ],
   "source": [
    "# Define a variable\n",
    "a = 1\n",
    "print(a)"
   ]
  },
  {
   "cell_type": "code",
   "execution_count": 7,
   "metadata": {},
   "outputs": [
    {
     "name": "stdout",
     "output_type": "stream",
     "text": [
      "<class 'float'>\n"
     ]
    }
   ],
   "source": [
    "# Dynamically change the type of the variable\n",
    "print(type(a))"
   ]
  },
  {
   "cell_type": "code",
   "execution_count": 15,
   "metadata": {},
   "outputs": [
    {
     "name": "stdout",
     "output_type": "stream",
     "text": [
      "a is equal to 1\n"
     ]
    }
   ],
   "source": [
    "# Control Statements\n",
    "if a == 1:\n",
    "    print(\"a is equal to 1\")"
   ]
  },
  {
   "cell_type": "code",
   "execution_count": 23,
   "metadata": {},
   "outputs": [
    {
     "name": "stdout",
     "output_type": "stream",
     "text": [
      "What value is passed to the my_function: 1\n",
      "The returned value is: 2\n"
     ]
    }
   ],
   "source": [
    "# Functions\n",
    "def my_function(a):\n",
    "    print(\"What value is passed to the my_function:\", a)\n",
    "    # Return a value\n",
    "    return a + 1\n",
    "\n",
    "returned_value = my_function(a)\n",
    "\n",
    "print(\"The returned value is:\", returned_value)\n"
   ]
  },
  {
   "cell_type": "markdown",
   "metadata": {},
   "source": [
    "### Differences between Python Lists and NumPy Arrays\n",
    "\n",
    "Python, by default, offers a list object that can be used to represent arrays. For more advanced operations, especially for numerical tasks like matrix operations, NumPy, a third-party library, provides a more efficient and feature-rich array object.\n",
    "\n",
    "NumPy is based on two fundamental objects: an N-dimensional array object (ndarray) and a universal function object (ufunc).  An N-dimensional array is a homogeneous collection of \"items\" indexed by N integers.  There two essential pieces of metadata that define an N-dimensional array: 1) the shape of the array, and 2) the kind of items that composes the array. \n",
    "\n",
    "In this notebook, we'll explore the differences between standard Python and NumPy in terms of math and matrix operations.\n"
   ]
  },
  {
   "cell_type": "code",
   "execution_count": 28,
   "metadata": {},
   "outputs": [
    {
     "name": "stdout",
     "output_type": "stream",
     "text": [
      "Python list: [1, 2, 3]\n",
      "NumPy array: [1 2 3]\n"
     ]
    }
   ],
   "source": [
    "# They both used Brackets []\n",
    "\n",
    "# Python List\n",
    "list = [1,2,3]\n",
    "print(\"Python list:\", list)\n",
    "\n",
    "# Numpy array\n",
    "import numpy as np\n",
    "arr = np.array([1,2,3])\n",
    "print(\"NumPy array:\", arr)"
   ]
  },
  {
   "cell_type": "markdown",
   "metadata": {},
   "source": [
    "Both are zero-indexed, meaning that the first element in the array is 0, the second is 1...<p>\n",
    "\n",
    "Slicing allows us to extract a portion of the array.  It's done using the \":\" or \"...\" symbols.  The basic syntax is start:stop:step<p>\n",
    "\n",
    "<ul>\n",
    "<li>start is the index where slicing starts(inclusive)</li>\n",
    "<li>stop is the index where slicing stops(exclusive)</li>\n",
    "<li>step specifies the interval between elements.</li>\n",
    "</ul>\n",
    "\n",
    "For example, `array[2:5]` would give you elements from index 2 to 4.  `array[::2]` would give you every second element.\n"
   ]
  },
  {
   "cell_type": "code",
   "execution_count": 23,
   "metadata": {},
   "outputs": [
    {
     "name": "stdout",
     "output_type": "stream",
     "text": [
      "Python list: 1\n",
      "Numpy Array: 1\n",
      "Python list: [1, 2]\n",
      "Numpy Array: [1 2]\n"
     ]
    }
   ],
   "source": [
    "''' \n",
    "Both can access the elements with an index. All arrays in both NumPy and Python are zero-indexed, \n",
    "meaning that the first element in the array is 0, the second element is 1, and so on.\n",
    "'''\n",
    "\n",
    "# Python List\n",
    "print(\"Python list:\",list[0])\n",
    "\n",
    "# Numpy Array\n",
    "print(\"Numpy Array:\",arr[0])\n",
    "\n",
    "# And slice/filter out elements\n",
    "\n",
    "# Python List\n",
    "print(\"Python list:\",list[:2])\n",
    "\n",
    "# Numpy Array\n",
    "print(\"Numpy Array:\",arr[:2])"
   ]
  },
  {
   "cell_type": "code",
   "execution_count": 24,
   "metadata": {},
   "outputs": [
    {
     "name": "stdout",
     "output_type": "stream",
     "text": [
      "Python list: [1, 2, 3, 1, 2, 3]\n"
     ]
    }
   ],
   "source": [
    "# Python lists don't support mathematical operations\n",
    "\n",
    "list = list*2\n",
    "print(\"Python list:\", list)\n",
    "\n",
    "# Multiplication repeats the array elements"
   ]
  },
  {
   "cell_type": "code",
   "execution_count": 25,
   "metadata": {},
   "outputs": [
    {
     "name": "stdout",
     "output_type": "stream",
     "text": [
      "NumPy array: [2 4 6]\n"
     ]
    }
   ],
   "source": [
    "# NumPy array's support mathematical operations.  Very important for us!\n",
    "\n",
    "arr = arr*2\n",
    "print(\"NumPy array:\",arr)"
   ]
  },
  {
   "cell_type": "code",
   "execution_count": 27,
   "metadata": {},
   "outputs": [
    {
     "name": "stdout",
     "output_type": "stream",
     "text": [
      "uint8\n"
     ]
    }
   ],
   "source": [
    "# NumPy array's can set the data types.   Very import for us!\n",
    "arr = np.array([1,2,3], np.uint8)\n",
    "print(arr.dtype)"
   ]
  },
  {
   "cell_type": "code",
   "execution_count": 40,
   "metadata": {},
   "outputs": [
    {
     "name": "stdout",
     "output_type": "stream",
     "text": [
      "[[ 2.60605835e-31 -5.21211670e-31  1.30302917e-31]\n",
      " [-5.21211670e-31  1.13363538e-30 -3.51817877e-31]\n",
      " [ 1.30302917e-31 -3.51817877e-31  2.01969522e-31]]\n"
     ]
    }
   ],
   "source": [
    "# Create an empty array. Return a new array of given shape and type, without initializing entries.\n",
    "\n",
    "# Create an empty array\n",
    "arr = np.empty((3,3))\n",
    "print(arr)\n",
    "\n",
    "# The output are garbage values from memory.  We need to initialize the array."
   ]
  },
  {
   "cell_type": "code",
   "execution_count": 30,
   "metadata": {},
   "outputs": [
    {
     "name": "stdout",
     "output_type": "stream",
     "text": [
      "Zeros:\n",
      " [[0. 0. 0.]\n",
      " [0. 0. 0.]]\n",
      "Ones:\n",
      " [[1. 1. 1.]\n",
      " [1. 1. 1.]]\n"
     ]
    }
   ],
   "source": [
    "# Create an 2D array of zeros\n",
    "arr = np.zeros((2,3))\n",
    "print(\"Zeros:\\n\",arr)\n",
    "\n",
    "# Create an 2D array of ones\n",
    "arr = np.ones((2,3))\n",
    "print(\"Ones:\\n\",arr)"
   ]
  },
  {
   "cell_type": "code",
   "execution_count": 39,
   "metadata": {},
   "outputs": [
    {
     "name": "stdout",
     "output_type": "stream",
     "text": [
      "Range Array:\n",
      " [0 2 4 6 8]\n",
      "Linear Space Array:\n",
      " [0.   0.25 0.5  0.75 1.  ]\n"
     ]
    }
   ],
   "source": [
    "# Array with a range of values\n",
    "range_array = np.arange(0, 10, 2)\n",
    "print(\"Range Array:\\n\", range_array)\n",
    "\n",
    "# Array of evenly spaced values over a specified range\n",
    "linspace_array = np.linspace(0, 1, 5)\n",
    "print(\"Linear Space Array:\\n\", linspace_array)\n"
   ]
  },
  {
   "cell_type": "code",
   "execution_count": 65,
   "metadata": {},
   "outputs": [
    {
     "name": "stdout",
     "output_type": "stream",
     "text": [
      "1D Array:\n",
      " [ 0  1  2  3  4  5  6  7  8  9 10 11 12 13 14 15 16 17 18 19 20 21 22 23\n",
      " 24 25 26 27 28 29 30 31 32 33 34 35 36 37 38 39 40 41 42 43 44 45 46 47\n",
      " 48 49 50 51 52 53 54 55 56 57 58 59]\n"
     ]
    }
   ],
   "source": [
    "array = np.arange(60)\n",
    "print(\"1D Array:\\n\", array)"
   ]
  },
  {
   "cell_type": "code",
   "execution_count": 52,
   "metadata": {},
   "outputs": [
    {
     "name": "stdout",
     "output_type": "stream",
     "text": [
      "3D Array:\n",
      " [[[ 0  1  2  3  4]\n",
      "  [ 5  6  7  8  9]\n",
      "  [10 11 12 13 14]\n",
      "  [15 16 17 18 19]]\n",
      "\n",
      " [[20 21 22 23 24]\n",
      "  [25 26 27 28 29]\n",
      "  [30 31 32 33 34]\n",
      "  [35 36 37 38 39]]\n",
      "\n",
      " [[40 41 42 43 44]\n",
      "  [45 46 47 48 49]\n",
      "  [50 51 52 53 54]\n",
      "  [55 56 57 58 59]]]\n"
     ]
    }
   ],
   "source": [
    "reshaped_array = array.reshape(3,4,5)\n",
    "print(\"3D Array:\\n\", reshaped_array)"
   ]
  },
  {
   "cell_type": "code",
   "execution_count": 63,
   "metadata": {},
   "outputs": [
    {
     "name": "stdout",
     "output_type": "stream",
     "text": [
      "[[40 41 42 43 44]\n",
      " [45 46 47 48 49]\n",
      " [50 51 52 53 54]\n",
      " [55 56 57 58 59]]\n"
     ]
    }
   ],
   "source": [
    "\n",
    "print(reshaped_array[2,:,:])"
   ]
  },
  {
   "cell_type": "code",
   "execution_count": 61,
   "metadata": {},
   "outputs": [
    {
     "name": "stdout",
     "output_type": "stream",
     "text": [
      "3D Array:\n",
      " [[[ 0  1  2  3  4]\n",
      "  [ 5  6  7  8  9]\n",
      "  [10 11 12 13 14]\n",
      "  [15 16 17 18 19]]\n",
      "\n",
      " [[20 21 22 23 24]\n",
      "  [25 26 27 28 29]\n",
      "  [30 31 32 33 34]\n",
      "  [35 36 37 38 39]]\n",
      "\n",
      " [[40 41 42 43 44]\n",
      "  [45 46 47 48 49]\n",
      "  [50 51 52 53 54]\n",
      "  [55 56 57 58 59]]]\n",
      "\n",
      "The third column of each dimension:\n",
      "  [[ 3  8 13 18]\n",
      " [23 28 33 38]\n",
      " [43 48 53 58]]\n"
     ]
    }
   ],
   "source": [
    "'''\n",
    "The first index is the row, \n",
    "the second index is the column, \n",
    "and the third index is the depth.\n",
    "'''\n",
    "print(\"3D Array:\\n\", reshaped_array)\n",
    "\n",
    "\n",
    "print(\"\\nThe third column of each dimension:\\n \",reshaped_array[...,3])\n"
   ]
  },
  {
   "cell_type": "code",
   "execution_count": 64,
   "metadata": {},
   "outputs": [
    {
     "name": "stdout",
     "output_type": "stream",
     "text": [
      "3D Array:\n",
      " [[[ 0  1  2  3  4]\n",
      "  [ 5  6  7  8  9]\n",
      "  [10 11 12 13 14]\n",
      "  [15 16 17 18 19]]\n",
      "\n",
      " [[20 21 22 23 24]\n",
      "  [25 26 27 28 29]\n",
      "  [30 31 32 33 34]\n",
      "  [35 36 37 38 39]]\n",
      "\n",
      " [[40 41 42 43 44]\n",
      "  [45 46 47 48 49]\n",
      "  [50 51 52 53 54]\n",
      "  [55 56 57 58 59]]]\n",
      "\n",
      "The third column of each dimension:\n",
      "  [[ 3  8 13 18]\n",
      " [23 28 33 38]\n",
      " [43 48 53 58]]\n"
     ]
    }
   ],
   "source": [
    "'''\n",
    "The first index is the row, \n",
    "the second index is the column, \n",
    "and the third index is the depth.\n",
    "'''\n",
    "print(\"3D Array:\\n\", reshaped_array)\n",
    "\n",
    "\n",
    "print(\"\\nThe third column of each dimension:\\n \",reshaped_array[:,:,3])\n"
   ]
  },
  {
   "cell_type": "code",
   "execution_count": 54,
   "metadata": {},
   "outputs": [
    {
     "name": "stdout",
     "output_type": "stream",
     "text": [
      "[23 28 33 38]\n"
     ]
    }
   ],
   "source": [
    "print(reshaped_array[1,...,3])"
   ]
  },
  {
   "cell_type": "code",
   "execution_count": 56,
   "metadata": {},
   "outputs": [
    {
     "name": "stdout",
     "output_type": "stream",
     "text": [
      "[[ 3  8 13 18]\n",
      " [23 28 33 38]\n",
      " [43 48 53 58]]\n"
     ]
    }
   ],
   "source": [
    "print(reshaped_array[:,:,3])"
   ]
  },
  {
   "cell_type": "code",
   "execution_count": 57,
   "metadata": {},
   "outputs": [
    {
     "name": "stdout",
     "output_type": "stream",
     "text": [
      "[[ 0  2  4]\n",
      " [10 12 14]]\n"
     ]
    }
   ],
   "source": [
    "print(reshaped_array[0,::2,::2])"
   ]
  },
  {
   "cell_type": "code",
   "execution_count": 42,
   "metadata": {},
   "outputs": [
    {
     "name": "stdout",
     "output_type": "stream",
     "text": [
      "Sum: 10\n",
      "\n",
      "Mean: 2.5\n"
     ]
    }
   ],
   "source": [
    "# Statistical Functions\n",
    "\n",
    "# Sum\n",
    "sum_val = np.sum(np.array([1,2,3,4]))\n",
    "print(\"Sum:\", sum_val)\n",
    "\n",
    "# Mean\n",
    "mean_val = np.mean(np.array([1,2,3,4]))\n",
    "print(\"\\nMean:\", mean_val)\n"
   ]
  },
  {
   "cell_type": "markdown",
   "metadata": {},
   "source": [
    "### Matrices"
   ]
  },
  {
   "cell_type": "code",
   "execution_count": 42,
   "metadata": {},
   "outputs": [
    {
     "name": "stdout",
     "output_type": "stream",
     "text": [
      "A:\n",
      " [[1 2]\n",
      " [3 4]]\n",
      "B:\n",
      " [[2 0]\n",
      " [0 2]]\n"
     ]
    }
   ],
   "source": [
    "\n",
    "import numpy as np\n",
    "\n",
    "# Create two 2x2 matrices\n",
    "A = np.array([[1, 2], [3, 4]])\n",
    "B = np.array([[2, 0], [0, 2]])\n",
    "\n",
    "print(\"A:\\n\",A)\n",
    "\n",
    "print(\"B:\\n\",B)"
   ]
  },
  {
   "cell_type": "code",
   "execution_count": 11,
   "metadata": {},
   "outputs": [
    {
     "name": "stdout",
     "output_type": "stream",
     "text": [
      "Addition:\n",
      " [[3 2]\n",
      " [3 6]]\n",
      "\n",
      "Subtraction:\n",
      " [[-1  2]\n",
      " [ 3  2]]\n"
     ]
    }
   ],
   "source": [
    "# Addition\n",
    "C = A + B\n",
    "print(\"Addition:\\n\", C)\n",
    "\n",
    "# Subtraction\n",
    "D = A - B\n",
    "print(\"\\nSubtraction:\\n\", D)\n"
   ]
  },
  {
   "cell_type": "code",
   "execution_count": 45,
   "metadata": {},
   "outputs": [
    {
     "name": "stdout",
     "output_type": "stream",
     "text": [
      "A:\n",
      " [[1 2]\n",
      " [3 4]]\n",
      "B:\n",
      " [[2 0]\n",
      " [0 2]]\n",
      "\n",
      "Dot:\n",
      " [[2 4]\n",
      " [6 8]]\n"
     ]
    }
   ],
   "source": [
    "\n",
    "'''\n",
    "A\n",
    "[1, 2] \n",
    "[3, 4]\n",
    "\n",
    "B\n",
    "[2, 0]\n",
    "[0, 2]\n",
    "\n",
    "# 1 x 2 + 2 x 0 = 2\n",
    "# 1 x 0 + 2 x 2 = 4\n",
    "# 3 x 2 + 4 x 0 = 6\n",
    "# 3 x 0 + 4 x 2 = 8\n",
    "\n",
    "'''\n",
    "\n",
    "print(\"A:\\n\",A)\n",
    "\n",
    "print(\"B:\\n\",B)\n",
    "\n",
    "# Multiplication\n",
    "E = np.dot(A, B)\n",
    "print(\"\\nDot:\\n\", E)\n"
   ]
  },
  {
   "cell_type": "code",
   "execution_count": 33,
   "metadata": {},
   "outputs": [
    {
     "name": "stdout",
     "output_type": "stream",
     "text": [
      "A:\n",
      " [[1 2]\n",
      " [3 4]]\n",
      "B:\n",
      " [[2 0]\n",
      " [0 2]]\n",
      "\n",
      "Element-wise multiplication:\n",
      " [[2 0]\n",
      " [0 8]]\n"
     ]
    }
   ],
   "source": [
    "print(\"A:\\n\",A)\n",
    "\n",
    "print(\"B:\\n\",B)\n",
    "\n",
    "# Element-wise multiplication\n",
    "F = A * B\n",
    "print(\"\\nElement-wise multiplication:\\n\", F)\n",
    "\n"
   ]
  },
  {
   "cell_type": "code",
   "execution_count": 46,
   "metadata": {},
   "outputs": [
    {
     "name": "stdout",
     "output_type": "stream",
     "text": [
      "A:\n",
      " [[1 2]\n",
      " [3 4]]\n",
      "\n",
      "Transpose of A:\n",
      " [[1 3]\n",
      " [2 4]]\n"
     ]
    }
   ],
   "source": [
    "print(\"A:\\n\",A)\n",
    "\n",
    "# Transpose\n",
    "G = A.T\n",
    "print(\"\\nTranspose of A:\\n\", G)"
   ]
  },
  {
   "cell_type": "markdown",
   "metadata": {},
   "source": [
    "### Slicing"
   ]
  },
  {
   "cell_type": "code",
   "execution_count": null,
   "metadata": {},
   "outputs": [],
   "source": []
  }
 ],
 "metadata": {
  "kernelspec": {
   "display_name": "Python 3",
   "language": "python",
   "name": "python3"
  },
  "language_info": {
   "codemirror_mode": {
    "name": "ipython",
    "version": 3
   },
   "file_extension": ".py",
   "mimetype": "text/x-python",
   "name": "python",
   "nbconvert_exporter": "python",
   "pygments_lexer": "ipython3",
   "version": "3.9.1"
  },
  "orig_nbformat": 4
 },
 "nbformat": 4,
 "nbformat_minor": 2
}
