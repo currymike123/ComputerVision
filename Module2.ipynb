{
 "cells": [
  {
   "cell_type": "markdown",
   "metadata": {},
   "source": [
    "# Module 2: Stepping Through An Image\n",
    "\n",
    "\"The basic technical distinction between analog(continous) and digital(discrete) representations is crucial(...)&ndash;  Rolling down a ramp is continous motion, but walking down stairs is a sequence of discrete steps&ndash;so you can count the number of steps, but not the number of levels on the ramp.\" &ndash; William Mitchell (The Reconfigured Eye)\n",
    "****"
   ]
  },
  {
   "cell_type": "markdown",
   "metadata": {},
   "source": [
    "### The Discrete Digital World\n",
    "\n",
    "In the previous Module we examed a 200 x 200 digital image with a total of 40,000 individual pixels.  This is a key point to understand as we move into searching, transforming, and making predictions from digital image data. We can add more and more pixels to our grid to increase the resolution of our image but it will always have a set upper limit stored in an integer, in our case 40,000.  There is never a fraction of a pixel, we are dealing only with whole numbers.  The discrete nature of our data allows us to step through each individual pixel preforming whatever operation is desired.  "
   ]
  },
  {
   "cell_type": "markdown",
   "metadata": {},
   "source": [
    "Introduction of lopping through the pixel array. Searching.  "
   ]
  }
 ],
 "metadata": {
  "language_info": {
   "name": "python"
  },
  "orig_nbformat": 4
 },
 "nbformat": 4,
 "nbformat_minor": 2
}
