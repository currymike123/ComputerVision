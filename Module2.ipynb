{
 "cells": [
  {
   "cell_type": "markdown",
   "metadata": {},
   "source": [
    "# Module 2: Stepping Through An Image\n",
    "\n",
    "\"The basic technical distinction between analog(continous) and digital(discrete) representations is crucial(...).  Rolling down a ramp is continous motion, but walking down stairs is a sequence of discrete steps&ndash;so you can count the number of steps, but not the number of levels on the ramp.\" &ndash;William Mitchell (The Reconfigured Eye)\n",
    "****"
   ]
  }
 ],
 "metadata": {
  "language_info": {
   "name": "python"
  },
  "orig_nbformat": 4
 },
 "nbformat": 4,
 "nbformat_minor": 2
}
