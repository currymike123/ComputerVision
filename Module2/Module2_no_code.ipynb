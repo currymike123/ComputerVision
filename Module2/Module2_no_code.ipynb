{
 "cells": [
  {
   "cell_type": "markdown",
   "metadata": {},
   "source": [
    "# Module 2: Stepping Through An Image\n",
    "\n",
    "\"The basic technical distinction between analog(continous) and digital(discrete) representations is crucial(...)&ndash;  Rolling down a ramp is continous motion, but walking down stairs is a sequence of discrete steps&ndash;so you can count the number of steps, but not the number of levels on the ramp.\" &ndash; William Mitchell (The Reconfigured Eye)\n",
    "****"
   ]
  },
  {
   "cell_type": "markdown",
   "metadata": {},
   "source": [
    "### The Discrete Digital World\n",
    "\n",
    "In the previous Module we examined a 200 x 200 digital image with a total of 40,000 individual pixels.  This is a key point to understand as we move into searching, transforming, and making predictions from digital image data. We can add more and more pixels to our grid to increase the resolution of our image but it will always have a set upper limit.  In our case this will be 40,000. There is never a fraction or negative value assigned to a pixel.  We are dealing only with whole numbers or non-negative real numbers.  The discrete nature of our data allows us to step through each individual pixel performing whichever operation is desired.  \n",
    "\n",
    "First let's draw our image."
   ]
  },
  {
   "cell_type": "code",
   "execution_count": null,
   "metadata": {},
   "outputs": [],
   "source": []
  },
  {
   "cell_type": "markdown",
   "metadata": {},
   "source": [
    "### The Step\n",
    "\n",
    "To step through all the pixel values we need a control statement to tell the computer which values to iterate through.  \n",
    "\n",
    "If the values are in a 2D array we would want the following statment:<p>\n",
    "\n",
    "+ For each row in our grid.<br>\n",
    "+ Visit each pixel in the row. <br>\n",
    "\n",
    "A **For Loop** is the perfect programming tool to use for this statement.  A for loop requires three pieces of information: the data you want it to itereate through, the index to start at, and the index to end at.\n",
    "\n",
    "In Python we write a for loop in the following manner:\n",
    "\n",
    "for ***data*** in range(***starting index***, ***ending index***): \n",
    "\n",
    "Examining our statement we need to iterate through both the rows and individual pixels.  So we need two for loops to accomplish this statement.  This is called a **nested for loop**.\n",
    "\n",
    "Sudo Code:<br>\n",
    "For each row in our grid.<br>\n",
    "Visit each pixel in the row. <br>\n",
    "\n",
    "Python:<br>\n",
    "for row in range(0, height):<br>\n",
    "&nbsp;&nbsp;&nbsp;&nbsp;for pixel in range(0, width):<br>\n",
    "\n",
    "Notice the spacing in the Python code.  A tab is used to indicate that one for loop is nested inside the other for loop.  \n",
    "\n",
    "The row is the first dimension in our array and the pixel is the second dimension.  \n",
    "\n",
    "image[row][pixel]\n",
    "\n",
    "Let's use a nested for loop to step through all the pixels in our image."
   ]
  },
  {
   "cell_type": "code",
   "execution_count": null,
   "metadata": {},
   "outputs": [],
   "source": []
  },
  {
   "cell_type": "markdown",
   "metadata": {},
   "source": [
    "Let's search for black and white pixels in our image. "
   ]
  },
  {
   "cell_type": "code",
   "execution_count": null,
   "metadata": {},
   "outputs": [],
   "source": []
  },
  {
   "cell_type": "code",
   "execution_count": null,
   "metadata": {},
   "outputs": [],
   "source": []
  },
  {
   "cell_type": "markdown",
   "metadata": {},
   "source": [
    "### Results\n",
    "\n",
    "There are 5 white pixels and 401 black pixels.  Visually this makes sense, the large dark areas in her hair must be where most of the black values exist.  Her eyes may look like they are filled with white but our data is telling us different.  Her eyes would contain more than 5 white pixels.  It's good to remember that our monitors can not produce a 100% accurate reproduction of our image data and every human's eyes will interpret color differently.  \n",
    "\n",
    "Let's turn 401 black pixels to red (255,0,0) so we can view where they are in the image and see if at least one of our assumptions is right. "
   ]
  },
  {
   "cell_type": "code",
   "execution_count": null,
   "metadata": {},
   "outputs": [],
   "source": []
  },
  {
   "cell_type": "markdown",
   "metadata": {},
   "source": [
    "### Our First Image Filter\n",
    "\n",
    "So far we have searched the pixel array for values that exactly match black or white.  What if you wanted to select all pixels above a certain brightness value?  This seems like a useful tool if you wanted to select those light values in her eyes and face that are not quite 100% white or the dark areas that make up her hair.  The segmenting of an image by it's brightness is called **Thresholding**.  \n",
    "\n",
    "To perform the Threshold filter on our image we set a fixed value as your dividing point between selected pixels and deselected pixels.  If your pixel value(s) are above the brightness threshold they are set to white and if they are below they are set to black.  A Threshold filter returns a binary image.\n",
    "\n",
    " Let's first convert our RGB image to greyscale so the brightness is saved in the pixel value.  The following code will take you through the process. "
   ]
  },
  {
   "cell_type": "code",
   "execution_count": null,
   "metadata": {},
   "outputs": [],
   "source": []
  },
  {
   "cell_type": "code",
   "execution_count": null,
   "metadata": {},
   "outputs": [],
   "source": []
  },
  {
   "cell_type": "code",
   "execution_count": null,
   "metadata": {},
   "outputs": [],
   "source": []
  },
  {
   "cell_type": "code",
   "execution_count": null,
   "metadata": {},
   "outputs": [],
   "source": []
  },
  {
   "cell_type": "markdown",
   "metadata": {},
   "source": [
    "### Exercises\n",
    "\n",
    "**(1)** Search for all the white pixels in the provided image.  Save there locations in a 2-D Array.<br><br> \n",
    "**(2)** Convert the provided image to greyscale.  Count how many pixels are above the brightness threshold of 100.  Then change the threshold to 150 and count how many pixels are below.  Print both counts. <br>  \n"
   ]
  }
 ],
 "metadata": {
  "kernelspec": {
   "display_name": "Python 3.9.1 64-bit",
   "language": "python",
   "name": "python3"
  },
  "language_info": {
   "codemirror_mode": {
    "name": "ipython",
    "version": 3
   },
   "file_extension": ".py",
   "mimetype": "text/x-python",
   "name": "python",
   "nbconvert_exporter": "python",
   "pygments_lexer": "ipython3",
   "version": "3.9.1"
  },
  "orig_nbformat": 4,
  "vscode": {
   "interpreter": {
    "hash": "949777d72b0d2535278d3dc13498b2535136f6dfe0678499012e853ee9abcab1"
   }
  }
 },
 "nbformat": 4,
 "nbformat_minor": 2
}
