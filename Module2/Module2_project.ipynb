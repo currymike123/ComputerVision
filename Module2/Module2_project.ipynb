{
 "cells": [
  {
   "attachments": {},
   "cell_type": "markdown",
   "metadata": {},
   "source": [
    "### Module 2 In class Project\n",
    "****\n",
    "\n",
    "1) Combine your RGB to HSV function from Assignment 2 with the nested pixel loop from Module 2.\n",
    "2) Then apply it to your image pipeline.\n",
    "\n",
    "You should be able to send a\n",
    "\n",
    "Extra Credit\n",
    "1) Create a BGR to RGB function within the nested pixel loop. \n",
    "2) Apply it to your image pipeline.\n",
    "\n",
    "Due Date:\n",
    "March 10th"
   ]
  }
 ],
 "metadata": {
  "kernelspec": {
   "display_name": "Python 3",
   "language": "python",
   "name": "python3"
  },
  "language_info": {
   "name": "python",
   "version": "3.9.1"
  },
  "orig_nbformat": 4,
  "vscode": {
   "interpreter": {
    "hash": "949777d72b0d2535278d3dc13498b2535136f6dfe0678499012e853ee9abcab1"
   }
  }
 },
 "nbformat": 4,
 "nbformat_minor": 2
}
