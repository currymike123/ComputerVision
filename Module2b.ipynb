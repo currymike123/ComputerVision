{
 "cells": [
  {
   "attachments": {},
   "cell_type": "markdown",
   "metadata": {},
   "source": [
    "# Image Interpolation\n",
    "\n",
    "****"
   ]
  },
  {
   "attachments": {},
   "cell_type": "markdown",
   "metadata": {},
   "source": [
    "**Interpolation** is a method of constructing (finding) new data points based on the range of a discrete set of known data points. In image processing we are filling in the gaps in our pixel data when resize the image.  Either adding pixels when the image is upsized or removing them when it is downsized.  Information is always lost when a resizing occurs, interpolation tries to make the best guess to fill in the gaps from the lost data.\n",
    "\n",
    "<img src=\"Graphics/interpolation.png\">\n",
    "How do we fill in the missing values?"
   ]
  },
  {
   "attachments": {},
   "cell_type": "markdown",
   "metadata": {},
   "source": [
    "### Linear Interpolation\n",
    "\n",
    "<b>Linear interpolation</b> is a method of using linear polynomials to construct new data points within the range of a discrete set of known data points.\n",
    "\n",
    "<img src=\"Graphics/lerp.png\">"
   ]
  },
  {
   "attachments": {},
   "cell_type": "markdown",
   "metadata": {},
   "source": [
    "### Nearest Neighbor\n",
    "\n",
    "The nearest neighbor algorithm selects the value of the nearest point and does not consider the values of neighboring points at all.  A very simple algorithm with a fast execution time used in real-time rendering.<p>\n",
    "<img src=\"Graphics/nn_1.png\">\n",
    "<p><p>\n",
    "\n",
    "\n",
    "#### Nearest Neighbor Pseudoscope\n",
    "<img src=\"Graphics/grid-nn.png\"><p>\n",
    "````\n",
    "If (K-B < B+1-K)\n",
    "\n",
    "    Pixel is one of the top two.\n",
    "\n",
    "Else\n",
    "\n",
    "    Pixel is one of the bottom two.\n",
    "\n",
    "ENDIF\n",
    "\n",
    "IF (J-A < A+1-J)\n",
    "\n",
    "    Pixel is one of the left two.\n",
    "\n",
    "Else \n",
    "\n",
    "    Pixel is one of the right two.\n",
    "\n",
    "ENDIF\n",
    "````\n",
    "\n",
    "\n"
   ]
  }
 ],
 "metadata": {
  "kernelspec": {
   "display_name": "Python 3",
   "language": "python",
   "name": "python3"
  },
  "language_info": {
   "name": "python",
   "version": "3.9.1"
  },
  "orig_nbformat": 4,
  "vscode": {
   "interpreter": {
    "hash": "949777d72b0d2535278d3dc13498b2535136f6dfe0678499012e853ee9abcab1"
   }
  }
 },
 "nbformat": 4,
 "nbformat_minor": 2
}
