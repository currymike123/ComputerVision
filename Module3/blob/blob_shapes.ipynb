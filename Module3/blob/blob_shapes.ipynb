{
 "cells": [
  {
   "cell_type": "code",
   "execution_count": null,
   "metadata": {},
   "outputs": [],
   "source": [
    "import cv2\n",
    "import numpy as np\n",
    "import matplotlib.pyplot as plt\n",
    "# from ipywidgets import interact, IntSlider\n",
    "# import ipywidgets\n",
    "import ipywidgets as widgets\n",
    "from ipywidgets import interact, interact_manual, IntSlider, FloatSlider, Layout, Button, Box, HBox, VBox, Label, interactive\n",
    "\n",
    "# Load the image outside the function so it's not repeatedly loaded\n",
    "image = cv2.imread('blob_shapes.png')\n",
    "image = cv2.cvtColor(image, cv2.COLOR_BGR2RGB)  # Convert from BGR to RGB\n",
    "\n",
    "def detect_blobs(lower_hue=0, upper_hue=10, lower_saturation=120, upper_saturation=255, lower_value=70, upper_value=255):\n",
    "    # Convert the image to HSV\n",
    "    hsv = cv2.cvtColor(image, cv2.COLOR_RGB2HSV)\n",
    "\n",
    "    # Define the range of HSV values you're interested in\n",
    "    lower_range = np.array([lower_hue, lower_saturation, lower_value])\n",
    "    upper_range = np.array([upper_hue, upper_saturation, upper_value])\n",
    "    \n",
    "    # Create a mask for the HSV range\n",
    "    mask = cv2.inRange(hsv, lower_range, upper_range)\n",
    "    \n",
    "    # Set up SimpleBlobDetector parameters\n",
    "    blob_params = cv2.SimpleBlobDetector_Params()\n",
    "    # Set your blob detection parameters here\n",
    "\n",
    "    # Create a SimpleBlobDetector\n",
    "    detector = cv2.SimpleBlobDetector_create(blob_params)\n",
    "    \n",
    "    # Use the mask to find the blobs and get the keypoints\n",
    "    keypoints = detector.detect(mask)\n",
    "    \n",
    "    # Draw detected blobs as red circles on the original image\n",
    "    image_with_keypoints = cv2.drawKeypoints(image, keypoints, np.array([]), (255,0,0), cv2.DRAW_MATCHES_FLAGS_DRAW_RICH_KEYPOINTS)\n",
    "    \n",
    "    # Show the output image\n",
    "    plt.figure(figsize=(10,10))\n",
    "    plt.imshow(image_with_keypoints)\n",
    "    plt.axis('off') # Hide axes\n",
    "    plt.show()\n",
    "\n",
    "# Create sliders for the parameters\n",
    "interact(detect_blobs,\n",
    "         lower_hue=IntSlider(min=0, max=180, step=1, value=0, continuous_update=False),\n",
    "         upper_hue=IntSlider(min=0, max=180, step=1, value=10, continuous_update=False),\n",
    "         lower_saturation=IntSlider(min=0, max=255, step=1, value=120, continuous_update=False),\n",
    "         upper_saturation=IntSlider(min=0, max=255, step=1, value=255, continuous_update=False),\n",
    "         lower_value=IntSlider(min=0, max=255, step=1, value=70, continuous_update=False),\n",
    "         upper_value=IntSlider(min=0, max=255, step=1, value=255, continuous_update=False))\n"
   ]
  }
 ],
 "metadata": {
  "kernelspec": {
   "display_name": "Python 3",
   "language": "python",
   "name": "python3"
  },
  "language_info": {
   "codemirror_mode": {
    "name": "ipython",
    "version": 3
   },
   "file_extension": ".py",
   "mimetype": "text/x-python",
   "name": "python",
   "nbconvert_exporter": "python",
   "pygments_lexer": "ipython3",
   "version": "3.9.1"
  }
 },
 "nbformat": 4,
 "nbformat_minor": 2
}
