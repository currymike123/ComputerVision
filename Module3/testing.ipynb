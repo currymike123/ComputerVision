{
 "cells": [
  {
   "cell_type": "code",
   "execution_count": 1,
   "metadata": {},
   "outputs": [
    {
     "name": "stdout",
     "output_type": "stream",
     "text": [
      "/usr/local/bin/python\n",
      "Python version\n",
      "3.9.1 (v3.9.1:1e5d33e9b9, Dec  7 2020, 12:10:52) \n",
      "[Clang 6.0 (clang-600.0.57)]\n",
      "Version info.\n",
      "sys.version_info(major=3, minor=9, micro=1, releaselevel='final', serial=0)\n",
      "Can't receive frame (stream end?). Exiting ...\n"
     ]
    },
    {
     "ename": "",
     "evalue": "",
     "output_type": "error",
     "traceback": [
      "\u001b[1;31mThe Kernel crashed while executing code in the the current cell or a previous cell. Please review the code in the cell(s) to identify a possible cause of the failure. Click <a href='https://aka.ms/vscodeJupyterKernelCrash'>here</a> for more info. View Jupyter <a href='command:jupyter.viewOutput'>log</a> for further details."
     ]
    }
   ],
   "source": [
    "import cv2\n",
    "import numpy as np\n",
    "import sys\n",
    "print(sys.executable)\n",
    "\n",
    "# Print the Python version\n",
    "print(\"Python version\")\n",
    "print(sys.version)\n",
    "\n",
    "# Print just the version number\n",
    "print(\"Version info.\")\n",
    "print(sys.version_info)\n",
    "\n",
    "# Video capture from file\n",
    "cap = cv2.VideoCapture(\"apple.mp4\")\n",
    "\n",
    "# Check if the video file opened successfully\n",
    "if not cap.isOpened():\n",
    "    print(\"Error: Could not open video.\")\n",
    "    exit()\n",
    "\n",
    "while True:\n",
    "    # Capture frame-by-frame\n",
    "    ret, frame = cap.read()\n",
    "\n",
    "    # If the frame is not retrieved, then we've reached the end of the video\n",
    "    if not ret:\n",
    "        print(\"Can't receive frame (stream end?). Exiting ...\")\n",
    "        break\n",
    "\n",
    "    # Convert the frame to grayscale (required for Canny)\n",
    "    gray = cv2.cvtColor(frame, cv2.COLOR_BGR2GRAY)\n",
    "\n",
    "    # Apply Canny edge detection; you might have to adjust the thresholds\n",
    "    edges = cv2.Canny(gray, 100, 200)\n",
    "\n",
    "    # This finds contours in the edged image. Contours are curves joining continuous points with the same color.\n",
    "    contours, _ = cv2.findContours(edges, cv2.RETR_EXTERNAL, cv2.CHAIN_APPROX_SIMPLE)\n",
    "\n",
    "    # Draw each contour only for visualisation purposes\n",
    "    for contour in contours:\n",
    "        # Here we are using boundingRect method to get the coordinates of the bounding box around the object (contour)\n",
    "        x, y, w, h = cv2.boundingRect(contour)\n",
    "        \n",
    "        # Check if the size of the contour is large enough, considering noise and other smaller objects\n",
    "        if cv2.contourArea(contour) > 25:  # this value (20) is arbitrary and depends on the object size in the video\n",
    "            cv2.rectangle(frame, (x, y), (x + w, y + h), (0, 255, 0), 2)\n",
    "    \n",
    "\n",
    "    # Display the original frame with the drawn contours\n",
    "    cv2.imshow('Frame with tracked object', frame)\n",
    "\n",
    "    # Check for 'q' key to quit the loop\n",
    "    if cv2.waitKey(1) & 0xFF == ord('q'):\n",
    "        break\n",
    "\n",
    "# When everything is done, release the capture\n",
    "cap.release()\n",
    "cv2.destroyAllWindows()\n"
   ]
  }
 ],
 "metadata": {
  "kernelspec": {
   "display_name": "Python 3",
   "language": "python",
   "name": "python3"
  },
  "language_info": {
   "codemirror_mode": {
    "name": "ipython",
    "version": 3
   },
   "file_extension": ".py",
   "mimetype": "text/x-python",
   "name": "python",
   "nbconvert_exporter": "python",
   "pygments_lexer": "ipython3",
   "version": "3.9.1"
  },
  "orig_nbformat": 4
 },
 "nbformat": 4,
 "nbformat_minor": 2
}
