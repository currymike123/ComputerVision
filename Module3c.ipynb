{
 "cells": [
  {
   "attachments": {},
   "cell_type": "markdown",
   "metadata": {},
   "source": [
    "## Morphology\n",
    "\n",
    "****"
   ]
  },
  {
   "attachments": {},
   "cell_type": "markdown",
   "metadata": {},
   "source": [
    "Morphology in OpenCV refers to a set of image processing operations that manipulate the shape and structure of objects in an image. These operations are based on mathematical morphology, which is a branch of mathematical theory that deals with the shape and structure of objects.\n",
    "\n",
    "Morphological operations in OpenCV are typically performed on binary images, where each pixel is either black (0) or white (255). The most common morphological operations in OpenCV are erosion, dilation, opening, and closing.\n",
    "\n",
    "Erosion is a morphological operation that shrinks the object boundaries by removing the pixels from the edges of the object. Erosion can be used to remove small objects or thin lines from an image.\n",
    "\n",
    "Dilation is a morphological operation that expands the object boundaries by adding pixels to the edges of the object. Dilation can be used to fill small gaps in an object or to connect nearby objects.\n",
    "\n",
    "Opening is a morphological operation that performs an erosion followed by a dilation on an image. Opening can be used to remove small objects or thin lines from an image while preserving the larger objects.\n",
    "\n",
    "Closing is a morphological operation that performs a dilation followed by an erosion on an image. Closing can be used to fill small gaps in an object or to connect nearby objects while preserving the larger objects.\n",
    "\n",
    "Morphological operations in OpenCV can be performed using functions such as cv2.erode(), cv2.dilate(), cv2.morphologyEx(), etc. These functions take as input a binary image and a kernel, which is a structuring element that defines the shape and size of the operation. The kernel can be a simple 3x3 or 5x5 matrix, or a custom-shaped kernel can also be used."
   ]
  },
  {
   "attachments": {},
   "cell_type": "markdown",
   "metadata": {},
   "source": [
    "If the edges detected by the Canny edge detector do not completely go around a face, you can extend them using morphological operations in OpenCV. \n",
    "\n",
    "In this code, we first load the input image and convert it to grayscale. We then apply the Canny edge detector to the grayscale image using the Canny function of OpenCV.\n",
    "\n",
    "Next, we define a kernel for the dilation operation using the ones function of NumPy to create a 3x3 array of ones. We then apply the dilation operation to the edges image using the dilate function of OpenCV with the kernel and a single iteration.\n",
    "\n",
    "We then find contours in the dilated edges image using the findContours function of OpenCV. We loop through each contour and draw a bounding box around it on the original image using the rectangle function of OpenCV."
   ]
  },
  {
   "cell_type": "code",
   "execution_count": null,
   "metadata": {},
   "outputs": [],
   "source": [
    "import cv2\n",
    "import numpy as np\n",
    "\n",
    "# Load the image\n",
    "img = cv2.imread('input_image.jpg')\n",
    "\n",
    "# Convert the image to grayscale and apply Canny edge detection\n",
    "gray = cv2.cvtColor(img, cv2.COLOR_BGR2GRAY)\n",
    "edges = cv2.Canny(gray, 50, 150)\n",
    "\n",
    "# Define a kernel for the dilation operation\n",
    "kernel = np.ones((3,3), np.uint8)\n",
    "\n",
    "# Apply the dilation operation to extend the edges\n",
    "dilated_edges = cv2.dilate(edges, kernel, iterations=1)\n",
    "\n",
    "# Find contours in the dilated edges image\n",
    "contours, hierarchy = cv2.findContours(dilated_edges, cv2.RETR_EXTERNAL, cv2.CHAIN_APPROX_SIMPLE)\n",
    "\n",
    "# Loop through each contour and draw a bounding box around it\n",
    "for contour in contours:\n",
    "    # Get the bounding box coordinates\n",
    "    x, y, w, h = cv2.boundingRect(contour)\n",
    "    \n",
    "    # Draw the bounding box on the original image\n",
    "    cv2.rectangle(img, (x, y), (x+w, y+h), (0, 255, 0), 2)\n",
    "\n",
    "# Display the image with the bounding boxes around the detected faces\n",
    "cv2.imshow('Face Detection with Canny Edge and Dilation', img)\n",
    "cv2.waitKey(0)\n",
    "cv2.destroyAllWindows()\n"
   ]
  }
 ],
 "metadata": {
  "language_info": {
   "name": "python"
  },
  "orig_nbformat": 4
 },
 "nbformat": 4,
 "nbformat_minor": 2
}
