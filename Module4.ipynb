{
 "cells": [
  {
   "cell_type": "markdown",
   "metadata": {},
   "source": [
    "# Module 4: Searching an Image  -  Binary Image Analysis -  Recursion\n",
    "****"
   ]
  },
  {
   "cell_type": "markdown",
   "metadata": {},
   "source": [
    "<img src=\"Graphics/search_1.png\">"
   ]
  },
  {
   "cell_type": "markdown",
   "metadata": {},
   "source": [
    "<img src=\"Graphics/search_2.png\">"
   ]
  },
  {
   "cell_type": "code",
   "execution_count": 31,
   "metadata": {},
   "outputs": [
    {
     "name": "stdout",
     "output_type": "stream",
     "text": [
      "225\n",
      "(15, 15)\n",
      "uint8\n",
      "255\n",
      "[[255 255 255 255 255   0   0   0   0   0 255 255 255 255 255]\n",
      " [255 255 255 255   0 255 255 255 255 255   0 255 255 255 255]\n",
      " [255 255 255   0 255 255 255 255 255 255 255   0 255 255 255]\n",
      " [255 255   0 255 255 255 255 255 255 255 255 255   0 255 255]\n",
      " [255   0 255 255 255 255 255 255 255 255 255 255 255   0 255]\n",
      " [  0 255 255 255   0 255 255 255 255 255   0 255 255 255   0]\n",
      " [  0 255 255 255   0 255 255 255 255 255   0 255 255 255   0]\n",
      " [  0 255 255 255 255 255 255 255 255 255 255 255 255 255   0]\n",
      " [  0 255 255 255   0 255 255 255 255 255   0 255 255 255   0]\n",
      " [  0 255 255 255   0 255 255 255 255 255   0 255 255 255   0]\n",
      " [255   0 255 255 255   0   0   0   0   0 255 255 255   0 255]\n",
      " [255 255   0 255 255 255 255 255 255 255 255 255   0 255 255]\n",
      " [255 255 255   0 255 255 255 255 255 255 255   0 255 255 255]\n",
      " [255 255 255 255   0 255 255 255 255 255   0 255 255 255 255]\n",
      " [255 255 255 255 255   0   0   0   0   0 255 255 255 255 255]]\n"
     ]
    }
   ],
   "source": [
    "#Import Libraries\n",
    "import cv2\n",
    "import numpy as np\n",
    "import matplotlib.pyplot as plt\n",
    "\n",
    "#Saving an image. 0 for grayscale. 1 for color. -1 for color with a alpha channel. \n",
    "img = cv2.imread('Graphics/image1.png',0)\n",
    "\n",
    "#How many elements are in that data. \n",
    "print(img.size)\n",
    "\n",
    "#What is the shape of the array.\n",
    "print(img.shape)\n",
    "\n",
    "#What type are the elements.\n",
    "print(img.dtype)\n",
    "\n",
    "#What is the first element\n",
    "print(img[0][0])\n",
    "\n",
    "#Print my data\n",
    "print(img)"
   ]
  },
  {
   "cell_type": "code",
   "execution_count": 32,
   "metadata": {},
   "outputs": [],
   "source": [
    "# Convert to 0 and 1\n",
    "\n",
    "img = np.uint8(img/255)"
   ]
  },
  {
   "cell_type": "code",
   "execution_count": 33,
   "metadata": {},
   "outputs": [
    {
     "name": "stdout",
     "output_type": "stream",
     "text": [
      "[[1 1 1 1 1 0 0 0 0 0 1 1 1 1 1]\n",
      " [1 1 1 1 0 1 1 1 1 1 0 1 1 1 1]\n",
      " [1 1 1 0 1 1 1 1 1 1 1 0 1 1 1]\n",
      " [1 1 0 1 1 1 1 1 1 1 1 1 0 1 1]\n",
      " [1 0 1 1 1 1 1 1 1 1 1 1 1 0 1]\n",
      " [0 1 1 1 0 1 1 1 1 1 0 1 1 1 0]\n",
      " [0 1 1 1 0 1 1 1 1 1 0 1 1 1 0]\n",
      " [0 1 1 1 1 1 1 1 1 1 1 1 1 1 0]\n",
      " [0 1 1 1 0 1 1 1 1 1 0 1 1 1 0]\n",
      " [0 1 1 1 0 1 1 1 1 1 0 1 1 1 0]\n",
      " [1 0 1 1 1 0 0 0 0 0 1 1 1 0 1]\n",
      " [1 1 0 1 1 1 1 1 1 1 1 1 0 1 1]\n",
      " [1 1 1 0 1 1 1 1 1 1 1 0 1 1 1]\n",
      " [1 1 1 1 0 1 1 1 1 1 0 1 1 1 1]\n",
      " [1 1 1 1 1 0 0 0 0 0 1 1 1 1 1]]\n"
     ]
    }
   ],
   "source": [
    "print(img)"
   ]
  },
  {
   "cell_type": "markdown",
   "metadata": {},
   "source": [
    "## Results\n",
    "\n",
    "+ Our image is the reverse of the examples.  \n",
    "+ 1 represents absence of material indicated by light passing.\n",
    "+ 0 represents material which light has not passed. \n",
    "## Next Steps\n",
    "+ Invert the data. 1 to 0 and 0 to 1."
   ]
  },
  {
   "cell_type": "code",
   "execution_count": 34,
   "metadata": {},
   "outputs": [
    {
     "name": "stdout",
     "output_type": "stream",
     "text": [
      "[[0 0 0 0 0 1 1 1 1 1 0 0 0 0 0]\n",
      " [0 0 0 0 1 0 0 0 0 0 1 0 0 0 0]\n",
      " [0 0 0 1 0 0 0 0 0 0 0 1 0 0 0]\n",
      " [0 0 1 0 0 0 0 0 0 0 0 0 1 0 0]\n",
      " [0 1 0 0 0 0 0 0 0 0 0 0 0 1 0]\n",
      " [1 0 0 0 1 0 0 0 0 0 1 0 0 0 1]\n",
      " [1 0 0 0 1 0 0 0 0 0 1 0 0 0 1]\n",
      " [1 0 0 0 0 0 0 0 0 0 0 0 0 0 1]\n",
      " [1 0 0 0 1 0 0 0 0 0 1 0 0 0 1]\n",
      " [1 0 0 0 1 0 0 0 0 0 1 0 0 0 1]\n",
      " [0 1 0 0 0 1 1 1 1 1 0 0 0 1 0]\n",
      " [0 0 1 0 0 0 0 0 0 0 0 0 1 0 0]\n",
      " [0 0 0 1 0 0 0 0 0 0 0 1 0 0 0]\n",
      " [0 0 0 0 1 0 0 0 0 0 1 0 0 0 0]\n",
      " [0 0 0 0 0 1 1 1 1 1 0 0 0 0 0]]\n"
     ]
    }
   ],
   "source": [
    "# Let's invert out image and print the results. \n",
    "img = 1 - img\n",
    "print(img)"
   ]
  },
  {
   "cell_type": "code",
   "execution_count": 40,
   "metadata": {},
   "outputs": [
    {
     "name": "stdout",
     "output_type": "stream",
     "text": [
      "The first external corner is:\n",
      "[[1 1]\n",
      " [1 0]]\n",
      "The first internal corner is:\n",
      "[[0 0]\n",
      " [0 1]]\n",
      "(15, 15)\n",
      "-5.25\n"
     ]
    }
   ],
   "source": [
    "# Let's make arrays out of all the external corners.  Sepearte Varialbes to illustrate.   Excercise:  Make them 3D arrays to start.\n",
    "exCorner1 = np.array([[[1,1],[1,0]]])\n",
    "exCorner2 = np.array([[[1,0],[1,1]]])\n",
    "exCorner3 = np.array([[[0,1],[1,1]]])\n",
    "exCorner4 = np.array([[[1,1],[0,1]]])\n",
    "\n",
    "# Combine all the external corners into one array.\n",
    "exCorner = np.concatenate((exCorner1,exCorner2,exCorner3,exCorner4), axis=0)\n",
    "print(\"The first external corner is:\")\n",
    "print(exCorner[0])\n",
    "\n",
    "# Let's make arrays out of all the internal corners.\n",
    "inCorner1 = np.array([[[0,0],[0,1]]])\n",
    "inCorner2 = np.array([[[0,1],[0,0]]])\n",
    "inCorner3 = np.array([[[1,0],[0,0]]])\n",
    "inCorner4 = np.array([[[0,0],[1,0]]])\n",
    "\n",
    "# Combine all the internal corners into one array.\n",
    "inCorner = np.concatenate((inCorner1,inCorner2, inCorner3, inCorner4), axis=0)\n",
    "print(\"The first internal corner is:\")\n",
    "print(inCorner[0])\n",
    "\n",
    "print(img.shape)\n",
    "\n",
    "\n",
    "# Write the function to search the image for the number of holes. \n",
    "def count_holes(img):\n",
    "    \n",
    "    #Save the height and width.\n",
    "    h = img.shape[0]\n",
    "    w = img.shape[1]\n",
    "\n",
    "    # variables to return the external and internal corner counts\n",
    "    e = 0\n",
    "    i = 0\n",
    "\n",
    "    #For each row in our grid. y = row\n",
    "    for y in range(0,h-1,2):\n",
    "        #Search each pixel in the row. x = pixel\n",
    "        for x in range(0,w-1,2):\n",
    "\n",
    "            curFrame = np.array([[img[y,x],img[y,x + 1]],[img[y+1,0],img[y+1,x+1]]])\n",
    "\n",
    "            # check to see if the arrays are equal.\n",
    "            for n in range(0,exCorner.shape[0]):\n",
    "                if(np.array_equal(exCorner[n], curFrame)):\n",
    "                    e += 1\n",
    "                elif(np.array_equal(inCorner[n], curFrame)):\n",
    "                    i += 1\n",
    "    \n",
    "    return((e-i)/4)\n",
    "\n",
    "\n",
    "number_of_holes = count_holes(img)\n",
    "print(number_of_holes)\n",
    "\n",
    "# frame = np.array([[img[y,x],img[y,x + 1]],[img[y+1,0],img[y+1,x+1]]])\n",
    "# print(frame)\n",
    "\n"
   ]
  },
  {
   "cell_type": "markdown",
   "metadata": {},
   "source": [
    "<img src=\"Graphics/search_3.png\">"
   ]
  },
  {
   "cell_type": "markdown",
   "metadata": {},
   "source": [
    "<img src=\"Graphics/search_4.png\">"
   ]
  },
  {
   "cell_type": "markdown",
   "metadata": {},
   "source": [
    "<img src=\"Graphics/search_5.png\">"
   ]
  }
 ],
 "metadata": {
  "kernelspec": {
   "display_name": "Python 3.10.6 64-bit",
   "language": "python",
   "name": "python3"
  },
  "language_info": {
   "codemirror_mode": {
    "name": "ipython",
    "version": 3
   },
   "file_extension": ".py",
   "mimetype": "text/x-python",
   "name": "python",
   "nbconvert_exporter": "python",
   "pygments_lexer": "ipython3",
   "version": "3.10.6"
  },
  "orig_nbformat": 4,
  "vscode": {
   "interpreter": {
    "hash": "e7370f93d1d0cde622a1f8e1c04877d8463912d04d973331ad4851f04de6915a"
   }
  }
 },
 "nbformat": 4,
 "nbformat_minor": 2
}
