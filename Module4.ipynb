{
 "cells": [
  {
   "cell_type": "markdown",
   "metadata": {},
   "source": [
    "# Module 4: Searching an Image  -  Binary Image Analysis -  Recursion\n",
    "****"
   ]
  },
  {
   "cell_type": "markdown",
   "metadata": {},
   "source": [
    "<img src=\"Graphics/search_1.png\">"
   ]
  },
  {
   "cell_type": "markdown",
   "metadata": {},
   "source": [
    "<img src=\"Graphics/search_2.png\">"
   ]
  },
  {
   "cell_type": "code",
   "execution_count": 70,
   "metadata": {},
   "outputs": [
    {
     "name": "stdout",
     "output_type": "stream",
     "text": [
      "225\n",
      "(15, 15)\n",
      "uint8\n",
      "255\n",
      "[[255 255 255 255 255 255 255 255 255 255 255 255 255 255 255]\n",
      " [255 255 255 255 255 255 255 255 255 255 255 255 255 255 255]\n",
      " [255 255 255 255 255 255 255 255 255 255 255 255 255 255 255]\n",
      " [255 255 255   0 255 255 255 255 255 255 255   0 255 255 255]\n",
      " [255 255   0   0   0 255 255 255 255 255   0   0   0 255 255]\n",
      " [255 255 255   0 255 255 255 255 255 255 255   0 255 255 255]\n",
      " [255 255 255 255 255 255 255 255 255 255 255 255 255 255 255]\n",
      " [255 255 255   0 255 255 255 255 255 255 255   0 255 255 255]\n",
      " [255 255 255   0 255 255 255 255 255 255 255   0 255 255 255]\n",
      " [255 255 255   0 255 255 255 255 255 255 255   0 255 255 255]\n",
      " [255 255 255   0   0   0   0   0   0   0   0   0 255 255 255]\n",
      " [255 255 255 255   0   0   0   0   0   0   0 255 255 255 255]\n",
      " [255 255 255 255 255 255 255 255 255 255 255 255 255 255 255]\n",
      " [255 255 255 255 255 255 255 255 255 255 255 255 255 255 255]\n",
      " [255 255 255 255 255 255 255 255 255 255 255 255 255 255 255]]\n"
     ]
    }
   ],
   "source": [
    "#Import Libraries\n",
    "import cv2\n",
    "import numpy as np\n",
    "import matplotlib.pyplot as plt\n",
    "\n",
    "#Saving an image. 0 for grayscale. 1 for color. -1 for color with a alpha channel. \n",
    "img = cv2.imread('Graphics/image2.png',0)\n",
    "\n",
    "#How many elements are in that data. \n",
    "print(img.size)\n",
    "\n",
    "#What is the shape of the array.\n",
    "print(img.shape)\n",
    "\n",
    "#What type are the elements.\n",
    "print(img.dtype)\n",
    "\n",
    "#What is the first element\n",
    "print(img[0][0])\n",
    "\n",
    "#Print my data\n",
    "print(img)"
   ]
  },
  {
   "cell_type": "code",
   "execution_count": 71,
   "metadata": {},
   "outputs": [
    {
     "data": {
      "text/plain": [
       "<matplotlib.image.AxesImage at 0x7f17db768ac0>"
      ]
     },
     "execution_count": 71,
     "metadata": {},
     "output_type": "execute_result"
    },
    {
     "data": {
      "image/png": "[encoded data removed]",
      "text/plain": [
       "<Figure size 432x288 with 1 Axes>"
      ]
     },
     "metadata": {
      "needs_background": "light"
     },
     "output_type": "display_data"
    }
   ],
   "source": [
    "plt.imshow(img, cmap=\"gray\")"
   ]
  },
  {
   "cell_type": "code",
   "execution_count": 72,
   "metadata": {},
   "outputs": [],
   "source": [
    "# Convert to 0 and 1 and keep as an integer. \n",
    "img = np.uint8(img/255)"
   ]
  },
  {
   "cell_type": "code",
   "execution_count": 73,
   "metadata": {},
   "outputs": [
    {
     "name": "stdout",
     "output_type": "stream",
     "text": [
      "[[1 1 1 1 1 1 1 1 1 1 1 1 1 1 1]\n",
      " [1 1 1 1 1 1 1 1 1 1 1 1 1 1 1]\n",
      " [1 1 1 1 1 1 1 1 1 1 1 1 1 1 1]\n",
      " [1 1 1 0 1 1 1 1 1 1 1 0 1 1 1]\n",
      " [1 1 0 0 0 1 1 1 1 1 0 0 0 1 1]\n",
      " [1 1 1 0 1 1 1 1 1 1 1 0 1 1 1]\n",
      " [1 1 1 1 1 1 1 1 1 1 1 1 1 1 1]\n",
      " [1 1 1 0 1 1 1 1 1 1 1 0 1 1 1]\n",
      " [1 1 1 0 1 1 1 1 1 1 1 0 1 1 1]\n",
      " [1 1 1 0 1 1 1 1 1 1 1 0 1 1 1]\n",
      " [1 1 1 0 0 0 0 0 0 0 0 0 1 1 1]\n",
      " [1 1 1 1 0 0 0 0 0 0 0 1 1 1 1]\n",
      " [1 1 1 1 1 1 1 1 1 1 1 1 1 1 1]\n",
      " [1 1 1 1 1 1 1 1 1 1 1 1 1 1 1]\n",
      " [1 1 1 1 1 1 1 1 1 1 1 1 1 1 1]]\n"
     ]
    }
   ],
   "source": [
    "print(img)"
   ]
  },
  {
   "cell_type": "markdown",
   "metadata": {},
   "source": [
    "## Results\n",
    "\n",
    "+ 0 represents absence of material indicated by light passing.\n",
    "+ 1 represents material which light has not passed. \n"
   ]
  },
  {
   "cell_type": "code",
   "execution_count": 74,
   "metadata": {},
   "outputs": [
    {
     "name": "stdout",
     "output_type": "stream",
     "text": [
      "The first external corner is:\n",
      "[[1 1]\n",
      " [1 0]]\n",
      "The first internal corner is:\n",
      "[[0 0]\n",
      " [0 1]]\n"
     ]
    }
   ],
   "source": [
    "# Let's make arrays out of all the external corners.  Sepearte Varialbes to illustrate.   Excercise:  Make them 3D arrays to start.\n",
    "exCorner1 = np.array([[[1,1],[1,0]]])\n",
    "exCorner2 = np.array([[[1,1],[0,1]]])\n",
    "exCorner3 = np.array([[[1,0],[1,1]]])\n",
    "exCorner4 = np.array([[[0,1],[1,1]]])\n",
    "\n",
    "# Combine all the external corners into one array.\n",
    "exCorner = np.concatenate((exCorner1,exCorner2,exCorner3,exCorner4), axis=0)\n",
    "print(\"The first external corner is:\")\n",
    "print(exCorner[0])\n",
    "\n",
    "# Let's make arrays out of all the internal corners.\n",
    "inCorner1 = np.array([[[0,0],[0,1]]])\n",
    "inCorner2 = np.array([[[0,0],[1,0]]])\n",
    "inCorner3 = np.array([[[0,1],[0,0]]])\n",
    "inCorner4 = np.array([[[1,0],[0,0]]])\n",
    "\n",
    "# Combine all the internal corners into one array.\n",
    "inCorner = np.concatenate((inCorner1,inCorner2, inCorner3, inCorner4), axis=0)\n",
    "print(\"The first internal corner is:\")\n",
    "print(inCorner[0])"
   ]
  },
  {
   "cell_type": "code",
   "execution_count": 86,
   "metadata": {},
   "outputs": [
    {
     "name": "stdout",
     "output_type": "stream",
     "text": [
      "Number of holes: 3\n"
     ]
    },
    {
     "data": {
      "text/plain": [
       "<matplotlib.image.AxesImage at 0x7f17db4dbd60>"
      ]
     },
     "execution_count": 86,
     "metadata": {},
     "output_type": "execute_result"
    },
    {
     "data": {
      "image/png": "[encoded data removed]",
      "text/plain": [
       "<Figure size 432x288 with 1 Axes>"
      ]
     },
     "metadata": {
      "needs_background": "light"
     },
     "output_type": "display_data"
    }
   ],
   "source": [
    "# Write the function to search the image for the number of holes. \n",
    "def count_holes(img):\n",
    "    \n",
    "    #Save the height and width.\n",
    "    h = img.shape[0]\n",
    "    w = img.shape[1]\n",
    "\n",
    "    # variables to return the external and internal corner counts\n",
    "    e = 0\n",
    "    i = 0\n",
    "\n",
    "    #For each row in our grid. y = row\n",
    "    for y in range(0,h-1):\n",
    "        #Search each pixel in the row. x = pixel\n",
    "        for x in range(0,w-1):\n",
    "\n",
    "            curFrame = np.array([[img[y,x],img[y,x + 1]],[img[y+1,x],img[y+1,x+1]]])\n",
    "\n",
    "            # check to see if the arrays are equal.\n",
    "            for n in range(0,exCorner.shape[0]):\n",
    "                \n",
    "                if(np.array_equal(exCorner[n], curFrame)):\n",
    "                    e += 1\n",
    "                if(np.array_equal(inCorner[n], curFrame)):\n",
    "                    i += 1\n",
    "\n",
    "    return(np.uint8((e-i)/4))\n",
    "\n",
    "\n",
    "number_of_holes = count_holes(img)\n",
    "print(\"Number of holes:\",number_of_holes)\n",
    "plt.imshow(img, cmap=\"gray\")"
   ]
  },
  {
   "cell_type": "markdown",
   "metadata": {},
   "source": [
    "## Recursion\n",
    "\n",
    "Defining a thing in terms of itself.  For example, saying \"tired\" is defined as \"the feeling you get when you are tired\".  In our case, a function that calls itself is called a **Recursive Function**.<br>\n",
    "\n",
    "This occurs in mathematical calucations; the most common example of this is called **\"factorial\"**.<br>\n",
    "\n",
    "The factorial of any number n, usually written as n!.\n",
    "\n",
    "n! = n * n-1 * ...* 3 * 2 * 1\n",
    "0! = 1"
   ]
  },
  {
   "cell_type": "code",
   "execution_count": 76,
   "metadata": {},
   "outputs": [
    {
     "name": "stdout",
     "output_type": "stream",
     "text": [
      "24\n"
     ]
    }
   ],
   "source": [
    "def factorial(n):\n",
    "\n",
    "    f = 1\n",
    "\n",
    "    for i in range(0,n):\n",
    "        f = f * (i+1)\n",
    "\n",
    "    return(f)\n",
    "\n",
    "num = factorial(4)\n",
    "print(num)"
   ]
  },
  {
   "cell_type": "markdown",
   "metadata": {},
   "source": [
    "If you look closely:<p>\n",
    "\n",
    "4! = 4 * 3 * 2 * 1<br>\n",
    "3! = 3 * 2 * 1<br>\n",
    "therefore... 4! = 4 * 3!<br>\n",
    "\n",
    "Factorial in a recursive function:"
   ]
  },
  {
   "cell_type": "code",
   "execution_count": 77,
   "metadata": {},
   "outputs": [
    {
     "name": "stdout",
     "output_type": "stream",
     "text": [
      "24\n"
     ]
    }
   ],
   "source": [
    "def factorial(n):\n",
    "    if (n == 1):\n",
    "        return(1)\n",
    "    else:\n",
    "        return n * factorial(n-1)\n",
    "\n",
    "num = factorial(4)\n",
    "print(num)"
   ]
  },
  {
   "cell_type": "markdown",
   "metadata": {},
   "source": [
    "4 way and 8 way neighbors. Explain"
   ]
  },
  {
   "cell_type": "markdown",
   "metadata": {},
   "source": [
    "<img src=\"Graphics/search_3.png\">"
   ]
  },
  {
   "cell_type": "markdown",
   "metadata": {},
   "source": [
    "<img src=\"Graphics/search_4.png\">"
   ]
  },
  {
   "cell_type": "markdown",
   "metadata": {},
   "source": [
    "<img src=\"Graphics/search_5.png\">"
   ]
  },
  {
   "cell_type": "markdown",
   "metadata": {},
   "source": [
    "### Implement the recursive connected compoments algorithm <br>\n",
    "\n",
    "I'll give you the structure of the code and a new image to search.  Implement the rest of the code.  Reference the example above. "
   ]
  },
  {
   "cell_type": "code",
   "execution_count": 95,
   "metadata": {},
   "outputs": [
    {
     "name": "stdout",
     "output_type": "stream",
     "text": [
      "[[1 1 0 1 1 1 0 1]\n",
      " [1 1 0 1 0 1 0 1]\n",
      " [1 1 1 1 0 0 0 1]\n",
      " [0 0 0 0 0 0 0 1]\n",
      " [1 1 1 1 0 1 0 1]\n",
      " [0 0 0 1 0 1 0 1]\n",
      " [1 1 0 1 0 0 0 1]\n",
      " [1 1 0 1 0 1 1 1]]\n"
     ]
    }
   ],
   "source": [
    "img_connected = np.array([[1,1,0,1,1,1,0,1],[1,1,0,1,0,1,0,1],[1,1,1,1,0,0,0,1],[0,0,0,0,0,0,0,1],[1,1,1,1,0,1,0,1],[0,0,0,1,0,1,0,1],[1,1,0,1,0,0,0,1],[1,1,0,1,0,1,1,1]])\n",
    "print(img_connected)"
   ]
  },
  {
   "cell_type": "code",
   "execution_count": 97,
   "metadata": {},
   "outputs": [
    {
     "data": {
      "text/plain": [
       "<matplotlib.image.AxesImage at 0x7f17db5ba890>"
      ]
     },
     "execution_count": 97,
     "metadata": {},
     "output_type": "execute_result"
    },
    {
     "data": {
      "image/png": "[encoded data removed]",
      "text/plain": [
       "<Figure size 432x288 with 1 Axes>"
      ]
     },
     "metadata": {
      "needs_background": "light"
     },
     "output_type": "display_data"
    }
   ],
   "source": [
    "plt.imshow(img_connected, cmap=\"gray\")"
   ]
  },
  {
   "cell_type": "code",
   "execution_count": 81,
   "metadata": {},
   "outputs": [
    {
     "name": "stdout",
     "output_type": "stream",
     "text": [
      "[[ 0  0  0  0  0  0  0  0  0  0  0  0  0  0  0]\n",
      " [ 0  0  0  0  0  0  0  0  0  0  0  0  0  0  0]\n",
      " [ 0  0  0  0  0  0  0  0  0  0  0  0  0  0  0]\n",
      " [ 0  0  0 -1  0  0  0  0  0  0  0 -1  0  0  0]\n",
      " [ 0  0 -1 -1 -1  0  0  0  0  0 -1 -1 -1  0  0]\n",
      " [ 0  0  0 -1  0  0  0  0  0  0  0 -1  0  0  0]\n",
      " [ 0  0  0  0  0  0  0  0  0  0  0  0  0  0  0]\n",
      " [ 0  0  0 -1  0  0  0  0  0  0  0 -1  0  0  0]\n",
      " [ 0  0  0 -1  0  0  0  0  0  0  0 -1  0  0  0]\n",
      " [ 0  0  0 -1  0  0  0  0  0  0  0 -1  0  0  0]\n",
      " [ 0  0  0 -1 -1 -1 -1 -1 -1 -1 -1 -1  0  0  0]\n",
      " [ 0  0  0  0 -1 -1 -1 -1 -1 -1 -1  0  0  0  0]\n",
      " [ 0  0  0  0  0  0  0  0  0  0  0  0  0  0  0]\n",
      " [ 0  0  0  0  0  0  0  0  0  0  0  0  0  0  0]\n",
      " [ 0  0  0  0  0  0  0  0  0  0  0  0  0  0  0]]\n"
     ]
    }
   ],
   "source": [
    "def recursive_connected_components(img):\n",
    "\n",
    "    # convert to a signed integer so you can use negative numbers\n",
    "    img = np.int8(img)\n",
    "\n",
    "    # Negate img\n",
    "    LB = img - 1\n",
    "\n",
    "    # Define label\n",
    "    label = 0\n",
    "\n",
    "    find_components(LB, label)\n",
    "\n",
    "    print(LB)\n",
    "\n",
    "def find_components(LB, label):\n",
    "\n",
    "    #Save the height and width.\n",
    "    h = LB.shape[0]\n",
    "    w = LB.shape[1]\n",
    "\n",
    "    for L in range(0,h):\n",
    "        for P in range(0,w):\n",
    "            if(LB[L,P] == -1):\n",
    "                label = label + 1\n",
    "                search(LB, label, L, P)\n",
    "\n",
    "def search(LB, label, L, P):\n",
    "\n",
    "    LB[L,P] = label\n",
    "\n",
    "    # Implement the rest of the algorithm \n",
    "    Nset = neighbors(L,P)\n",
    "\n",
    "    # L', P' are the pixel locations to be compared.  Reference algorithm above.\n",
    "\n",
    "    # For each LB[L',P'] in Nset\n",
    "    #  if LB[L',P'] == -1\n",
    "    #  then search(LB, label, L', P')\n",
    "\n",
    "\n",
    "\n",
    "\n",
    "def neighbors(L,P):\n",
    "    # What are the neighbors of this pixel.  Reference algorithm above.\n",
    "\n",
    "\n",
    "\n",
    "negate = recursive_connected_components(img_connected)\n",
    "print(negate)"
   ]
  },
  {
   "cell_type": "code",
   "execution_count": 98,
   "metadata": {},
   "outputs": [],
   "source": [
    "# Open CV\n",
    "\n",
    "# cv2.connectedComponents"
   ]
  }
 ],
 "metadata": {
  "kernelspec": {
   "display_name": "Python 3.10.6 64-bit",
   "language": "python",
   "name": "python3"
  },
  "language_info": {
   "codemirror_mode": {
    "name": "ipython",
    "version": 3
   },
   "file_extension": ".py",
   "mimetype": "text/x-python",
   "name": "python",
   "nbconvert_exporter": "python",
   "pygments_lexer": "ipython3",
   "version": "3.10.6"
  },
  "orig_nbformat": 4,
  "vscode": {
   "interpreter": {
    "hash": "e7370f93d1d0cde622a1f8e1c04877d8463912d04d973331ad4851f04de6915a"
   }
  }
 },
 "nbformat": 4,
 "nbformat_minor": 2
}
