{
 "cells": [
  {
   "attachments": {},
   "cell_type": "markdown",
   "metadata": {},
   "source": [
    "# Module 4: Feature Detection -  Binary Image Analysis \n",
    "****"
   ]
  },
  {
   "attachments": {},
   "cell_type": "markdown",
   "metadata": {},
   "source": [
    "In computer vision, a feature is a part of an image that has some distinguishable characteristics that can be used to identify it or distinguish it from other features. These characteristics can include things like edges, corners, blobs, or other patterns in the image.\n",
    "\n",
    "Feature detection algorithms are designed to identify and locate these features in an image. The most common types of features used in computer vision are corners and edges, as they are typically easy to detect and provide a lot of useful information about the image.\n",
    "\n",
    "The process of feature detection involves analyzing the image to identify areas where features are likely to be found. This is usually done by searching for areas of high contrast or regions where there are abrupt changes in color or texture.\n",
    "\n",
    "Once potential feature points are identified, feature detection algorithms will typically compute a descriptor for each feature. The descriptor is a mathematical representation of the feature that captures its key characteristics. This descriptor is then used to match features between images, or to identify similar features in different images.\n",
    "\n",
    "### Jigsaw Example\n",
    "\n",
    "Most of you will have played the jigsaw puzzle games. You get a lot of small pieces of an image, where you need to assemble them correctly to form a big real image. The question is, how you do it? What about the projecting the same theory to a computer program so that computer can play jigsaw puzzles? If the computer can play jigsaw puzzles, why can't we give a lot of real-life images of a good natural scenery to computer and tell it to stitch all those images to a big single image? If the computer can stitch several natural images to one, what about giving a lot of pictures of a building or any structure and tell computer to create a 3D model out of it?\n",
    "\n",
    "Well, the questions and imaginations continue. But it all depends on the most basic question: How do you play jigsaw puzzles? How do you arrange lots of scrambled image pieces into a big single image? How can you stitch a lot of natural images to a single image?\n",
    "\n",
    "The answer is, we are looking for specific patterns or specific features which are unique, can be easily tracked and can be easily compared. If we go for a definition of such a feature, we may find it difficult to express it in words, but we know what they are. If someone asks you to point out one good feature which can be compared across several images, you can point out one. That is why even small children can simply play these games. We search for these features in an image, find them, look for the same features in other images and align them. That's it. (In jigsaw puzzle, we look more into continuity of different images). All these abilities are present in us inherently.\n",
    "\n",
    "So our one basic question expands to more in number, but becomes more specific. What are these features?"
   ]
  },
  {
   "attachments": {},
   "cell_type": "markdown",
   "metadata": {},
   "source": [
    "### Binary Image Analysis\n",
    "\n",
    "Finding corners is important in feature detection because corners are distinctive and stable features in an image that can be used to identify and track objects. Corners are points in an image where the intensity of the image changes rapidly in all directions. These corners can be used as landmarks to detect and track objects even when the object is undergoing changes in scale, rotation, or perspective.\n",
    "\n",
    "Corners are also useful because they are invariant to translation, which means that if an object is moved, the corners will remain in the same position. This property makes corners useful for matching features across multiple images.\n",
    "\n",
    "Furthermore, corners provide information about the local structure of an image, which can be used to extract useful features that can be used for further analysis.\n",
    "\n",
    "<img src=\"Graphics/search_1.png\">"
   ]
  },
  {
   "cell_type": "markdown",
   "metadata": {},
   "source": [
    "<img src=\"Graphics/search_2.png\">"
   ]
  },
  {
   "cell_type": "code",
   "execution_count": 6,
   "metadata": {},
   "outputs": [
    {
     "name": "stdout",
     "output_type": "stream",
     "text": [
      "225\n",
      "(15, 15)\n",
      "uint8\n",
      "[[255 255 255 255 255 255 255 255 255 255 255 255 255 255 255]\n",
      " [255 255 255 255 255 255 255 255 255 255 255 255 255 255 255]\n",
      " [255 255 255 255 255 255 255 255 255 255 255 255 255 255 255]\n",
      " [255 255 255   0 255 255 255 255 255 255 255   0 255 255 255]\n",
      " [255 255   0   0   0 255 255 255 255 255   0   0   0 255 255]\n",
      " [255 255 255   0 255 255 255 255 255 255 255   0 255 255 255]\n",
      " [255 255 255 255 255 255 255 255 255 255 255 255 255 255 255]\n",
      " [255 255 255   0 255 255 255 255 255 255 255   0 255 255 255]\n",
      " [255 255 255   0 255 255 255 255 255 255 255   0 255 255 255]\n",
      " [255 255 255   0 255 255 255 255 255 255 255   0 255 255 255]\n",
      " [255 255 255   0   0   0   0   0   0   0   0   0 255 255 255]\n",
      " [255 255 255 255   0   0   0   0   0   0   0 255 255 255 255]\n",
      " [255 255 255 255 255 255 255 255 255 255 255 255 255 255 255]\n",
      " [255 255 255 255 255 255 255 255 255 255 255 255 255 255 255]\n",
      " [255 255 255 255 255 255 255 255 255 255 255 255 255 255 255]]\n"
     ]
    }
   ],
   "source": [
    "# Import Libraries\n",
    "import cv2\n",
    "import numpy as np\n",
    "import matplotlib.pyplot as plt\n",
    "\n",
    "# Import image\n",
    "img = cv2.imread('Graphics/image2.png', 0)\n",
    "\n",
    "print(img.size)\n",
    "\n",
    "print(img.shape)\n",
    "\n",
    "print(img.dtype)\n",
    "\n",
    "print(img)"
   ]
  },
  {
   "cell_type": "code",
   "execution_count": 7,
   "metadata": {},
   "outputs": [
    {
     "data": {
      "text/plain": [
       "<matplotlib.image.AxesImage at 0x7fc47a343ee0>"
      ]
     },
     "execution_count": 7,
     "metadata": {},
     "output_type": "execute_result"
    },
    {
     "data": {
      "image/png": "[encoded data removed]",
      "text/plain": [
       "<Figure size 432x288 with 1 Axes>"
      ]
     },
     "metadata": {
      "needs_background": "light"
     },
     "output_type": "display_data"
    }
   ],
   "source": [
    "plt.imshow(img, cmap='gray')"
   ]
  },
  {
   "cell_type": "code",
   "execution_count": 8,
   "metadata": {},
   "outputs": [],
   "source": [
    "# Convert to 0 and 1\n",
    "img = np.uint8(img/255)"
   ]
  },
  {
   "cell_type": "code",
   "execution_count": 9,
   "metadata": {},
   "outputs": [
    {
     "name": "stdout",
     "output_type": "stream",
     "text": [
      "[[1 1 1 1 1 1 1 1 1 1 1 1 1 1 1]\n",
      " [1 1 1 1 1 1 1 1 1 1 1 1 1 1 1]\n",
      " [1 1 1 1 1 1 1 1 1 1 1 1 1 1 1]\n",
      " [1 1 1 0 1 1 1 1 1 1 1 0 1 1 1]\n",
      " [1 1 0 0 0 1 1 1 1 1 0 0 0 1 1]\n",
      " [1 1 1 0 1 1 1 1 1 1 1 0 1 1 1]\n",
      " [1 1 1 1 1 1 1 1 1 1 1 1 1 1 1]\n",
      " [1 1 1 0 1 1 1 1 1 1 1 0 1 1 1]\n",
      " [1 1 1 0 1 1 1 1 1 1 1 0 1 1 1]\n",
      " [1 1 1 0 1 1 1 1 1 1 1 0 1 1 1]\n",
      " [1 1 1 0 0 0 0 0 0 0 0 0 1 1 1]\n",
      " [1 1 1 1 0 0 0 0 0 0 0 1 1 1 1]\n",
      " [1 1 1 1 1 1 1 1 1 1 1 1 1 1 1]\n",
      " [1 1 1 1 1 1 1 1 1 1 1 1 1 1 1]\n",
      " [1 1 1 1 1 1 1 1 1 1 1 1 1 1 1]]\n"
     ]
    }
   ],
   "source": [
    "print(img)"
   ]
  },
  {
   "cell_type": "markdown",
   "metadata": {},
   "source": [
    "## Results\n",
    "\n",
    "+ 0 represents absence of material indicated by light passing.\n",
    "+ 1 represents material which light has not passed. \n"
   ]
  },
  {
   "cell_type": "code",
   "execution_count": 12,
   "metadata": {},
   "outputs": [],
   "source": [
    "# Let's make arrays out of all the external corners.  Separate Variables to illustrate.   Exercise:  Make them 3D arrays to start.\n",
    "exCorner1 = np.array([[[1,1],[1,0]]])\n",
    "exCorner2 = np.array([[[1,1],[0,1]]])\n",
    "exCorner3 = np.array([[[1,0],[1,1]]])\n",
    "exCorner4 = np.array([[[0,1],[1,1]]])\n",
    "\n",
    "# Combine all the external corners into one array.\n",
    "exCorner = np.concatenate((exCorner1, exCorner2, exCorner3, exCorner4), axis=0)\n",
    "\n",
    "# Let's make arrays out of all the internal corners.\n",
    "inCorner1 = np.array([[[0,0],[0,1]]])\n",
    "inCorner2 = np.array([[[0,0],[1,0]]])\n",
    "inCorner3 = np.array([[[0,1],[0,0]]])\n",
    "inCorner4 = np.array([[[1,0],[0,0]]])\n",
    "\n",
    "# Combine all the internal corners into one array.\n",
    "inCorner = np.concatenate((inCorner1, inCorner2, inCorner3, inCorner4))\n"
   ]
  },
  {
   "cell_type": "code",
   "execution_count": 13,
   "metadata": {},
   "outputs": [
    {
     "name": "stdout",
     "output_type": "stream",
     "text": [
      "Number of holes: 3\n"
     ]
    },
    {
     "data": {
      "text/plain": [
       "<matplotlib.image.AxesImage at 0x7fc47a397880>"
      ]
     },
     "execution_count": 13,
     "metadata": {},
     "output_type": "execute_result"
    },
    {
     "data": {
      "image/png": "[encoded data removed]",
      "text/plain": [
       "<Figure size 432x288 with 1 Axes>"
      ]
     },
     "metadata": {
      "needs_background": "light"
     },
     "output_type": "display_data"
    }
   ],
   "source": [
    "# Write the function to search the image for the number of holes. \n",
    "\n",
    "def count_holes(img):\n",
    "\n",
    "    h = img.shape[0]\n",
    "    w = img.shape[1]\n",
    "\n",
    "    # counting variables\n",
    "    e = 0\n",
    "    i = 0\n",
    "\n",
    "    for y in range(0,h-1):\n",
    "        for x in range(0,w-1):\n",
    "\n",
    "            curFrame = np.array([[img[y,x],img[y,x+1]], [img[y+1,x],img[y+1,x+1]]])\n",
    "\n",
    "            for n in range(0,exCorner.shape[0]):\n",
    "\n",
    "                if(np.array_equal(exCorner[n], curFrame)):\n",
    "                    e += 1\n",
    "\n",
    "                if(np.array_equal(inCorner[n], curFrame)):\n",
    "                    i += 1\n",
    "\n",
    "    return(np.uint8((e-i)/4))\n",
    "\n",
    "number_of_holes = count_holes(img)\n",
    "print('Number of holes:', number_of_holes)\n",
    "plt.imshow(img, cmap='gray')"
   ]
  }
 ],
 "metadata": {
  "kernelspec": {
   "display_name": "Python 3.10.6 64-bit",
   "language": "python",
   "name": "python3"
  },
  "language_info": {
   "codemirror_mode": {
    "name": "ipython",
    "version": 3
   },
   "file_extension": ".py",
   "mimetype": "text/x-python",
   "name": "python",
   "nbconvert_exporter": "python",
   "pygments_lexer": "ipython3",
   "version": "3.9.1"
  },
  "orig_nbformat": 4,
  "vscode": {
   "interpreter": {
    "hash": "e7370f93d1d0cde622a1f8e1c04877d8463912d04d973331ad4851f04de6915a"
   }
  }
 },
 "nbformat": 4,
 "nbformat_minor": 2
}
