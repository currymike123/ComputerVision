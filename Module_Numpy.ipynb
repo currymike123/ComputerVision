{
 "cells": [
  {
   "cell_type": "markdown",
   "metadata": {},
   "source": [
    "### Differences between Python and NumPy\n",
    "\n",
    "Python, by default, offers a list object that can be used to represent arrays. For more advanced operations, especially for numerical tasks like matrix operations, NumPy, a third-party library, provides a more efficient and feature-rich array object.\n",
    "\n",
    "In this notebook, we'll explore the differences between standard Python and NumPy in terms of math and matrix operations.\n"
   ]
  },
  {
   "cell_type": "code",
   "execution_count": 18,
   "metadata": {},
   "outputs": [
    {
     "name": "stdout",
     "output_type": "stream",
     "text": [
      "Python list: [1, 2, 3]\n",
      "NumPy array: [1 2 3]\n"
     ]
    }
   ],
   "source": [
    "# They both used Brackets []\n",
    "\n",
    "# Python List\n",
    "list = [1,2,3]\n",
    "print(\"Python list:\", list)\n",
    "\n",
    "# Numpy array\n",
    "import numpy as np\n",
    "arr = np.array([1,2,3])\n",
    "print(\"NumPy array:\", arr)"
   ]
  },
  {
   "cell_type": "code",
   "execution_count": 23,
   "metadata": {},
   "outputs": [
    {
     "name": "stdout",
     "output_type": "stream",
     "text": [
      "Python list: 1\n",
      "Numpy Array: 1\n",
      "Python list: [1, 2]\n",
      "Numpy Array: [1 2]\n"
     ]
    }
   ],
   "source": [
    "# Both can access the elements with an index. \n",
    "\n",
    "# Python List\n",
    "print(\"Python list:\",list[0])\n",
    "\n",
    "# Numpy Array\n",
    "print(\"Numpy Array:\",arr[0])\n",
    "\n",
    "# And slice/filter out elements\n",
    "\n",
    "# Python List\n",
    "print(\"Python list:\",list[:2])\n",
    "\n",
    "# Numpy Array\n",
    "print(\"Numpy Array:\",arr[:2])"
   ]
  },
  {
   "cell_type": "code",
   "execution_count": 24,
   "metadata": {},
   "outputs": [
    {
     "name": "stdout",
     "output_type": "stream",
     "text": [
      "Python list: [1, 2, 3, 1, 2, 3]\n"
     ]
    }
   ],
   "source": [
    "# Python lists don't support mathematical operations\n",
    "\n",
    "list = list*2\n",
    "print(\"Python list:\", list)\n",
    "\n",
    "# Multiplication repeats the array elements"
   ]
  },
  {
   "cell_type": "code",
   "execution_count": 25,
   "metadata": {},
   "outputs": [
    {
     "name": "stdout",
     "output_type": "stream",
     "text": [
      "NumPy array: [2 4 6]\n"
     ]
    }
   ],
   "source": [
    "# NumPy array's support mathematical operations.  Very important for us!\n",
    "\n",
    "arr = arr*2\n",
    "print(\"NumPy array:\",arr)"
   ]
  },
  {
   "cell_type": "code",
   "execution_count": 27,
   "metadata": {},
   "outputs": [
    {
     "name": "stdout",
     "output_type": "stream",
     "text": [
      "uint8\n"
     ]
    }
   ],
   "source": [
    "# NumPy array's can set the data types.   Very import for us!\n",
    "arr = np.array([1,2,3], np.uint8)\n",
    "print(arr.dtype)"
   ]
  },
  {
   "cell_type": "code",
   "execution_count": 29,
   "metadata": {},
   "outputs": [
    {
     "name": "stdout",
     "output_type": "stream",
     "text": [
      "[[0. 0. 0.]\n",
      " [0. 0. 0.]]\n"
     ]
    }
   ],
   "source": [
    "# Create an empty array. Return a new array of given shape and type, without initializing entries.\n",
    "\n",
    "# Create an empty array\n",
    "arr = np.empty((2,3))\n",
    "print(arr)"
   ]
  },
  {
   "cell_type": "code",
   "execution_count": 37,
   "metadata": {},
   "outputs": [
    {
     "name": "stdout",
     "output_type": "stream",
     "text": [
      "Zeros:\n",
      " [[0. 0. 0.]\n",
      " [0. 0. 0.]]\n",
      "Ones:\n",
      " [[1. 1. 1.]\n",
      " [1. 1. 1.]]\n"
     ]
    }
   ],
   "source": [
    "# Create an 2D array of zeros\n",
    "arr = np.zeros((2,3))\n",
    "print(\"Zeros:\\n\",arr)\n",
    "\n",
    "# Create an 2D array of ones\n",
    "arr = np.ones((2,3))\n",
    "print(\"Ones:\\n\",arr)"
   ]
  },
  {
   "cell_type": "code",
   "execution_count": 39,
   "metadata": {},
   "outputs": [
    {
     "name": "stdout",
     "output_type": "stream",
     "text": [
      "Range Array:\n",
      " [0 2 4 6 8]\n",
      "Linear Space Array:\n",
      " [0.   0.25 0.5  0.75 1.  ]\n"
     ]
    }
   ],
   "source": [
    "# Array with a range of values\n",
    "range_array = np.arange(0, 10, 2)\n",
    "print(\"Range Array:\\n\", range_array)\n",
    "\n",
    "# Array of evenly spaced values over a specified range\n",
    "linspace_array = np.linspace(0, 1, 5)\n",
    "print(\"Linear Space Array:\\n\", linspace_array)\n"
   ]
  },
  {
   "cell_type": "code",
   "execution_count": 42,
   "metadata": {},
   "outputs": [
    {
     "name": "stdout",
     "output_type": "stream",
     "text": [
      "Sum: 10\n",
      "\n",
      "Mean: 2.5\n"
     ]
    }
   ],
   "source": [
    "# Statistical Functions\n",
    "\n",
    "# Sum\n",
    "sum_val = np.sum(np.array([1,2,3,4]))\n",
    "print(\"Sum:\", sum_val)\n",
    "\n",
    "# Mean\n",
    "mean_val = np.mean(np.array([1,2,3,4]))\n",
    "print(\"\\nMean:\", mean_val)\n"
   ]
  },
  {
   "cell_type": "markdown",
   "metadata": {},
   "source": [
    "### Matrices"
   ]
  },
  {
   "cell_type": "code",
   "execution_count": 21,
   "metadata": {},
   "outputs": [
    {
     "name": "stdout",
     "output_type": "stream",
     "text": [
      "A:\n",
      " [[1 2]\n",
      " [3 4]]\n",
      "B:\n",
      " [[2 0]\n",
      " [0 2]]\n"
     ]
    }
   ],
   "source": [
    "\n",
    "import numpy as np\n",
    "\n",
    "# Create two 2x2 matrices\n",
    "A = np.array([[1, 2], [3, 4]])\n",
    "B = np.array([[2, 0], [0, 2]])\n",
    "\n",
    "print(\"A:\\n\",A)\n",
    "\n",
    "print(\"B:\\n\",B)"
   ]
  },
  {
   "cell_type": "code",
   "execution_count": 11,
   "metadata": {},
   "outputs": [
    {
     "name": "stdout",
     "output_type": "stream",
     "text": [
      "Addition:\n",
      " [[3 2]\n",
      " [3 6]]\n",
      "\n",
      "Subtraction:\n",
      " [[-1  2]\n",
      " [ 3  2]]\n"
     ]
    }
   ],
   "source": [
    "# Addition\n",
    "C = A + B\n",
    "print(\"Addition:\\n\", C)\n",
    "\n",
    "# Subtraction\n",
    "D = A - B\n",
    "print(\"\\nSubtraction:\\n\", D)\n"
   ]
  },
  {
   "cell_type": "code",
   "execution_count": 22,
   "metadata": {},
   "outputs": [
    {
     "name": "stdout",
     "output_type": "stream",
     "text": [
      "A:\n",
      " [[1 2]\n",
      " [3 4]]\n",
      "B:\n",
      " [[2 0]\n",
      " [0 2]]\n",
      "\n",
      "Multiplication:\n",
      " [[2 4]\n",
      " [6 8]]\n"
     ]
    }
   ],
   "source": [
    "print(\"A:\\n\",A)\n",
    "\n",
    "print(\"B:\\n\",B)\n",
    "\n",
    "# Multiplication\n",
    "E = np.dot(A, B)\n",
    "print(\"\\nMultiplication:\\n\", E)\n"
   ]
  },
  {
   "cell_type": "code",
   "execution_count": 33,
   "metadata": {},
   "outputs": [
    {
     "name": "stdout",
     "output_type": "stream",
     "text": [
      "A:\n",
      " [[1 2]\n",
      " [3 4]]\n",
      "B:\n",
      " [[2 0]\n",
      " [0 2]]\n",
      "\n",
      "Element-wise multiplication:\n",
      " [[2 0]\n",
      " [0 8]]\n"
     ]
    }
   ],
   "source": [
    "print(\"A:\\n\",A)\n",
    "\n",
    "print(\"B:\\n\",B)\n",
    "\n",
    "# Element-wise multiplication\n",
    "F = A * B\n",
    "print(\"\\nElement-wise multiplication:\\n\", F)\n",
    "\n"
   ]
  },
  {
   "cell_type": "code",
   "execution_count": 35,
   "metadata": {},
   "outputs": [
    {
     "name": "stdout",
     "output_type": "stream",
     "text": [
      "A:\n",
      " [[1 2]\n",
      " [3 4]]\n",
      "\n",
      "Transpose of A:\n",
      " [[1 3]\n",
      " [2 4]]\n"
     ]
    }
   ],
   "source": [
    "print(\"A:\\n\",A)\n",
    "\n",
    "# Transpose\n",
    "G = A.T\n",
    "print(\"\\nTranspose of A:\\n\", G)"
   ]
  }
 ],
 "metadata": {
  "kernelspec": {
   "display_name": "Python 3",
   "language": "python",
   "name": "python3"
  },
  "language_info": {
   "name": "python",
   "version": "3.9.1"
  },
  "orig_nbformat": 4
 },
 "nbformat": 4,
 "nbformat_minor": 2
}
