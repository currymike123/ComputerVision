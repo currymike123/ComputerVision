{
 "cells": [
  {
   "cell_type": "markdown",
   "metadata": {},
   "source": [
    "# Review of Python, Lists, & NumPy\n",
    "\n",
    "\"A complex system that works is invariably found to have evolved from a simple system that worked\" &ndash; John Gall\n",
    "<hr>"
   ]
  },
  {
   "cell_type": "markdown",
   "metadata": {},
   "source": [
    "### Python\n",
    "\n",
    "Python is a high-level, general-purpose programming language. Its design philosophy emphasizes code readability with its notable use of significant whitespace. Its language constructs and object-oriented approach aim to help programmers write clear, logical code for small and large-scale projects.\n",
    "<p>\n",
    "Python is dynamically typed and garbage collected. \n",
    "<p>\n",
    "The progression from assembly language to C to Python represents a move up the abstraction ladder in the world of programming languages. Each step abstracts away some of the lower-level details, making it easier to write complex software.\n",
    "<p>\n",
    "\n",
    "The language stack:\n",
    "<b>Assembly language -> C -> Python</b><p>\n"
   ]
  },
  {
   "cell_type": "code",
   "execution_count": 3,
   "metadata": {},
   "outputs": [
    {
     "name": "stdout",
     "output_type": "stream",
     "text": [
      "a\n"
     ]
    }
   ],
   "source": [
    "# Define a variable"
   ]
  },
  {
   "cell_type": "markdown",
   "metadata": {},
   "source": [
    "### Differences between Python Lists and NumPy Arrays\n",
    "\n",
    "Python, by default, offers a list object that can be used to represent arrays. For more advanced operations, especially for numerical tasks like matrix operations, NumPy, a third-party library, provides a more efficient and feature-rich array object.\n",
    "\n",
    "NumPy is based on two fundamental objects: an N-dimensional array object (ndarray) and a universal function object (ufunc).  An N-dimensional array is a homogeneous collection of \"items\" indexed by N integers.  There two essential pieces of metadata that define an N-dimensional array: 1) the shape of the array, and 2) the kind of items that composes the array. \n",
    "\n",
    "In this notebook, we'll explore the differences between standard Python and NumPy in terms of math and matrix operations.\n"
   ]
  },
  {
   "cell_type": "code",
   "execution_count": null,
   "metadata": {},
   "outputs": [],
   "source": []
  },
  {
   "cell_type": "markdown",
   "metadata": {},
   "source": [
    "Both are zero-indexed, meaning that the first element in the array is 0, the second is 1...<p>\n",
    "\n",
    "Slicing allows us to extract a portion of the array.  It's done using the \":\" or \"...\" symbols.  The basic syntax is start:stop:step<p>\n",
    "\n",
    "<ul>\n",
    "<li>start is the index where slicing starts(inclusive)</li>\n",
    "<li>stop is the index where slicing stops(exclusive)</li>\n",
    "<li>step specifies the interval between elements.</li>\n",
    "</ul>\n",
    "\n",
    "For example, `array[2:5]` would give you elements from index 2 to 4.  `array[::2]` would give you every second element.\n"
   ]
  },
  {
   "cell_type": "code",
   "execution_count": null,
   "metadata": {},
   "outputs": [],
   "source": []
  },
  {
   "cell_type": "markdown",
   "metadata": {},
   "source": [
    "### Matrices"
   ]
  },
  {
   "cell_type": "code",
   "execution_count": null,
   "metadata": {},
   "outputs": [],
   "source": []
  }
 ],
 "metadata": {
  "kernelspec": {
   "display_name": "Python 3",
   "language": "python",
   "name": "python3"
  },
  "language_info": {
   "codemirror_mode": {
    "name": "ipython",
    "version": 3
   },
   "file_extension": ".py",
   "mimetype": "text/x-python",
   "name": "python",
   "nbconvert_exporter": "python",
   "pygments_lexer": "ipython3",
   "version": "3.9.1"
  },
  "orig_nbformat": 4
 },
 "nbformat": 4,
 "nbformat_minor": 2
}
