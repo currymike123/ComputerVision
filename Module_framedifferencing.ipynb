{
 "cells": [
  {
   "cell_type": "markdown",
   "metadata": {},
   "source": [
    "# Module 4 Detecting Motion\n",
    "****\n"
   ]
  },
  {
   "cell_type": "markdown",
   "metadata": {},
   "source": [
    "\n",
    "### Frame Differencing\n",
    "\n",
    "<b>Frame differencing</b> is a popular technique in computer vision that enables detection of movement or changes between consecutive frames in a video stream. It uses the process of computing the difference between pixel intensities of consecutive frames in a video. The resulting difference image, called a motion mask, reveals areas where changes have occurred.\n",
    "\n",
    " In this technique, each pixel in a video frame F1 is compared with its corresponding pixel in the subsequent frame F2. The difference in color and/or brightness between these two pixels is a measure of the amount of movement in that particular location. These differences can be summed across all of the pixels' locations, in order to provide a single measurement of the aggregate movement within the video frame. In some motion detection implementations, the video frame is spatially subdivided into a grid of cells, and the values derived from frame differencing are reported for each of the individual cells. For accuracy, the frame differencing algorithm depends on relatively stable environmental lighting, and on having a stationary camera (unless it is the motion of the camera which is being measured).\n"
   ]
  },
  {
   "cell_type": "markdown",
   "metadata": {},
   "source": [
    "### How does it work\n",
    "\n",
    "Given two consecutive frames \\( f_1 \\) and \\( f_2 \\), frame differencing computes their absolute difference to create a new image \\( D \\):\n",
    "\n",
    " D(x,y) = |f_2(x,y) - f_1(x,y)| \n",
    "\n",
    "The resulting image \\( D \\) will have higher intensity values in regions where there's significant change, highlighting movement.\n"
   ]
  },
  {
   "cell_type": "code",
   "execution_count": 1,
   "metadata": {},
   "outputs": [],
   "source": [
    "# Example Python Code for Absolute Difference using OpenCV\n",
    "import cv2\n",
    "import numpy as np\n",
    "\n",
    "def compute_difference(frame1, frame2):\n",
    "    return cv2.absdiff(frame1, frame2)\n"
   ]
  },
  {
   "cell_type": "code",
   "execution_count": 2,
   "metadata": {},
   "outputs": [
    {
     "ename": "",
     "evalue": "",
     "output_type": "error",
     "traceback": [
      "\u001b[1;31mThe Kernel crashed while executing code in the the current cell or a previous cell. Please review the code in the cell(s) to identify a possible cause of the failure. Click <a href='https://aka.ms/vscodeJupyterKernelCrash'>here</a> for more info. View Jupyter <a href='command:jupyter.viewOutput'>log</a> for further details."
     ]
    }
   ],
   "source": [
    "# libraries\n",
    "import cv2\n",
    "import numpy as np\n",
    "\n",
    "# Define the function to compute difference between frames\n",
    "def compute_difference(frame1, frame2):\n",
    "    assert frame1.shape == frame2.shape, \"Frames have different shapes.\"\n",
    "    diff = cv2.absdiff(frame1, frame2)\n",
    "    return diff\n",
    "\n",
    "# Read video stream from the default camera\n",
    "cap = cv2.VideoCapture(0)\n",
    "\n",
    "# Read the first frame and set it as reference\n",
    "ret, reference_frame = cap.read()\n",
    "\n",
    "while True:\n",
    "    ret, frame = cap.read()\n",
    "    if not ret:\n",
    "        break\n",
    "\n",
    "    # Use OpenCV to compute difference for demonstration\n",
    "    # diff_opencv = cv2.absdiff(reference_frame, frame)\n",
    "    # gray_diff_opencv = cv2.cvtColor(diff_opencv, cv2.COLOR_BGR2GRAY)\n",
    "    # _, thresholded_opencv = cv2.threshold(gray_diff_opencv, 25, 255, cv2.THRESH_BINARY)\n",
    "    # cv2.imshow(\"Motion Mask with OpenCV\", thresholded_opencv)\n",
    "    \n",
    "    # Use custom function to compute difference\n",
    "    diff_custom = compute_difference(reference_frame, frame)\n",
    "    gray_diff_custom = cv2.cvtColor(diff_custom, cv2.COLOR_BGR2GRAY)\n",
    "    _, thresholded_custom = cv2.threshold(gray_diff_custom, 100, 255, cv2.THRESH_BINARY)\n",
    "    cv2.imshow(\"Motion Mask Custom\", thresholded_custom)\n",
    "    \n",
    "    reference_frame = frame.copy()\n",
    "\n",
    "    # Exit loop on 'esc' key press\n",
    "    if cv2.waitKey(30) == 27:\n",
    "        break\n",
    "\n",
    "cap.release()\n",
    "cv2.destroyAllWindows()\n"
   ]
  },
  {
   "cell_type": "markdown",
   "metadata": {},
   "source": [
    "## Project\n",
    "\n",
    "Develop a system that monitors a video feed (from a webcam or security camera) and sends an alert whenever significant motion is detected. This project will use frame differencing to identify motion in the video stream.  Utlizing the summing of the differences of all the pixel values to create a threshold for movement in the scene."
   ]
  },
  {
   "cell_type": "code",
   "execution_count": 3,
   "metadata": {},
   "outputs": [],
   "source": [
    "import cv2\n",
    "import numpy as np\n",
    "\n",
    "def detect_motion(frame1, frame2):\n",
    "    assert frame1.shape == frame2.shape, \"Frames have different shapes.\"\n",
    "    diff = cv2.absdiff(frame1, frame2)\n",
    "    grayscale = cv2.cvtColor(diff, cv2.COLOR_BGR2GRAY)\n",
    "    _, thresholded = cv2.threshold(grayscale, 25, 255, cv2.THRESH_BINARY)\n",
    "    return thresholded\n",
    "\n",
    "# Initialize the webcam\n",
    "cap = cv2.VideoCapture(0)  # 0 indicates the default camera\n",
    "\n",
    "# Read the first frame\n",
    "ret, prev_frame = cap.read()\n",
    "\n",
    "try:\n",
    "    while ret:\n",
    "        # Read the next frame\n",
    "        ret, current_frame = cap.read()\n",
    "\n",
    "        if not ret:\n",
    "            break\n",
    "\n",
    "        # Detect motion\n",
    "        motion_mask = detect_motion(prev_frame, current_frame)\n",
    "\n",
    "        # Check if significant motion is detected. How many non-zero pixels are there. \n",
    "        motion_pixel_count = np.count_nonzero(motion_mask)\n",
    "\n",
    "        if motion_pixel_count > 20000:  # 20000 is an arbitrary threshold you might need to adjust\n",
    "            # Send an alert (in this case, display a message on the screen)\n",
    "            cv2.putText(current_frame, 'Motion Detected', (10, 50), cv2.FONT_HERSHEY_SIMPLEX, 1, (0, 0, 255), 2)\n",
    "        \n",
    "        # Display the video and the motion mask\n",
    "        cv2.imshow(\"Video Feed\", current_frame)\n",
    "        cv2.imshow(\"Motion Mask\", motion_mask)\n",
    "\n",
    "        # Update the previous frame\n",
    "        prev_frame = current_frame\n",
    "\n",
    "        # Press 'q' to exit\n",
    "        if cv2.waitKey(10) & 0xFF == ord('q'):\n",
    "            break\n",
    "\n",
    "finally:\n",
    "    cap.release()\n",
    "    cv2.destroyAllWindows()\n"
   ]
  }
 ],
 "metadata": {
  "kernelspec": {
   "display_name": "Python 3",
   "language": "python",
   "name": "python3"
  },
  "language_info": {
   "codemirror_mode": {
    "name": "ipython",
    "version": 3
   },
   "file_extension": ".py",
   "mimetype": "text/x-python",
   "name": "python",
   "nbconvert_exporter": "python",
   "pygments_lexer": "ipython3",
   "version": "3.9.1"
  },
  "orig_nbformat": 4
 },
 "nbformat": 4,
 "nbformat_minor": 2
}
