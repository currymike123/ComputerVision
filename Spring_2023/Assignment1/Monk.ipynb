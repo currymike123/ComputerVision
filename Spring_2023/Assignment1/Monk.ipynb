{
 "cells": [
  {
   "attachments": {},
   "cell_type": "markdown",
   "metadata": {},
   "source": [
    "#Module 1 Assignment "
   ]
  },
  {
   "cell_type": "code",
   "execution_count": null,
   "metadata": {},
   "outputs": [],
   "source": [
    "import cv2 \n",
    "import numpy as np \n",
    "img = cv2.imread('.images/troll face.jpg')\n",
    "print(img)\n",
    "img.shape\n",
    "cv2.imshow('example',img)\n",
    "cv2.waitkey(10000)\n",
    "cv2.destroyAllWindows()\n",
    "\n",
    "cv2.imshow('example',img)\n",
    "cv2.waitkey(0)\n",
    "cv2.destroyAllWindows()\n",
    "\n",
    "cv2.imwrite('./images/example.png',img)\n"
   ]
  },
  {
   "cell_type": "code",
   "execution_count": null,
   "metadata": {},
   "outputs": [],
   "source": [
    "import numpy as np\n",
    "x = np.array([50,75,100,125,150,175,200,225,250])\n",
    "print(x)\n",
    "print(x.dtype)\n",
    "image = [50,75,100,125,150,175,200,225,250]\n",
    "print(image[4])"
   ]
  },
  {
   "cell_type": "code",
   "execution_count": null,
   "metadata": {},
   "outputs": [],
   "source": [
    "import numpy as np \n",
    "A=np.array([\n",
    "    [50,75,100,],\n",
    "    [175,125,150],\n",
    "    [200,225,250]\n",
    "])\n",
    "print(A.shape)\n",
    "image = [[50,75,100,], [175,125,150],[200,225,250]]\n",
    "print (image[1][2])"
   ]
  }
 ],
 "metadata": {
  "kernelspec": {
   "display_name": "Python 3",
   "language": "python",
   "name": "python3"
  },
  "language_info": {
   "name": "python",
   "version": "3.11.1 (tags/v3.11.1:a7a450f, Dec  6 2022, 19:58:39) [MSC v.1934 64 bit (AMD64)]"
  },
  "orig_nbformat": 4,
  "vscode": {
   "interpreter": {
    "hash": "1b037eeacbddfc0ea02bdcc82ca7de0520d000c2bdf093feec408d93464b7cb9"
   }
  }
 },
 "nbformat": 4,
 "nbformat_minor": 2
}
