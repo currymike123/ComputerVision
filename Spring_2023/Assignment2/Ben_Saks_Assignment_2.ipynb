{
 "cells": [
  {
   "cell_type": "code",
   "execution_count": null,
   "metadata": {},
   "outputs": [
    {
     "name": "stdout",
     "output_type": "stream",
     "text": [
      "[0.78431373 0.29019608 0.21568627]\n",
      "The original rgb value:  [[[200  74  55]]]\n",
      "Converted to hsv:  [[[4, 185, 200]]]\n"
     ]
    }
   ],
   "source": [
    "import cv2\n",
    "import numpy as np\n",
    "import math\n",
    "from numpy import interp\n",
    "\n",
    "def rgb_to_hsv(rgb):\n",
    "    rgb = rgb/255\n",
    "    rgb = rgb[0][0]\n",
    "\n",
    "\n",
    "    # Initialize our H, S, V value \n",
    "    h = 0.0\n",
    "    s = 0.0\n",
    "\n",
    "    print(rgb)\n",
    "    vMax = max(rgb)\n",
    "    vMin = min(rgb)\n",
    "    \n",
    "    if vMax > 0.0:\n",
    "        s = (vMax - vMin) / vMax\n",
    "    else:\n",
    "        s = 0.0\n",
    "\n",
    "    diff = (vMax - vMin)\n",
    "\n",
    "    if rgb[0] == rgb[1] and rgb[1] == rgb[2]:\n",
    "        h = 0\n",
    "    elif rgb[0] == vMax:\n",
    "        h = (60 * ((rgb[1] - rgb[2]) / diff) + 360) % 360\n",
    "    elif rgb[1] == vMax:\n",
    "        h = (60 * ((rgb[1] - rgb[2]) / diff) + 120) % 360\n",
    "        # h = 120 + 60 * (rgb[2] - rgb[0]) / diff\n",
    "    elif rgb[2] == vMax:\n",
    "        h = (60 * ((rgb[1] - rgb[2]) / diff) + 240) % 360\n",
    "        # h = 240 + 60 * (rgb[0] - rgb[1]) / diff\n",
    "\n",
    "    return [[[math.ceil(((int(h) /180)) * 100), math.ceil(s * 255) , math.ceil(vMax*255)]]]\n",
    "rgb = np.uint8([[[200,74,55]]])\n",
    "hsv = rgb_to_hsv(rgb)\n",
    "print(\"The original rgb value: \", rgb)\n",
    "print(\"Converted to hsv: \", hsv)\n"
   ]
  }
 ],
 "metadata": {
  "kernelspec": {
   "display_name": ".venv",
   "language": "python",
   "name": "python3"
  },
  "language_info": {
   "codemirror_mode": {
    "name": "ipython",
    "version": 3
   },
   "file_extension": ".py",
   "mimetype": "text/x-python",
   "name": "python",
   "nbconvert_exporter": "python",
   "pygments_lexer": "ipython3",
   "version": "3.10.2 (tags/v3.10.2:a58ebcc, Jan 17 2022, 14:12:15) [MSC v.1929 64 bit (AMD64)]"
  },
  "orig_nbformat": 4,
  "vscode": {
   "interpreter": {
    "hash": "a7e2113ef46581b37559a17000b45f87b9efafc7cd12cff904c24b231f5bfe02"
   }
  }
 },
 "nbformat": 4,
 "nbformat_minor": 2
}
