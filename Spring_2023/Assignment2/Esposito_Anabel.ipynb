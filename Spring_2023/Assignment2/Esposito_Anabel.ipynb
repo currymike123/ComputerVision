{
 "cells": [
  {
   "cell_type": "markdown",
   "metadata": {},
   "source": [
    "(1) Convert the RGB to HSV code so it produces values in OpenCv's specified ranges and array structure. Your function should accept a 3D array and return HSV values in OpenCv's ranges. H -> [0,180], S -> [0,255], V -> [0,255]\n",
    "\n",
    "To test your function use the following rgb value: rgb = np.uint8([[[200,74,55]]])\n",
    "\n",
    "Your function should return: [[[4, 185, 200]]]"
   ]
  },
  {
   "cell_type": "code",
   "execution_count": 1,
   "metadata": {},
   "outputs": [
    {
     "name": "stdout",
     "output_type": "stream",
     "text": [
      "rgb value: [200  74  55]\n",
      "hsv value:  [[[  4 185 200]]]\n"
     ]
    }
   ],
   "source": [
    "import cv2\n",
    "import numpy as np\n",
    "from numpy import interp\n",
    "\n",
    "def rgb_to_hsv(rgb):\n",
    "\n",
    "    rgb = rgb/255\n",
    "\n",
    "    # Initialize HSV\n",
    "    h = 0.0\n",
    "    s = 0.0\n",
    "    v = 0.0\n",
    "    \n",
    "    #finding max and min RGB values\n",
    "    v = np.max(rgb)\n",
    "    vMin = np.min(rgb)\n",
    "\n",
    "    #saturation value\n",
    "    if(v>0.0):\n",
    "        s = (v - vMin)/v\n",
    "    else:\n",
    "        s = 0.0\n",
    "\n",
    "    #calculate (v-vMin) for later use\n",
    "    diff = (v - vMin)\n",
    "   \n",
    "    #are r,g,b equal\n",
    "    if(rgb[0] == rgb[1] and rgb[1] == rgb[2]):\n",
    "        h = 0\n",
    "    #is the point within 60 degrees of red axis\n",
    "    elif(rgb[0] == v):\n",
    "        h = 60 * (rgb[1] - rgb[2]) / diff\n",
    "    #is point within 60 degrees of green axis\n",
    "    elif(rgb[1] == v):\n",
    "        h = 120 + 60 * (rgb[2] - rgb[0]) / diff\n",
    "    #is point within 60 degrees of blue axis   \n",
    "    elif(rgb[2] == v):\n",
    "        h = 240 + 60 * (rgb[0] - rgb[1]) / diff\n",
    "\n",
    "    #returning hsv values\n",
    "    return np.array([h,s,v])\n",
    "\n",
    "#create rgb value\n",
    "rgb = np.array([200,74,55])\n",
    "rgb_cv = np.uint8([[[200,74,55]]])\n",
    "\n",
    "hsv = rgb_to_hsv(rgb)\n",
    "hsv_cv = cv2.cvtColor(rgb_cv,cv2.COLOR_RGB2HSV)\n",
    "\n",
    "#print statements\n",
    "print(\"rgb value:\", rgb)\n",
    "print(\"hsv value: \", hsv_cv)"
   ]
  }
 ],
 "metadata": {
  "kernelspec": {
   "display_name": "Python 3.10.7 64-bit",
   "language": "python",
   "name": "python3"
  },
  "language_info": {
   "codemirror_mode": {
    "name": "ipython",
    "version": 3
   },
   "file_extension": ".py",
   "mimetype": "text/x-python",
   "name": "python",
   "nbconvert_exporter": "python",
   "pygments_lexer": "ipython3",
   "version": "3.10.7"
  },
  "orig_nbformat": 4,
  "vscode": {
   "interpreter": {
    "hash": "aee8b7b246df8f9039afb4144a1f6fd8d2ca17a180786b69acc140d282b71a49"
   }
  }
 },
 "nbformat": 4,
 "nbformat_minor": 2
}
