{
 "cells": [
  {
   "cell_type": "code",
   "execution_count": 5,
   "metadata": {},
   "outputs": [
    {
     "name": "stdout",
     "output_type": "stream",
     "text": [
      "[[[200  74  55]]]\n",
      "[[[7.86206897 0.725      0.78431373]]]\n",
      "[[[  4 185 200]]]\n"
     ]
    }
   ],
   "source": [
    "import cv2\n",
    "import numpy as np\n",
    "from numpy import interp\n",
    "\n",
    "def rgb_to_hsv(rgb):\n",
    "    rgb = rgb/255\n",
    "\n",
    "    h = 0.0\n",
    "    s = 0.0\n",
    "    v = 0.0\n",
    "\n",
    "    v = np.max(rgb)\n",
    "    vMin = np.min(rgb)\n",
    "\n",
    "    if(v>0.0):\n",
    "        s = (v - vMin)/v\n",
    "    else:\n",
    "        s = 0.0\n",
    "    \n",
    "    diff = (v-vMin)\n",
    "    \n",
    "    if(rgb[0,0,0] == rgb[0,0,1] and rgb[0,0,1] == rgb[0,0,2]):\n",
    "        h = 0\n",
    "    elif(rgb[0,0,0] == v):\n",
    "        h = 60 *(rgb[0,0,1] - rgb[0,0,2])/diff\n",
    "    elif(rgb[0,0,1] == v):\n",
    "        h = 120 + 60 * (rgb[0,0,2] - rgb[0,0,0]) / diff\n",
    "    elif(rgb[0,0,2] == v):\n",
    "        h = 240 + 60 * (rgb[0,0,0] -rgb[0,0,1])/ diff\n",
    "    \n",
    "\n",
    "    return np.array([[[h,s,v]]])\n",
    "\n",
    "\n",
    "\n",
    "rgb = np.array([[[200, 74, 55]]])\n",
    "\n",
    "hsv = rgb_to_hsv(rgb)\n",
    "\n",
    "print(rgb)\n",
    "print(hsv)\n",
    "\n",
    "rgb_cv = np.uint8([[[200,74,55]]])\n",
    "hsv_cv = cv2.cvtColor(rgb_cv, cv2.COLOR_RGB2HSV)\n",
    "print(hsv_cv)"
   ]
  }
 ],
 "metadata": {
  "kernelspec": {
   "display_name": "Python 3",
   "language": "python",
   "name": "python3"
  },
  "language_info": {
   "codemirror_mode": {
    "name": "ipython",
    "version": 3
   },
   "file_extension": ".py",
   "mimetype": "text/x-python",
   "name": "python",
   "nbconvert_exporter": "python",
   "pygments_lexer": "ipython3",
   "version": "3.11.1"
  },
  "orig_nbformat": 4,
  "vscode": {
   "interpreter": {
    "hash": "544c7e72ceabb8b5baf00146d00b7c3a5bfd60d2cf41bb549c5c035fb33480da"
   }
  }
 },
 "nbformat": 4,
 "nbformat_minor": 2
}
