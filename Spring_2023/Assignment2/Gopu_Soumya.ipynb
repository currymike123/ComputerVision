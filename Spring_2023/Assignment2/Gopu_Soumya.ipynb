{
 "cells": [
  {
   "cell_type": "code",
   "execution_count": 1,
   "metadata": {},
   "outputs": [
    {
     "ename": "NameError",
     "evalue": "name 'cv2' is not defined",
     "output_type": "error",
     "traceback": [
      "\u001b[0;31m---------------------------------------------------------------------------\u001b[0m",
      "\u001b[0;31mNameError\u001b[0m                                 Traceback (most recent call last)",
      "\u001b[0;32m<ipython-input-1-a110816ca261>\u001b[0m in \u001b[0;36m<module>\u001b[0;34m\u001b[0m\n\u001b[1;32m     16\u001b[0m \u001b[0;34m\u001b[0m\u001b[0m\n\u001b[1;32m     17\u001b[0m \u001b[0;31m#rgb to hsv function\u001b[0m\u001b[0;34m\u001b[0m\u001b[0;34m\u001b[0m\u001b[0;34m\u001b[0m\u001b[0m\n\u001b[0;32m---> 18\u001b[0;31m \u001b[0mhsv\u001b[0m \u001b[0;34m=\u001b[0m \u001b[0mrgb_to_hsv\u001b[0m\u001b[0;34m(\u001b[0m\u001b[0mrgb\u001b[0m\u001b[0;34m)\u001b[0m\u001b[0;34m\u001b[0m\u001b[0;34m\u001b[0m\u001b[0m\n\u001b[0m\u001b[1;32m     19\u001b[0m \u001b[0;34m\u001b[0m\u001b[0m\n\u001b[1;32m     20\u001b[0m \u001b[0;31m#printing hsv value\u001b[0m\u001b[0;34m\u001b[0m\u001b[0;34m\u001b[0m\u001b[0;34m\u001b[0m\u001b[0m\n",
      "\u001b[0;32m<ipython-input-1-a110816ca261>\u001b[0m in \u001b[0;36mrgb_to_hsv\u001b[0;34m(rgb)\u001b[0m\n\u001b[1;32m      7\u001b[0m     \u001b[0;31m# hsv is an 3-D array [h,s,v] with values in range h = [0,180], s = [0,255], v = [0,255].\u001b[0m\u001b[0;34m\u001b[0m\u001b[0;34m\u001b[0m\u001b[0;34m\u001b[0m\u001b[0m\n\u001b[1;32m      8\u001b[0m \u001b[0;34m\u001b[0m\u001b[0m\n\u001b[0;32m----> 9\u001b[0;31m     \u001b[0mhsv\u001b[0m \u001b[0;34m=\u001b[0m \u001b[0mcv2\u001b[0m\u001b[0;34m.\u001b[0m\u001b[0mcvtColor\u001b[0m\u001b[0;34m(\u001b[0m\u001b[0mrgb\u001b[0m\u001b[0;34m,\u001b[0m \u001b[0mcv2\u001b[0m\u001b[0;34m.\u001b[0m\u001b[0mCOLOR_RGB2HSV\u001b[0m\u001b[0;34m)\u001b[0m\u001b[0;34m\u001b[0m\u001b[0;34m\u001b[0m\u001b[0m\n\u001b[0m\u001b[1;32m     10\u001b[0m \u001b[0;34m\u001b[0m\u001b[0m\n\u001b[1;32m     11\u001b[0m     \u001b[0;31m#returning hsv values in array\u001b[0m\u001b[0;34m\u001b[0m\u001b[0;34m\u001b[0m\u001b[0;34m\u001b[0m\u001b[0m\n",
      "\u001b[0;31mNameError\u001b[0m: name 'cv2' is not defined"
     ]
    }
   ],
   "source": [
    "# import libraries\n",
    "import cv\n",
    "import numpy as np\n",
    "\n",
    "def rgb_to_hsv(rgb):\n",
    "    \n",
    "    # rgb is an 3-D array [r,g,b] with values in range [0,255]. \n",
    "    # hsv is an 3-D array [h,s,v] with values in range h = [0,180], s = [0,255], v = [0,255].\n",
    "\n",
    "    hsv = cv2.cvtColor(rgb, cv2.COLOR_RGB2HSV)\n",
    "    \n",
    "    #returning hsv values in array\n",
    "    return hsv\n",
    "\n",
    "# creating rgb value\n",
    "rgb = np.uint8([[[200,74,55]]])\n",
    "\n",
    "#rgb to hsv function\n",
    "hsv = rgb_to_hsv(rgb)\n",
    "\n",
    "#printing hsv value\n",
    "print(\"Converted rgb value to hsv:\", hsv)"
   ]
  },
  {
   "cell_type": "code",
   "execution_count": 20,
   "metadata": {},
   "outputs": [
    {
     "name": "stdout",
     "output_type": "stream",
     "text": [
      "(2, 0, -1)\n"
     ]
    }
   ],
   "source": [
    "def hsv_to_rgb(h, s, v):\n",
    "    # Input: The hsv value h should be in the range of [0, 360]\n",
    "    h = h % 360\n",
    "    \n",
    "    # s value should be in the range of [0, 1]\n",
    "    s = s / 100\n",
    "    \n",
    "    # v value should be in the range of [0 ,1]\n",
    "    v = v / 100\n",
    "    \n",
    "    # Calculate chroma\n",
    "    c = v * s\n",
    "    \n",
    "    # Calculate the intermediate value x\n",
    "    x = c * (1 - abs(((h / 60) % 2) - 1))\n",
    "    \n",
    "    # Determine the values of r, g, and b based on h\n",
    "    # point within 0 to 60 degrees of the red axis\n",
    "    if  h >= 0 and h < 60:\n",
    "        r, g, b = c, x, 0\n",
    "    \n",
    "    # point within 0 to 60 degrees of the red axis    \n",
    "    elif  h >= 60 and h < 120:\n",
    "        r, g, b = x, c, 0\n",
    "        \n",
    "    # point within 0 to 60 degrees of the red axis   \n",
    "    elif  h >= 120 and h < 180:\n",
    "        r, g, b = 0, c, x\n",
    "        \n",
    "    # point within 0 to 60 degrees of the red axis    \n",
    "    elif  h >= 180 and h < 240:\n",
    "        r, g, b = 0, x, c\n",
    "    \n",
    "    # point within 0 to 60 degrees of the red axis    \n",
    "    elif  h >= 240 and h < 300:\n",
    "        r, g, b = x, 0, c\n",
    "        \n",
    "    # point within 0 to 60 degrees of the red axis    \n",
    "    elif h >= 300 and h <360:\n",
    "        r, g, b = c, 0, x\n",
    "    \n",
    "    # Calculate the final values of r, g, and b by adding the intermediate value to the value\n",
    "    m = v - c\n",
    "    r = int((r + m) * 255)\n",
    "    g = int((g + m) * 255)\n",
    "    b = int((b + m) * 255)\n",
    "    \n",
    "    # Return the RGB values as a tuple\n",
    "    return (r, g, b)\n",
    "\n",
    "h,s,v = 20,170,1\n",
    "rgb = hsv_to_rgb(h,s,v)\n",
    "print(rgb)"
   ]
  }
 ],
 "metadata": {
  "kernelspec": {
   "display_name": "Python 3",
   "language": "python",
   "name": "python3"
  },
  "language_info": {
   "codemirror_mode": {
    "name": "ipython",
    "version": 3
   },
   "file_extension": ".py",
   "mimetype": "text/x-python",
   "name": "python",
   "nbconvert_exporter": "python",
   "pygments_lexer": "ipython3",
   "version": "3.9.1"
  },
  "orig_nbformat": 4,
  "vscode": {
   "interpreter": {
    "hash": "949777d72b0d2535278d3dc13498b2535136f6dfe0678499012e853ee9abcab1"
   }
  }
 },
 "nbformat": 4,
 "nbformat_minor": 2
}
