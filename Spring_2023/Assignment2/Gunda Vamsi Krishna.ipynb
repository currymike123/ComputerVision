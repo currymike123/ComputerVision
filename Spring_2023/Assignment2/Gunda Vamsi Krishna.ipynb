{
 "cells": [
  {
   "attachments": {},
   "cell_type": "markdown",
   "metadata": {},
   "source": [
    "#RGB to HSV"
   ]
  },
  {
   "cell_type": "code",
   "execution_count": 16,
   "metadata": {},
   "outputs": [
    {
     "name": "stdout",
     "output_type": "stream",
     "text": [
      "h before interp 7.862068965517244\n",
      "s before interp 0.725\n",
      "v before interp 0.7843137254901961\n",
      "The original rgb value: [[[200  74  55]]]\n",
      "Converted to hsv: [[[  4 185 200]]]\n"
     ]
    }
   ],
   "source": [
    "\n",
    "import numpy as np\n",
    "from numpy import interp\n",
    "\n",
    "def rgb_to_hsv(rgb):\n",
    "    # Input: rgb is an 3-D array [r,g,b] with values in range [0,255]. \n",
    "    # r = rgb[0][0][0], b = rgb[0][0][1], g = rgb[0][0][2]\n",
    "    # Output: hsv is an 3-D array [h,s,v] with values in range h = [0,180], s = [0,255], v = [0,255].\n",
    "\n",
    "    # Normalize color values.  Convert to floating point values between 0 - 1\n",
    "    rgb = rgb/255\n",
    "\n",
    "    # Initialize HSV\n",
    "    h = 0.0\n",
    "    s = 0.0\n",
    "    v = 0.0\n",
    "\n",
    "    # Find the max and min RGB values. \n",
    "    v = np.max(rgb)\n",
    "    vMin = np.min(rgb)\n",
    "\n",
    "    # Set the saturation value.\n",
    "    if(v>0.0):\n",
    "        s = (v - vMin)/v\n",
    "    else:\n",
    "        s = 0.0\n",
    "\n",
    "    # Calculate (v - vMin) convenience\n",
    "    diff = (v - vMin)\n",
    "\n",
    "    # Compute the hue by the relative sizes of the RGB components\n",
    "\n",
    "    # Are r,g,b equal. \n",
    "    if(rgb[0][0][0] == rgb[0][0][1] and rgb[0][0][1] == rgb[0][0][2]):\n",
    "        h = 0\n",
    "    # Is the point within +/- 60 degrees of the red axis\n",
    "    elif(rgb[0][0][0] == v):\n",
    "        h = 60 * (rgb[0][0][1] - rgb[0][0][2]) / diff\n",
    "    # Is the point within +/- 60 degrees of the green axis\n",
    "    elif(rgb[0][0][1] == v):\n",
    "        h = 120 + 60 * (rgb[0][0][2] - rgb[0][0][0]) / diff\n",
    "    # IS the point within +/- 60 degrees of the blue axis\n",
    "    elif(rgb[0][0][2] == v):\n",
    "        h = 240 + 60 * (rgb[0][0][0] - rgb[0][0][1]) / diff\n",
    "\n",
    "    print(\"h before interp\",h)\n",
    "    print(\"s before interp\",s)\n",
    "    print(\"v before interp\",v)\n",
    "  \n",
    "  # interp function is used to convert the value of one range to other range \n",
    "    \n",
    "    s = round(np.interp(s,[0,1],[0,255]))\n",
    "    v = round(np.interp(v,[0,1],[0,255]))\n",
    "    h=round(h/2)\n",
    "    \n",
    "\n",
    "    # Return hsv values.\n",
    "    return np.array([[[h,s,v]]])\n",
    "\n",
    "# Create a rgb value.\n",
    "rgb = np.array([[[200,74,55]]])\n",
    "\n",
    "# Call the rgb_to_hsv function.  \n",
    "hsv = rgb_to_hsv(rgb)\n",
    "\n",
    "print(\"The original rgb value:\", rgb)\n",
    "print(\"Converted to hsv:\", hsv)\n",
    "\n",
    "\n",
    "   "
   ]
  },
  {
   "attachments": {},
   "cell_type": "markdown",
   "metadata": {},
   "source": [
    "#HSV to RGB"
   ]
  },
  {
   "cell_type": "code",
   "execution_count": 17,
   "metadata": {},
   "outputs": [
    {
     "name": "stdout",
     "output_type": "stream",
     "text": [
      "h after interp 8\n",
      "s after interp 0.7254901960784313\n",
      "v after interp 0.7843137254901961\n",
      "x is 0.07586825579905163\n",
      "[200.          74.24836601  54.90196078]\n"
     ]
    }
   ],
   "source": [
    "#The hsv values are mapped in the range of 0-1 from 0-255\n",
    "\n",
    "h=hsv[0][0][0]*2\n",
    "s=(np.interp(hsv[0][0][1],[0,255],[0,1]))\n",
    "v=(np.interp(hsv[0][0][2],[0,255],[0,1]))\n",
    "\n",
    "print(\"h after interp\",h)\n",
    "print(\"s after interp\",s)\n",
    "print(\"v after interp\",v)\n",
    "\n",
    "\n",
    "c=v*s\n",
    "\n",
    "x=c*(1-np.absolute((h/60)%2-1))\n",
    "\n",
    "print(\"x is\",x)\n",
    "\n",
    "m=v-c\n",
    "\n",
    "# Is the point within 0 to 60 degrees of the red axis\n",
    "if(h>=0 and h<60):\n",
    "    r1=c\n",
    "    g1=x\n",
    "    b1=0\n",
    "    # Is the point within  0 to -60 degrees of the green  axis\n",
    "elif(h>=60 and h<120):\n",
    "    r1=x\n",
    "    g1=c\n",
    "    b1=0\n",
    "    # Is the point within  0 to 60 degrees of the green axis\n",
    "elif(h>=120 and h<180):\n",
    "    r1=0\n",
    "    g1=c\n",
    "    b1=x\n",
    "    # Is the point within  0 to -60 degrees of the blue axis\n",
    "elif(h>=180 and h<240):\n",
    "    r1=0\n",
    "    g1=x\n",
    "    b1=c\n",
    "    # Is the point within  0 to 60 degrees of the blue axis\n",
    "elif(h>=240 and h<300):\n",
    "    r1=x\n",
    "    g1=0\n",
    "    b1=c\n",
    "    # Is the point within - 60 degrees of the red axis\n",
    "elif(h>=300 and h<360):\n",
    "    r1=x\n",
    "    g1=c\n",
    "    b1=0\n",
    "\n",
    "r=(r1+m)*255\n",
    "g=(g1+m)*255\n",
    "b=(b1+m)*255\n",
    "\n",
    "# Creating and printing the array with RGB values in it.\n",
    "print(np.array([r,g,b]))\n",
    "\n",
    "\n",
    "\n",
    "\n"
   ]
  }
 ],
 "metadata": {
  "kernelspec": {
   "display_name": "studysession",
   "language": "python",
   "name": "python3"
  },
  "language_info": {
   "codemirror_mode": {
    "name": "ipython",
    "version": 3
   },
   "file_extension": ".py",
   "mimetype": "text/x-python",
   "name": "python",
   "nbconvert_exporter": "python",
   "pygments_lexer": "ipython3",
   "version": "3.9.7"
  },
  "orig_nbformat": 4,
  "vscode": {
   "interpreter": {
    "hash": "c29dc5f6e15f724fee290721f7d7220653ba179d6088d2f7ff5a293b8fb8d15f"
   }
  }
 },
 "nbformat": 4,
 "nbformat_minor": 2
}
