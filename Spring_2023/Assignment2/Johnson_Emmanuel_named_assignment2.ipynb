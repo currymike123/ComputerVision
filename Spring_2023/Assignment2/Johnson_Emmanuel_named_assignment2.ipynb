{
 "cells": [
  {
   "attachments": {},
   "cell_type": "markdown",
   "metadata": {},
   "source": [
    "Emmanuel Johnson<br>\n",
    "Professor Curry<br>\n",
    "CPS 493 Image Processing<br>\n",
    "02/09/2023<br>\n",
    "Assignment 2<br>"
   ]
  },
  {
   "cell_type": "code",
   "execution_count": 13,
   "metadata": {},
   "outputs": [
    {
     "name": "stdout",
     "output_type": "stream",
     "text": [
      "[[[  2 185 200]]]\n"
     ]
    }
   ],
   "source": [
    "#Question 1\n",
    "import cv2\n",
    "import numpy as np\n",
    "import matplotlib.pyplot as plt\n",
    "\n",
    "#Question 1 - RGB to HSV\n",
    "\n",
    "RGB = np.uint8([[[200,74,55]]])\n",
    "\n",
    "def RGB2HSV(RGB):\n",
    "    HSV = cv2.cvtColor(RGB, cv2.COLOR_RGB2HSV)\n",
    "    HSV[..., 0] = HSV[..., 0] / 2\n",
    "    return np.uint8(HSV)\n",
    "\n",
    "HSV = RGB2HSV(RGB)\n",
    "print(HSV)\n",
    "\n",
    "#I should get 4, 185, 200 "
   ]
  }
 ],
 "metadata": {
  "kernelspec": {
   "display_name": "Assignemnt",
   "language": "python",
   "name": "python3"
  },
  "language_info": {
   "codemirror_mode": {
    "name": "ipython",
    "version": 3
   },
   "file_extension": ".py",
   "mimetype": "text/x-python",
   "name": "python",
   "nbconvert_exporter": "python",
   "pygments_lexer": "ipython3",
   "version": "3.10.6"
  },
  "orig_nbformat": 4,
  "vscode": {
   "interpreter": {
    "hash": "e6db720f17ba00d3018de5f418dbfba2fb96c5887a68776f5519ca4e8b1daa2b"
   }
  }
 },
 "nbformat": 4,
 "nbformat_minor": 2
}
