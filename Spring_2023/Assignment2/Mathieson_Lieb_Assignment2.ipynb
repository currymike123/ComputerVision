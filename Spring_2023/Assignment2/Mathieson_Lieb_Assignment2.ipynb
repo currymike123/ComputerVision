{
 "cells": [
  {
   "attachments": {},
   "cell_type": "markdown",
   "metadata": {},
   "source": [
    "# Assignment 2\n",
    "#### Lieb Mathieson\n",
    "#### Feb 9, 2023"
   ]
  },
  {
   "attachments": {},
   "cell_type": "markdown",
   "metadata": {},
   "source": [
    "## From Module1a:\n",
    "\n",
    "<img src=\"Images/rgb_hsv.png\">"
   ]
  },
  {
   "attachments": {},
   "cell_type": "markdown",
   "metadata": {},
   "source": [
    "#### Formula From Mod1:"
   ]
  },
  {
   "cell_type": "code",
   "execution_count": 145,
   "metadata": {},
   "outputs": [
    {
     "name": "stdout",
     "output_type": "stream",
     "text": [
      "The original rgb value: [200  74  55]\n",
      "Converted to hsv: [7.86206897 0.725      0.78431373]\n"
     ]
    }
   ],
   "source": [
    "import cv2\n",
    "import numpy as np\n",
    "from numpy import interp\n",
    "\n",
    "def rgb_to_hsv(rgb):\n",
    "    # Input: rgb is an 1-D array [r,g,b] with values in range [0,255]. \n",
    "    # r = rgb[0], b = rgb[1], g = rgb[2]\n",
    "    # Output: hsv is an 1-D array [h,s,v] with values in range h = [0,360], s = [0,1], v = [0,1].\n",
    "\n",
    "    # Normalize color values.  Convert to floating point values between 0 - 1\n",
    "    rgb = rgb/255\n",
    "\n",
    "    # Initialize HSV\n",
    "    h = 0.0\n",
    "    s = 0.0\n",
    "    v = 0.0\n",
    "\n",
    "    # Find the max and min RGB values. \n",
    "    v = np.max(rgb)\n",
    "    vMin = np.min(rgb)\n",
    "\n",
    "    # Set the saturation value.\n",
    "    if(v>0.0):\n",
    "        s = (v - vMin)/v\n",
    "    else:\n",
    "        s = 0.0\n",
    "\n",
    "    # Calculate (v - vMin) convenience\n",
    "    diff = (v - vMin)\n",
    "\n",
    "    # Compute the hue by the relative sizes of the RGB components\n",
    "\n",
    "    # If r,g,b are equal, hue = 0. \n",
    "    if(rgb[0] == rgb[1] and rgb[1] == rgb[2]):\n",
    "        h = 0\n",
    "    # Is the point within +/- 60 degrees of the red axis\n",
    "    elif(rgb[0] == v):\n",
    "        h = 60 * (rgb[1] - rgb[2]) / diff\n",
    "    # Is the point within +/- 60 degrees of the green axis\n",
    "    elif(rgb[1] == v):\n",
    "        h = 120 + 60 * (rgb[2] - rgb[0]) / diff\n",
    "    # IS the point within +/- 60 degrees of the blue axis\n",
    "    elif(rgb[2] == v):\n",
    "        h = 240 + 60 * (rgb[0] - rgb[1]) / diff\n",
    "    \n",
    "\n",
    "    # Return hsv values.\n",
    "    return np.array([h,s,v])\n",
    "\n",
    "# Create a rgb value.\n",
    "rgb = np.array([200,74,55])\n",
    "\n",
    "# Call the rgb_to_hsv function.  \n",
    "hsv = rgb_to_hsv(rgb)\n",
    "\n",
    "print(\"The original rgb value:\", rgb)\n",
    "print(\"Converted to hsv:\", hsv)\n",
    "   "
   ]
  },
  {
   "cell_type": "code",
   "execution_count": 146,
   "metadata": {},
   "outputs": [
    {
     "name": "stdout",
     "output_type": "stream",
     "text": [
      "OpenCv hsv: [[[  4 185 200]]]\n"
     ]
    }
   ],
   "source": [
    "\n",
    "rgb_cv = np.uint8([[[200,74,55]]])\n",
    "hsv_cv = cv2.cvtColor(rgb_cv,cv2.COLOR_RGB2HSV)\n",
    "print(\"OpenCv hsv:\", hsv_cv) "
   ]
  },
  {
   "cell_type": "code",
   "execution_count": 147,
   "metadata": {},
   "outputs": [
    {
     "name": "stdout",
     "output_type": "stream",
     "text": [
      "HSV converted to OpenCv's range: [[[4, 185, 200]]]\n"
     ]
    }
   ],
   "source": [
    "s = np.interp(.725,[0,1],[0,255])\n",
    "v = np.interp(.78431,[0,1],[0,255])\n",
    "print(\"HSV converted to OpenCv's range:\", [[[round(hsv[0]/2),round(s),round(v)]]])"
   ]
  },
  {
   "attachments": {},
   "cell_type": "markdown",
   "metadata": {},
   "source": [
    "(1) Convert the RGB to HSV code so it produces values in OpenCv's specified ranges and array structure. Your function should accept a 3D array and return HSV values in OpenCv's ranges. H -> [0,180], S -> [0,255], V -> [0,255]\n",
    "\n",
    "To test your function use the following rgb value: rgb = np.uint8([[[200,74,55]]])\n",
    "\n",
    "Your function should return: [[[4, 185, 200]]]"
   ]
  },
  {
   "attachments": {},
   "cell_type": "markdown",
   "metadata": {},
   "source": [
    "## Part 1:\n",
    "Formula for converting RGB to HSV using a 3d array."
   ]
  },
  {
   "cell_type": "code",
   "execution_count": 148,
   "metadata": {},
   "outputs": [
    {
     "name": "stdout",
     "output_type": "stream",
     "text": [
      "Original RGB value: [[[200  74  55]]]\n",
      "Converted HSV Value: [7.86206897 0.725      0.78431373]\n"
     ]
    }
   ],
   "source": [
    "def rgb_to_hsv_in_3D(rgb):\n",
    "    \n",
    "    # Normalize RGB values from 1-255 -> 0-1\n",
    "    rgb = rgb/255\n",
    "\n",
    "    # Initialize HSV as floating point values\n",
    "    h = 0.0\n",
    "    s = 0.0\n",
    "    v = 0.0\n",
    "\n",
    "    # Find the max and min RGB values. \n",
    "    v = np.max(rgb)\n",
    "    vMin = np.min(rgb)\n",
    "\n",
    "    # Set the saturation value.\n",
    "    if(v>0.0):\n",
    "        s = (v - vMin)/v\n",
    "    else:\n",
    "        s = 0.0\n",
    "\n",
    "    # Calculate (v - vMin) \n",
    "    diff = (v - vMin)\n",
    "\n",
    "    # Compute the hue by the relative sizes of the RGB components\n",
    "\n",
    "    # Are r,g,b equal. \n",
    "    if(rgb[0][0][0] == rgb[0][0][1] and rgb[0][0][1] == rgb[0][0][2]):\n",
    "        h = 0\n",
    "    # Is the point within +/- 60 degrees of the red axis\n",
    "    elif(rgb[0][0][0] == v):\n",
    "        h = 60 * (rgb[0][0][1] - rgb[0][0][2]) / diff\n",
    "    # Is the point within +/- 60 degrees of the green axis\n",
    "    elif(rgb[0][0][1] == v):\n",
    "        h = 120 + 60 * (rgb[0][0][2] - rgb[0][0][0]) / diff\n",
    "    # IS the point within +/- 60 degrees of the blue axis\n",
    "    elif(rgb[0][0][2] == v):\n",
    "        h = 240 + 60 * (rgb[0][0][0] - rgb[0][0][1]) / diff\n",
    "    \n",
    "\n",
    "    # Return hsv values.\n",
    "    return np.array([h,s,v])\n",
    "\n",
    "\n",
    "    \n",
    "\n",
    "rgb = np.uint8([[[200,74,55]]])\n",
    "#rgb = np.uint8([[[255,255,255]]])\n",
    "# Call Function\n",
    "HSV = rgb_to_hsv_in_3D(rgb)  \n",
    " \n",
    "print('Original RGB value:', rgb)\n",
    "print('Converted HSV Value:', HSV)\n",
    "# return: [[[4, 185, 200]]]"
   ]
  },
  {
   "cell_type": "code",
   "execution_count": 152,
   "metadata": {},
   "outputs": [
    {
     "name": "stdout",
     "output_type": "stream",
     "text": [
      "HSV converted to OpenCv's range: [[[4, 185, 200]]]\n"
     ]
    }
   ],
   "source": [
    "# Carry Over from Above\n",
    "s = np.interp(.725,[0,1],[0,255])\n",
    "v = np.interp(.78431,[0,1],[0,255])\n",
    "print(\"HSV converted to OpenCv's range:\", [[[round(HSV[0]/2),round(s),round(v)]]])\n",
    "\n",
    "hsv = [[[4, 185, 200]]]"
   ]
  },
  {
   "attachments": {},
   "cell_type": "markdown",
   "metadata": {},
   "source": [
    "## Part 2:\n",
    "Converting HSV back to RGB\n",
    "\n",
    "<img src=\"Images/hsv_rgb.png\">"
   ]
  },
  {
   "cell_type": "code",
   "execution_count": 153,
   "metadata": {},
   "outputs": [
    {
     "name": "stdout",
     "output_type": "stream",
     "text": [
      "RGB value:  [30.49800000000001, 234.60000000000002, 234.60000000000002]\n"
     ]
    }
   ],
   "source": [
    "def hsv_to_rgb(hsv):\n",
    "    #extract HSV values\n",
    "    h = (hsv[0])\n",
    "    s = hsv[1]\n",
    "    v = hsv[2]\n",
    "\n",
    "    # declare RGB values\n",
    "    r = 0.0\n",
    "    g = 0.0\n",
    "    b = 0.0\n",
    "    \n",
    "    # normalize value and saturation to 1-100\n",
    "    c = ((v/100) * (s/100))\n",
    "\n",
    "    # Calculate x\n",
    "    # abs() is the same as |...| in above formula\n",
    "    x = c*(1 - abs(((h/60)%2)-1))\n",
    "    \n",
    "    # calculate m\n",
    "    m = (v/100)-c\n",
    "    \n",
    "\n",
    "    # Determine color based on hue degree\n",
    "    if(h>=0 and h < 60):\n",
    "        r = c\n",
    "        g = x\n",
    "        b = 0\n",
    "    elif(h>= 60 and h <120):\n",
    "        r = x\n",
    "        g = c\n",
    "        b = 0\n",
    "    elif(h>=120 and h < 180):\n",
    "        r = 0\n",
    "        g = c\n",
    "        b = x\n",
    "    elif(h>=180 and h < 240):\n",
    "        r = 0\n",
    "        g = x\n",
    "        b = c\n",
    "    elif(h>=240 and h < 300):\n",
    "        r = x\n",
    "        g = 0\n",
    "        b = c\n",
    "    elif(h>=300 and h < 360):\n",
    "        r = c\n",
    "        g = 0\n",
    "        b = x\n",
    "\n",
    "    # Convert Values back to rgb\n",
    "    r = (r+m)*255\n",
    "    g = (g+m)*255\n",
    "    b = (b+m)*255\n",
    "\n",
    "    return [r,g,b]\n",
    "\n",
    "hsv = [180, 87, 92]\n",
    "\n",
    "rgb = hsv_to_rgb(hsv)\n",
    "print(\"RGB value: \",rgb)\n",
    " "
   ]
  },
  {
   "attachments": {},
   "cell_type": "markdown",
   "metadata": {},
   "source": [
    "### Results:\n",
    "\n",
    "I was unable to convert HSV to RGB in the same way as cv2. However, comparing the values to Photoshop's color conversion tools, the results line up."
   ]
  }
 ],
 "metadata": {
  "kernelspec": {
   "display_name": "Python 3",
   "language": "python",
   "name": "python3"
  },
  "language_info": {
   "codemirror_mode": {
    "name": "ipython",
    "version": 3
   },
   "file_extension": ".py",
   "mimetype": "text/x-python",
   "name": "python",
   "nbconvert_exporter": "python",
   "pygments_lexer": "ipython3",
   "version": "3.10.6"
  },
  "orig_nbformat": 4,
  "vscode": {
   "interpreter": {
    "hash": "aee8b7b246df8f9039afb4144a1f6fd8d2ca17a180786b69acc140d282b71a49"
   }
  }
 },
 "nbformat": 4,
 "nbformat_minor": 2
}
