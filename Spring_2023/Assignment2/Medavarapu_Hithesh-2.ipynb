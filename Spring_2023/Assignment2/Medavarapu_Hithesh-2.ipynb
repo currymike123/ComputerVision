{
 "cells": [
  {
   "cell_type": "code",
   "execution_count": 37,
   "metadata": {},
   "outputs": [],
   "source": [
    "#importing libraries\n",
    "import cv2\n",
    "import numpy as np\n",
    "from numpy import interp\n",
    "import matplotlib.pyplot as plt"
   ]
  },
  {
   "attachments": {},
   "cell_type": "markdown",
   "metadata": {},
   "source": [
    "## RGB to HSV function for 3D array"
   ]
  },
  {
   "cell_type": "code",
   "execution_count": 38,
   "metadata": {},
   "outputs": [
    {
     "name": "stdout",
     "output_type": "stream",
     "text": [
      "The original RGB value: [[[200  74  55]]]\n",
      "HSV value is:  [  4 185 200]\n"
     ]
    }
   ],
   "source": [
    "# giving the rgb value as an argument\n",
    "def rgb_to_hsv(rgb):\n",
    "\n",
    "    # converting values from 0-255 to 0-1\n",
    "    rgb = rgb/255\n",
    "\n",
    "    # initializing H,S,V values\n",
    "    h=0.0\n",
    "    s=0.0\n",
    "    v=0.0\n",
    "\n",
    "    # from formula, v is the maximum of rgb\n",
    "    v=np.max(rgb)\n",
    "\n",
    "    # for convinience\n",
    "    vMin=np.min(rgb)\n",
    "    diff = (v-vMin)\n",
    "\n",
    "    # calculate saturation from formula\n",
    "    if(v>0.0):\n",
    "        s=(v-vMin)/v\n",
    "    else:\n",
    "        s=0.0\n",
    "    \n",
    "    # if r,g,b equal \n",
    "    if(rgb[0][0][0] == rgb[0][0][1] and rgb[0][0][1] == rgb[0][0][2]):\n",
    "        h = 0\n",
    "    # Is the point within +/- 60 degrees of the red axis\n",
    "    elif(rgb[0][0][0] == v):\n",
    "        h = 60 * (rgb[0][0][1] - rgb[0][0][2]) / diff\n",
    "    # Is the point within +/- 60 degrees of the green axis\n",
    "    elif(rgb[0][0][1] == v):\n",
    "        h = 120 + 60 * (rgb[0][0][2] - rgb[0][0][0]) / diff\n",
    "    # IS the point within +/- 60 degrees of the blue axis\n",
    "    elif(rgb[0][0][2] == v):\n",
    "        h = 240 + 60 * (rgb[0][0][0] - rgb[0][0][1]) / diff\n",
    "    \n",
    "    h=h/2\n",
    "\n",
    "    # interp s,v values from 0-1 to 0-255\n",
    "    s=np.interp(s,[0,1],[0,255])\n",
    "    v=np.interp(v,[0,1],[0,255])\n",
    "    \n",
    "    # Return H,S,V and round them to integers\n",
    "    return np.array([round(h),round(s),round(v)])\n",
    "\n",
    "    \n",
    "\n",
    "rgb = np.uint8([[[200,74,55]]])\n",
    "print(\"The original RGB value:\", rgb)\n",
    "hsv = rgb_to_hsv(rgb)\n",
    "#print(rgb.shape)\n",
    "print(\"HSV value is: \",hsv)"
   ]
  },
  {
   "attachments": {},
   "cell_type": "markdown",
   "metadata": {},
   "source": [
    "## HSV to RGB conversion function"
   ]
  },
  {
   "cell_type": "code",
   "execution_count": 39,
   "metadata": {},
   "outputs": [
    {
     "name": "stdout",
     "output_type": "stream",
     "text": [
      "HSV value is: [  4 185 200]\n",
      "Converted RGB value is: [200.0, 74, 55]\n"
     ]
    }
   ],
   "source": [
    "# giving hsv values as argument\n",
    "def hsv_to_rgb(hsv):\n",
    "    \n",
    "    h = hsv[0]\n",
    "    s = hsv[1]\n",
    "    v = hsv[2]\n",
    "\n",
    "    # converting values from 0-1\n",
    "    h=h * 2\n",
    "    s=np.interp(s,(0,255),(0,1))\n",
    "    v=np.interp(v,(0,255),(0,1))\n",
    "    \n",
    "    # from formula \n",
    "    c = v * s\n",
    "    x = c * (1- abs(((h/60)%2)-1))\n",
    "    m = v - c\n",
    "\n",
    "    # initializing r,g,b values\n",
    "    rgb1 = [0,0,0]\n",
    "\n",
    "    # conditional statemets to calculate from formula\n",
    "    if(0 <= h < 60):\n",
    "        rgb1 = [c, x, 0]\n",
    "    elif(60 <= h < 120):\n",
    "        rgb1 = [x, c, 0]\n",
    "    elif(120 <= h < 180):\n",
    "        rgb1 = [0, c, x]\n",
    "    elif(180 <= h < 240):\n",
    "        rgb1 = [0, x, c]\n",
    "    elif(240 <= h < 300):\n",
    "        rgb1 = [x, 0, c]\n",
    "    elif(300 <= h < 360):\n",
    "        rgb1 = [c, 0, x]\n",
    "    \n",
    "\n",
    "    r = rgb1[0]\n",
    "    g = rgb1[1]\n",
    "    b = rgb1[2]\n",
    "\n",
    "    # rounding to the integers and multiplying with 255 \n",
    "    rgb = [((r+m)*255),round(((g+m)*255)),round(((b+m)*255))]\n",
    "    return rgb\n",
    "\n",
    "rgb =  hsv_to_rgb(hsv)\n",
    "print(\"HSV value is:\", hsv)\n",
    "print(\"Converted RGB value is:\",rgb)"
   ]
  },
  {
   "cell_type": "code",
   "execution_count": null,
   "metadata": {},
   "outputs": [],
   "source": []
  }
 ],
 "metadata": {
  "kernelspec": {
   "display_name": "Python 3",
   "language": "python",
   "name": "python3"
  },
  "language_info": {
   "codemirror_mode": {
    "name": "ipython",
    "version": 3
   },
   "file_extension": ".py",
   "mimetype": "text/x-python",
   "name": "python",
   "nbconvert_exporter": "python",
   "pygments_lexer": "ipython3",
   "version": "3.11.1"
  },
  "orig_nbformat": 4,
  "vscode": {
   "interpreter": {
    "hash": "c261aea317cc0286b3b3261fbba9abdec21eaa57589985bb7a274bf54d6cc0a7"
   }
  }
 },
 "nbformat": 4,
 "nbformat_minor": 2
}
