{
 "cells": [
  {
   "cell_type": "code",
   "execution_count": 1,
   "metadata": {},
   "outputs": [
    {
     "name": "stdout",
     "output_type": "stream",
     "text": [
      "[[[  4 185 200]]]\n"
     ]
    }
   ],
   "source": [
    "# import libraries\n",
    "import cv2\n",
    "import numpy as np\n",
    "\n",
    "def rgb_to_hsv(rgb):\n",
    "    hsv = cv2.cvtColor(rgb, cv2.COLOR_RGB2HSV)\n",
    "    return hsv\n",
    "\n",
    "rgb = np.uint8([[[200,74,55]]])\n",
    "hsv = rgb_to_hsv(rgb)\n",
    "print(hsv)"
   ]
  },
  {
   "cell_type": "code",
   "execution_count": 2,
   "metadata": {},
   "outputs": [
    {
     "name": "stdout",
     "output_type": "stream",
     "text": [
      "(76, -74, -144)\n"
     ]
    }
   ],
   "source": [
    "def hsv_to_rgb(h, s, v):\n",
    "    # The hue  should be in  [0, 360]\n",
    "    h = h % 360\n",
    "    \n",
    "    # Converting s and v values to be in the range from [0, 1]\n",
    "    s = s / 100\n",
    "    v = v / 100\n",
    "    \n",
    "    # calculating chroma\n",
    "    c = v * s\n",
    "    \n",
    "    # calculating the intermediate value of x\n",
    "    x = c * (1 - abs(((h / 60) % 2) - 1))\n",
    "    \n",
    "    # Determining  the r, g, and b based on hue h\n",
    "    if h >= 0 and h < 60:\n",
    "        r, g, b = c, x, 0\n",
    "    elif h >= 60 and h < 120:\n",
    "        r, g, b = x, c, 0\n",
    "    elif h >= 120 and h < 180:\n",
    "        r, g, b = 0, c, x\n",
    "    elif h >= 180 and h < 240:\n",
    "        r, g, b = 0, x, c\n",
    "    elif h >= 240 and h < 300:\n",
    "        r, g, b = x, 0, c\n",
    "    else:\n",
    "        r, g, b = c, 0, x\n",
    "    \n",
    "    # Calculate the final values of r, g, and adding the intermediate value to the value\n",
    "    m = v - c\n",
    "    #calculating the red axis \n",
    "    r = int((r + m) * 255) \n",
    "    #calculating the green axis \n",
    "    g = int((g + m) * 255) \n",
    "    #calculating the blue axis \n",
    "    b = int((b + m) * 255) \n",
    "    \n",
    "    # Return the RGB values as a tuple\n",
    "    return (r, g, b)\n",
    "\n",
    "h,s,v = 19,289,30\n",
    "rgb = hsv_to_rgb(h,s,v)\n",
    "print(rgb)"
   ]
  }
 ],
 "metadata": {
  "kernelspec": {
   "display_name": "Python 3",
   "language": "python",
   "name": "python3"
  },
  "language_info": {
   "codemirror_mode": {
    "name": "ipython",
    "version": 3
   },
   "file_extension": ".py",
   "mimetype": "text/x-python",
   "name": "python",
   "nbconvert_exporter": "python",
   "pygments_lexer": "ipython3",
   "version": "3.11.1"
  },
  "orig_nbformat": 4,
  "vscode": {
   "interpreter": {
    "hash": "56b7d676b384d11689c6bbd3fe7477ccb8d31ddf67c8c9377e40456132ae5361"
   }
  }
 },
 "nbformat": 4,
 "nbformat_minor": 2
}
