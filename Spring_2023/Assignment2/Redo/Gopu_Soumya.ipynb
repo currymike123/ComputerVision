{
 "cells": [
  {
   "cell_type": "code",
   "execution_count": 9,
   "metadata": {},
   "outputs": [
    {
     "name": "stdout",
     "output_type": "stream",
     "text": [
      "Converted rgb value to hsv: [[[  4 185 200]]]\n"
     ]
    }
   ],
   "source": [
    "\n",
    "import numpy as np\n",
    "from numpy import interp\n",
    "\n",
    "def rgb_to_hsv(rgb):\n",
    "    # rgb is an 3-D array [r,g,b] with values in range [0,255]. \n",
    "    # r = rgb[0][0][0], b = rgb[0][0][1], g = rgb[0][0][2]\n",
    "    # hsv is an 3-D array [h,s,v] with values in range h = [0,180], s = [0,255], v = [0,255].\n",
    "\n",
    "    # Normalize color values.  Convert to floating point values between 0 - 1\n",
    "    rgb = rgb/255\n",
    "\n",
    "    # Initialize HSV\n",
    "    h = 0.0\n",
    "    s = 0.0\n",
    "    v = 0.0\n",
    "\n",
    "    # Find the max and min RGB values. \n",
    "    v = np.max(rgb)\n",
    "    vMin = np.min(rgb)\n",
    "\n",
    "    # Set the saturation value.\n",
    "    if(v>0.0):\n",
    "        s = (v - vMin)/v\n",
    "    else:\n",
    "        s = 0.0\n",
    "\n",
    "    # Calculate (v - vMin) convenience\n",
    "    diff = (v - vMin)\n",
    "\n",
    "    # Compute the hue by the relative sizes of the RGB components\n",
    "\n",
    "    # Are r,g,b equal. \n",
    "    if(rgb[0][0][0] == rgb[0][0][1] and rgb[0][0][1] == rgb[0][0][2]):\n",
    "        h = 0\n",
    "    # Is the point within +/- 60 degrees of the red axis\n",
    "    elif(rgb[0][0][0] == v):\n",
    "        h = 60 * (rgb[0][0][1] - rgb[0][0][2]) / diff\n",
    "    # Is the point within +/- 60 degrees of the green axis\n",
    "    elif(rgb[0][0][1] == v):\n",
    "        h = 120 + 60 * (rgb[0][0][2] - rgb[0][0][0]) / diff\n",
    "    # IS the point within +/- 60 degrees of the blue axis\n",
    "    elif(rgb[0][0][2] == v):\n",
    "        h = 240 + 60 * (rgb[0][0][0] - rgb[0][0][1]) / diff\n",
    "\n",
    "  \n",
    "  #HSV values are are converted to ranges as\n",
    "  # H- [0,180]\n",
    "  # S- [0,255]\n",
    "  # V- [0,255]\n",
    "    \n",
    "    s = round(np.interp(s,[0,1],[0,255]))\n",
    "    v = round(np.interp(v,[0,1],[0,255]))\n",
    "    h=round(h/2)\n",
    "    \n",
    "\n",
    "    # Return hsv values as a 3-D array\n",
    "    return np.array([[[h,s,v]]])   \n",
    "\n",
    "# creating rgb value\n",
    "rgb = np.uint8([[[200,74,55]]])\n",
    "\n",
    "#rgb to hsv function\n",
    "hsv = rgb_to_hsv(rgb)\n",
    "\n",
    "#printing hsv value\n",
    "print(\"Converted rgb value to hsv:\", hsv)"
   ]
  },
  {
   "cell_type": "code",
   "execution_count": 12,
   "metadata": {},
   "outputs": [
    {
     "name": "stdout",
     "output_type": "stream",
     "text": [
      "(2, 0, -1)\n"
     ]
    }
   ],
   "source": [
    "\n",
    "import numpy as np\n",
    "from numpy import interp\n",
    "\n",
    "def hsv_to_rgb(h, s, v):\n",
    "    # The hsv value h in the range of [0, 360]\n",
    "    h = h % 360\n",
    "    \n",
    "    # s value in the range of [0, 1]\n",
    "    s = s / 100\n",
    "    \n",
    "    # v value in the range of [0 ,1]\n",
    "    v = v / 100\n",
    "    \n",
    "    c = v * s\n",
    "    \n",
    "    # Calculate the intermediate value x\n",
    "    x = c * (1 - abs(((h / 60) % 2) - 1))\n",
    "    \n",
    "    # Determine the values of r, g, and b based on h\n",
    "    # point within 0 to 60 degrees of the red axis\n",
    "    if  h >= 0 and h < 60:\n",
    "        r, g, b = c, x, 0\n",
    "    \n",
    "    # point within 0 to 60 degrees of the red axis    \n",
    "    elif  h >= 60 and h < 120:\n",
    "        r, g, b = x, c, 0\n",
    "        \n",
    "    # point within 0 to 60 degrees of the red axis   \n",
    "    elif  h >= 120 and h < 180:\n",
    "        r, g, b = 0, c, x\n",
    "        \n",
    "    # point within 0 to 60 degrees of the red axis    \n",
    "    elif  h >= 180 and h < 240:\n",
    "        r, g, b = 0, x, c\n",
    "    \n",
    "    # point within 0 to 60 degrees of the red axis    \n",
    "    elif  h >= 240 and h < 300:\n",
    "        r, g, b = x, 0, c\n",
    "        \n",
    "    # point within 0 to 60 degrees of the red axis    \n",
    "    elif h >= 300 and h <360:\n",
    "        r, g, b = c, 0, x\n",
    "    \n",
    "    # Calculate the final values of r, g, and b by adding the intermediate value to the value\n",
    "    m = v - c\n",
    "    r = int((r + m) * 255)\n",
    "    g = int((g + m) * 255)\n",
    "    b = int((b + m) * 255)\n",
    "    \n",
    "    # Return the RGB values as a tuple\n",
    "    return (r, g, b)\n",
    "\n",
    "h,s,v = 20,170,1\n",
    "rgb = hsv_to_rgb(h,s,v)\n",
    "print(rgb)"
   ]
  }
 ],
 "metadata": {
  "kernelspec": {
   "display_name": "Python 3.11.1 64-bit",
   "language": "python",
   "name": "python3"
  },
  "language_info": {
   "codemirror_mode": {
    "name": "ipython",
    "version": 3
   },
   "file_extension": ".py",
   "mimetype": "text/x-python",
   "name": "python",
   "nbconvert_exporter": "python",
   "pygments_lexer": "ipython3",
   "version": "3.11.1"
  },
  "orig_nbformat": 4,
  "vscode": {
   "interpreter": {
    "hash": "aee8b7b246df8f9039afb4144a1f6fd8d2ca17a180786b69acc140d282b71a49"
   }
  }
 },
 "nbformat": 4,
 "nbformat_minor": 2
}
