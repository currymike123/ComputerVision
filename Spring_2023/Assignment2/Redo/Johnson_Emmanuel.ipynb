{
 "cells": [
  {
   "attachments": {},
   "cell_type": "markdown",
   "metadata": {},
   "source": [
    "Emmanuel Johnson<br>\n",
    "Professor Curry<br>\n",
    "CPS 493 Image Processing<br>\n",
    "02/09/2023<br>\n",
    "Assignment 2<br>"
   ]
  },
  {
   "cell_type": "code",
   "execution_count": 29,
   "metadata": {},
   "outputs": [
    {
     "name": "stdout",
     "output_type": "stream",
     "text": [
      "RGB:  [[[200  74  55]]] \n",
      "HSV:  [[[  4 185 200]]]\n"
     ]
    }
   ],
   "source": [
    "import cv2\n",
    "import numpy as np\n",
    "import matplotlib.pyplot as plt\n",
    "import math\n",
    "from numpy import interp\n",
    "\n",
    "#Question 1 - RGB to HSV\n",
    "\n",
    "def RGB2HSV(rgb):\n",
    "    # Input: rgb is an 1-D array [r,g,b] with values in range [0,255]. \n",
    "    # r = rgb[0], b = rgb[1], g = rgb[2]\n",
    "    # Output: hsv is an 1-D array [h,s,v] with values in range h = [0,360], s = [0,1], v = [0,1].\n",
    "\n",
    "    # Normalize color values.  Convert to floating point values between 0 - 1\n",
    "    rgb = rgb/255\n",
    "\n",
    "    # Initialize HSV\n",
    "    #took away the decimal point values\n",
    "    h = 0.0\n",
    "    s = 0.0\n",
    "    v = 0.0\n",
    "\n",
    "    # Find the max and min RGB values. \n",
    "    v = np.max(rgb)\n",
    "    vMin = np.min(rgb)\n",
    "\n",
    "    # Set the saturation value.\n",
    "    if(v>0.0):\n",
    "        s = (v - vMin)/v\n",
    "    else:\n",
    "        s = 0.0\n",
    "\n",
    "    # Calculate (v - vMin) convenience\n",
    "    diff = (v - vMin)\n",
    "\n",
    "    # Compute the hue by the relative sizes of the RGB components\n",
    "\n",
    "    # Are r,g,b equal. \n",
    "    if(rgb[0][0][0] == rgb[0][0][1] and rgb[0][0][1] == rgb[0][0][2]):\n",
    "        h = 0\n",
    "    # Is the point within +/- 60 degrees of the red axis\n",
    "    elif(rgb[0][0][0] == v):\n",
    "        h = 60 * (rgb[0][0][1] - rgb[0][0][2]) / diff\n",
    "    # Is the point within +/- 60 degrees of the green axis\n",
    "    elif(rgb[0][0][1] == v):\n",
    "        h = 120 + 60 * (rgb[0][0][2] - rgb[0][0][0]) / diff\n",
    "    # IS the point within +/- 60 degrees of the blue axis\n",
    "    elif(rgb[0][0][2] == v):\n",
    "        h = 240 + 60 * (rgb[0][0][0] - rgb[0][0][1]) / diff\n",
    "    \n",
    "    # Convert to OpenCv ranges\n",
    "    #Personal note: This may also be referred to as Interpolation\n",
    "    h = math.floor(round(h)/2)\n",
    "    s = round(np.interp(.725,[0,1],[0,255]))\n",
    "    v = round(np.interp(.78431,[0,1],[0,255]))\n",
    "\n",
    "    \n",
    "    #print(\"HSV converted to OpenCv's range:\", [[[round(hsv[0]/2),round(s),round(v)]]])\n",
    "\n",
    "    # Return hsv values.\n",
    "    return np.array([[[h,s,v]]])\n",
    "\n",
    "RGB = np.uint8([[[200,74,55]]])\n",
    "\n",
    "HSV = RGB2HSV(RGB)\n",
    "print(\"RGB: \",RGB,\"\\nHSV: \",HSV)"
   ]
  },
  {
   "cell_type": "code",
   "execution_count": 74,
   "metadata": {},
   "outputs": [
    {
     "name": "stdout",
     "output_type": "stream",
     "text": [
      "2466.666666666666\n",
      "[18819000, 9386466.666666666, 9384000]\n"
     ]
    }
   ],
   "source": [
    "import cv2\n",
    "import numpy as np\n",
    "import matplotlib.pyplot as plt\n",
    "import math\n",
    "from numpy import interp\n",
    "\n",
    "#Question 2 - HSV to RGB Extra Credit\n",
    "\n",
    "def HSV2RGB(HSV):\n",
    "    H=HSV[0]\n",
    "    S=HSV[1]\n",
    "    V=HSV[2]\n",
    "    \n",
    "    #Set C X m values\n",
    "    C=V*S\n",
    "    X=C*(1-abs((H/60)%2 -1))\n",
    "    m=abs(V-C)\n",
    "    print(X)\n",
    "    \n",
    "    # R' G' B' statement\n",
    "    if(0<=H<60):\n",
    "        (Rn,Gn,Bn)=(C,X,0)\n",
    "    elif(60<=H<120):\n",
    "        (Rn,Gn,Bn)=(X,C,0)\n",
    "    elif(120<=H<180):\n",
    "        (Rn,Gn,Bn)=(0,C,X)\n",
    "    elif(180<=H<240):\n",
    "        (Rn,Gn,Bn)=(0,X,C)\n",
    "    elif(240<=H<300):\n",
    "        (Rn,Gn,Bn)=(X,0,C)\n",
    "    elif(300<=H<360):\n",
    "        (Rn,Gn,Bn)=(C,0,X)\n",
    "        \n",
    "    #Final Conversion to RGB\n",
    "    (R,G,B)=((Rn+m)*255,(Gn+m*255),(Bn+m*255))\n",
    "    return [R,G,B]\n",
    "\n",
    "HSV = [4,185,200]\n",
    "print(HSV2RGB(HSV))\n",
    "#should output 200 74 55"
   ]
  }
 ],
 "metadata": {
  "kernelspec": {
   "display_name": "Python 3",
   "language": "python",
   "name": "python3"
  },
  "language_info": {
   "codemirror_mode": {
    "name": "ipython",
    "version": 3
   },
   "file_extension": ".py",
   "mimetype": "text/x-python",
   "name": "python",
   "nbconvert_exporter": "python",
   "pygments_lexer": "ipython3",
   "version": "3.9.1"
  },
  "orig_nbformat": 4,
  "vscode": {
   "interpreter": {
    "hash": "949777d72b0d2535278d3dc13498b2535136f6dfe0678499012e853ee9abcab1"
   }
  }
 },
 "nbformat": 4,
 "nbformat_minor": 2
}
