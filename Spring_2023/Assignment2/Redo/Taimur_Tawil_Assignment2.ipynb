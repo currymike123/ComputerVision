{
 "cells": [
  {
   "cell_type": "code",
   "execution_count": 10,
   "metadata": {},
   "outputs": [],
   "source": [
    "import cv2\n",
    "import numpy as np\n",
    "from numpy import interp\n",
    "import copy"
   ]
  },
  {
   "cell_type": "code",
   "execution_count": 31,
   "metadata": {},
   "outputs": [
    {
     "name": "stdout",
     "output_type": "stream",
     "text": [
      "[[[  4. 185. 200.]]]\n"
     ]
    }
   ],
   "source": [
    "def rgb_to_hsv(rgb):\n",
    "    # Input: rgb is an 3-D array [ [[r,g,b],[r,g,b],[r,g,b]], [[r,g,b], [r,g,b], [r,g,b]], [[r,g,b], [r,g,b], [r,g,b]] ] with values in range [0,255].\n",
    "    # r = rgb[0][0][0], b = rgb[0][0][1], g = rgb[0][0][2]\n",
    "    # Output: hsv is an 1-D array [h,s,v] with values in range h = [0,360], s = [0,1], v = [0,1].\n",
    "\n",
    "    # Normalize color values. Convert to floating point values between 0 - 1\n",
    "    rgb = rgb/255\n",
    "\n",
    "    # Initialize HSV\n",
    "    hsv = copy.copy(rgb) * 0.0\n",
    "\n",
    "    for i in range(len(rgb)):\n",
    "        for j in range(len(rgb[i])):\n",
    "            v = np.max(rgb[i][j])\n",
    "            vMin = np.min(rgb[i][j])\n",
    "            \n",
    "            if(v>0.0):\n",
    "                s=(v - vMin)/v\n",
    "            else:\n",
    "                s = 0.0\n",
    "            diff = (v - vMin)\n",
    "            if(rgb[i][j][0] == rgb[i][j][1] and rgb[i][j][1] == rgb[i][j][2]):\n",
    "                h = 0\n",
    "            elif(rgb[i][j][0] == v):\n",
    "                h = 60 * (rgb[i][j][1] - rgb[i][j][2]) / diff\n",
    "            elif(rgb[i][j][1] == v):\n",
    "                h = 120 + 60 * (rgb[i][j][2] - rgb[i][j][0]) / diff\n",
    "            elif(rgb[i][j][2] == v):\n",
    "                h = 240 + 60 * (rgb[i][j][0] - rgb[i][j][1]) / diff\n",
    "            h = round(h/2)\n",
    "            s = np.interp(s, [0,1], [0,255])\n",
    "            v = np.interp(v, [0,1], [0,255])\n",
    "            hsv[i][j][0] = round(h)\n",
    "            hsv[i][j][1] = round(s)\n",
    "            hsv[i][j][2] = round(v)\n",
    "    return hsv        \n",
    "# Create a rgb value.\n",
    "rgb = np.array([[[200,74,55]]])\n",
    "# Call the rgb_to_hsv function.\n",
    "hsv = rgb_to_hsv(rgb)\n",
    "print(hsv)\n",
    "\n",
    "\n"
   ]
  }
 ],
 "metadata": {
  "kernelspec": {
   "display_name": ".venv",
   "language": "python",
   "name": "python3"
  },
  "language_info": {
   "codemirror_mode": {
    "name": "ipython",
    "version": 3
   },
   "file_extension": ".py",
   "mimetype": "text/x-python",
   "name": "python",
   "nbconvert_exporter": "python",
   "pygments_lexer": "ipython3",
   "version": "3.11.1"
  },
  "orig_nbformat": 4,
  "vscode": {
   "interpreter": {
    "hash": "b651b888c505e79440e9b9251c2f884051ab9897b461d07fb7217fafb0ab3b7a"
   }
  }
 },
 "nbformat": 4,
 "nbformat_minor": 2
}
