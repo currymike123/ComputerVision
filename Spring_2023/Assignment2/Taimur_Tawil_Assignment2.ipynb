{
 "cells": [
  {
   "cell_type": "code",
   "execution_count": 24,
   "metadata": {},
   "outputs": [],
   "source": [
    "import cv2 as cv\n",
    "import numpy as np\n",
    "import matplotlib.pyplot as plt\n",
    "import math"
   ]
  },
  {
   "cell_type": "code",
   "execution_count": 33,
   "metadata": {},
   "outputs": [
    {
     "name": "stdout",
     "output_type": "stream",
     "text": [
      "x\n",
      "[[200  74  55]]\n",
      "y\n",
      "[200  74  55]\n",
      "x\n",
      "[[200  74  55]]\n",
      "y\n",
      "[200  74  55]\n",
      "[[7.862068965517244, 72.5, 20000], [7.862068965517244, 72.5, 20000]]\n"
     ]
    }
   ],
   "source": [
    "def rgbtohsv(rgb):\n",
    "    #takes in your 3-d array returns list of hsv values\n",
    "    hsv = []\n",
    "    #declare hsv list\n",
    "    #iterate through the 3d array to get individual rgb values\n",
    "    for x in rgb:\n",
    "        for y in x:\n",
    "            for z in y:\n",
    "                z = z/255.0\n",
    "                #divide each value in a [r,g,b] by 255\n",
    "            \n",
    "            r = y[0]\n",
    "            g = y[1]\n",
    "            b = y[2]\n",
    "            #call helper function and append to hsv array\n",
    "            hsv.append(helper(r, g, b))\n",
    "    return hsv\n",
    "def helper(r, g, b):\n",
    "    #get max and min values\n",
    "    maxc = max(r, g, b)\n",
    "    minc = min(r, g, b)\n",
    "    v = maxc\n",
    "    if minc == maxc:\n",
    "        return 0.0, 0.0, v\n",
    "    s = (maxc-minc) / maxc\n",
    "    rc = (maxc-r) / (maxc-minc)\n",
    "    gc = (maxc-g) / (maxc-minc)\n",
    "    bc = (maxc-b) / (maxc-minc)\n",
    "    if r == maxc:\n",
    "        h = 0.0+bc-gc\n",
    "    elif g == maxc:\n",
    "        h = 2.0+rc-bc\n",
    "    else:\n",
    "        h = 4.0+gc-rc\n",
    "    h = (h/6.0) % 1.0\n",
    "    return [h * 360, s * 100, v ]\n",
    "\n",
    "\n",
    "rgb = np.uint8([[[200,74,55]]])\n",
    "print(rgbtohsv(rgb))\n",
    "#not sure why this is not returning the correct values I found this algorithm online and it was consistent with every other one i found\n",
    "\n",
    "\n",
    "\n"
   ]
  },
  {
   "cell_type": "code",
   "execution_count": null,
   "metadata": {},
   "outputs": [],
   "source": []
  },
  {
   "cell_type": "code",
   "execution_count": null,
   "metadata": {},
   "outputs": [],
   "source": []
  }
 ],
 "metadata": {
  "kernelspec": {
   "display_name": ".venv",
   "language": "python",
   "name": "python3"
  },
  "language_info": {
   "codemirror_mode": {
    "name": "ipython",
    "version": 3
   },
   "file_extension": ".py",
   "mimetype": "text/x-python",
   "name": "python",
   "nbconvert_exporter": "python",
   "pygments_lexer": "ipython3",
   "version": "3.11.1"
  },
  "orig_nbformat": 4,
  "vscode": {
   "interpreter": {
    "hash": "b651b888c505e79440e9b9251c2f884051ab9897b461d07fb7217fafb0ab3b7a"
   }
  }
 },
 "nbformat": 4,
 "nbformat_minor": 2
}
