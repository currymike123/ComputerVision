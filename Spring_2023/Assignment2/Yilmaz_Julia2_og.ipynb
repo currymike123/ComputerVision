{
 "cells": [
  {
   "cell_type": "code",
   "execution_count": 8,
   "metadata": {},
   "outputs": [
    {
     "name": "stdout",
     "output_type": "stream",
     "text": [
      "The original rgb value: [[[200  74  55]]]\n",
      "Converted to hsv: [[[7.86206897 0.725      0.78431373]]]\n"
     ]
    }
   ],
   "source": [
    "import cv2 \n",
    "import numpy as np\n",
    "from numpy import interp\n",
    "\n",
    "# Convert the RGB to HSV code so it produces values in OpenCv's specified ranges and array structure. Your function should\n",
    "# accept a 3D array and return HSV values in OpenCv's ranges. H -> [0,180], S -> [0,255], V -> [0,255]\n",
    "\n",
    "def rgb_to_hsv(rgb):\n",
    "    \n",
    "    # Normalize color values.  Convert to floating point values between 0 - 1\n",
    "    rgb = rgb/255 \n",
    "\n",
    "    # Initialize HSV\n",
    "    h = 0.0\n",
    "    s = 0.0\n",
    "    v = 0.0\n",
    "\n",
    "    # Find the max and min RGB values. \n",
    "    v = np.max(rgb)\n",
    "    vMin = np.min(rgb)\n",
    "\n",
    "    # Set the saturation value.\n",
    "    if(v>0.0):\n",
    "        s = (v - vMin)/v\n",
    "    else:\n",
    "        s = 0.0\n",
    "\n",
    "    # Calculate (v - vMin) convenience\n",
    "    diff = (v - vMin)\n",
    "\n",
    "    # Compute the hue by the relative sizes of the RGB components\n",
    "\n",
    "    # Are r,g,b equal. \n",
    "    if(rgb[0][0][0] == rgb[0][0][1] and rgb[0][0][1] == rgb[0][0][2]):\n",
    "        h = 0\n",
    "    # Is the point within +/- 60 degrees of the red axis\n",
    "    elif(rgb[0][0][0] == v):\n",
    "        h = 60 * (rgb[0][0][1] - rgb[0][0][2]) / diff\n",
    "    # Is the point within +/- 60 degrees of the green axis\n",
    "    elif(rgb[0][0][1] == v):\n",
    "        h = 120 + 60 * (rgb[0][0][2] - rgb[0][0][0]) / diff\n",
    "    # IS the point within +/- 60 degrees of the blue axis\n",
    "    elif(rgb[0][0][2] == v):\n",
    "        h = 240 + 60 * (rgb[0][0][0] - rgb[0][0][1]) / diff\n",
    "    \n",
    "\n",
    "    # Return hsv values.\n",
    "    return np.array([[[h,s,v]]]) \n",
    "\n",
    "# Create a rgb value.\n",
    "rgb = np.array([[[200,74,55]]])\n",
    "\n",
    "# Call the rgb_to_hsv function.  \n",
    "hsv = rgb_to_hsv(rgb)\n",
    "\n",
    "print(\"The original rgb value:\", rgb)\n",
    "print(\"Converted to hsv:\", hsv)"
   ]
  },
  {
   "cell_type": "code",
   "execution_count": 9,
   "metadata": {},
   "outputs": [
    {
     "name": "stdout",
     "output_type": "stream",
     "text": [
      "OpenCv hsv: [[[  4 185 200]]]\n"
     ]
    }
   ],
   "source": [
    "rgb_cv = np.uint8(rgb)\n",
    "hsv_cv = cv2.cvtColor(rgb_cv,cv2.COLOR_RGB2HSV)\n",
    "print(\"OpenCv hsv:\", hsv_cv) "
   ]
  },
  {
   "cell_type": "code",
   "execution_count": 11,
   "metadata": {},
   "outputs": [
    {
     "name": "stdout",
     "output_type": "stream",
     "text": [
      "HSV converted to OpenCv's range: [[[4, 185, 200]]]\n"
     ]
    }
   ],
   "source": [
    "# Convert to OpenCv ranges\n",
    "\n",
    "s = np.interp(.725,[0,1],[0,255])\n",
    "v = np.interp(.78431,[0,1],[0,255])\n",
    "print(\"HSV converted to OpenCv's range:\", [[[round(hsv[0][0][0]/2),round(s),round(v)]]])"
   ]
  }
 ],
 "metadata": {
  "kernelspec": {
   "display_name": "Python 3",
   "language": "python",
   "name": "python3"
  },
  "language_info": {
   "codemirror_mode": {
    "name": "ipython",
    "version": 3
   },
   "file_extension": ".py",
   "mimetype": "text/x-python",
   "name": "python",
   "nbconvert_exporter": "python",
   "pygments_lexer": "ipython3",
   "version": "3.11.1"
  },
  "orig_nbformat": 4,
  "vscode": {
   "interpreter": {
    "hash": "0d46feb8f6410c68edf396d6c63c545fc3c564501b1a8cdac05ed7b5c2b040c0"
   }
  }
 },
 "nbformat": 4,
 "nbformat_minor": 2
}
