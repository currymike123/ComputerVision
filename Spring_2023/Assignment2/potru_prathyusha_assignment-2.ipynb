{
 "cells": [
  {
   "cell_type": "code",
   "execution_count": null,
   "metadata": {},
   "outputs": [
    {
     "name": "stdout",
     "output_type": "stream",
     "text": [
      "[[[  4 185 200]]]\n"
     ]
    }
   ],
   "source": [
    "# import libraries\n",
    "import cv2\n",
    "import numpy as np\n",
    "\n",
    "def rgb_to_hsv(rgb):\n",
    "    hsv = cv2.cvtColor(rgb, cv2.COLOR_RGB2HSV)\n",
    "    return hsv\n",
    "\n",
    "rgb = np.uint8([[[200,74,55]]])\n",
    "hsv = rgb_to_hsv(rgb)\n",
    "print(hsv)"
   ]
  },
  {
   "cell_type": "code",
   "execution_count": null,
   "metadata": {},
   "outputs": [
    {
     "name": "stdout",
     "output_type": "stream",
     "text": [
      "(22, -8, -19)\n"
     ]
    }
   ],
   "source": [
    "def hsv_to_rgb(h, s, v):\n",
    "    # The hue value h should be in the range [0, 360]\n",
    "    h = h % 360\n",
    "    \n",
    "    # Convert s and v values to be in the range [0, 1]\n",
    "    s = s / 100\n",
    "    v = v / 100\n",
    "    \n",
    "    # Calculate chroma\n",
    "    c = v * s\n",
    "    \n",
    "    # Calculate the intermediate value x\n",
    "    x = c * (1 - abs(((h / 60) % 2) - 1))\n",
    "    \n",
    "    # Determine the values of r, g, and b based on h\n",
    "    if h >= 0 and h < 60:\n",
    "        r, g, b = c, x, 0\n",
    "    elif h >= 60 and h < 120:\n",
    "        r, g, b = x, c, 0\n",
    "    elif h >= 120 and h < 180:\n",
    "        r, g, b = 0, c, x\n",
    "    elif h >= 180 and h < 240:\n",
    "        r, g, b = 0, x, c\n",
    "    elif h >= 240 and h < 300:\n",
    "        r, g, b = x, 0, c\n",
    "    else:\n",
    "        r, g, b = c, 0, x\n",
    "    \n",
    "    # Calculate the final values of r, g, and b by adding the intermediate value to the value\n",
    "    m = v - c\n",
    "    r = int((r + m) * 255)\n",
    "    g = int((g + m) * 255)\n",
    "    b = int((b + m) * 255)\n",
    "    \n",
    "    # Return the RGB values as a tuple\n",
    "    return (r, g, b)\n",
    "\n",
    "h,s,v = 15,185,9\n",
    "rgb = hsv_to_rgb(h,s,v)\n",
    "print(rgb)"
   ]
  },
  {
   "cell_type": "code",
   "execution_count": null,
   "metadata": {},
   "outputs": [],
   "source": []
  }
 ],
 "metadata": {
  "kernelspec": {
   "display_name": "Python 3",
   "language": "python",
   "name": "python3"
  },
  "language_info": {
   "codemirror_mode": {
    "name": "ipython",
    "version": 3
   },
   "file_extension": ".py",
   "mimetype": "text/x-python",
   "name": "python",
   "nbconvert_exporter": "python",
   "pygments_lexer": "ipython3",
   "version": "3.11.1"
  },
  "orig_nbformat": 4,
  "vscode": {
   "interpreter": {
    "hash": "5238573367df39f7286bb46f9ff5f08f63a01a80960060ce41e3c79b190280fa"
   }
  }
 },
 "nbformat": 4,
 "nbformat_minor": 2
}
