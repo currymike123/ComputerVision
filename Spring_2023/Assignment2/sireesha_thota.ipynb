{
 "cells": [
  {
   "cell_type": "code",
   "execution_count": 9,
   "metadata": {},
   "outputs": [],
   "source": [
    "import cv2\n",
    "import numpy as np\n",
    "from numpy import interp"
   ]
  },
  {
   "cell_type": "code",
   "execution_count": 10,
   "metadata": {},
   "outputs": [],
   "source": [
    "def rgb_to_hsv(rgb):\n",
    "  ## Input: rgb is an 3-D array with values in range [0,255].\n",
    "  # r = rgb[0][0][0], b = rgb[0][0][1], g = rgb[0][0][2]\n",
    "  # Output: hsv is an 1-D array [h,s,v] with values in range h = [0,180], s = [0,255], v = [0,255].\n",
    "  # Normalize color values. Convert to floating point values between 0 - 1\n",
    "    rgb=rgb/255\n",
    "    \n",
    "    # Initialize HSV\n",
    "    h = 0.0\n",
    "    s = 0.0\n",
    "    v = 0.0\n",
    "    # to find the max and min RGB values and set the V \n",
    "    v = np.max(rgb)\n",
    "    vMin = np.min(rgb)\n",
    "    # Set the saturation value.\n",
    "    if(v>0.0):\n",
    "      s = (v - vMin)/v\n",
    "    else:\n",
    "      s = 0.0\n",
    "    # Calculate (v - vMin) convenience\n",
    "    diff = (v - vMin)\n",
    "    # Compute the hue by the relative sizes of the RGB components\n",
    "\n",
    "    # Are r,g,b equal.\n",
    "    if(rgb[0][0][0] == rgb[0][0][1] and rgb[0][0][1] == rgb[0][0][2]):\n",
    "      h = 0\n",
    "    # Is the point within +/- 60 degrees of the red axis\n",
    "    elif(rgb[0][0][0] == v):\n",
    "      h = 60 * (rgb[0][0][1] - rgb[0][0][2]) / diff\n",
    "    # Is the point within +/- 60 degrees of the green axis\n",
    "    elif(rgb[0][0][1] == v):\n",
    "      h = 120 + 60 * (rgb[0][0][2] - rgb[0][0][0]) / diff\n",
    "    # IS the point within +/- 60 degrees of the blue axis\n",
    "    elif(rgb[0][0][2] == v):\n",
    "      h = 240 + 60 * (rgb[0][0][0] - rgb[0][0][1]) / diff\n",
    "\n",
    "    h=round(h/2)\n",
    "    #Normalize color values. Convert to floating point values between 0 - 255\n",
    "    s = round(np.interp(s,[0,1],[0,255]))\n",
    "    v = round(np.interp(v,[0,1],[0,255]))\n",
    "    return np.array([[[h,s,v]]])"
   ]
  },
  {
   "cell_type": "code",
   "execution_count": 11,
   "metadata": {},
   "outputs": [
    {
     "name": "stdout",
     "output_type": "stream",
     "text": [
      "The original rgb value: [[[200  74  55]]]\n",
      "Converted to hsv: [[[  4 185 200]]]\n"
     ]
    }
   ],
   "source": [
    "rgb = np.uint8([[[200,74,55]]])\n",
    "# Call the rgb_to_hsv function.\n",
    "hsv = rgb_to_hsv(rgb)\n",
    "\n",
    "#printing values\n",
    "print(\"The original rgb value:\", rgb)\n",
    "print(\"Converted to hsv:\", hsv)\n"
   ]
  },
  {
   "attachments": {},
   "cell_type": "markdown",
   "metadata": {},
   "source": [
    "HSV_RGB conversion"
   ]
  },
  {
   "cell_type": "code",
   "execution_count": 12,
   "metadata": {},
   "outputs": [
    {
     "name": "stdout",
     "output_type": "stream",
     "text": [
      "The original hsv value: [[[  4 185 200]]]\n",
      "Converted to rgb: [[[200, 74, 55]]]\n"
     ]
    }
   ],
   "source": [
    "# assign hsv seperately as h s v\n",
    "h=hsv[0][0][0]\n",
    "s=hsv[0][0][1]\n",
    "v=hsv[0][0][2]\n",
    "\n",
    "h=h*2\n",
    "# Normalize color values. Convert to floating point values between 0 - 1\n",
    "s=np.interp(185,[0,255],[0,1])\n",
    "v=np.interp(200,[0,255],[0,1])\n",
    "\n",
    "#set the values of  c x m\n",
    "c=v*s\n",
    "x=c*(1 - abs(((h/60) % 2) - 1))\n",
    "m=v-c\n",
    "\n",
    "#initialize rgb array\n",
    "rgb=[0,0,0]\n",
    "\n",
    "## Is the point when + 60 degrees of the red axis\n",
    "if(0<=h<60):\n",
    "    rgb=[c,x,0]\n",
    " # Is the point when + 60 degrees of the green axis\n",
    "elif(60<=h<120):\n",
    "    rgb=[x,c,0]\n",
    "# Is the point when + 60 degrees of the blue axis\n",
    "elif(120<=h<180):\n",
    "    rgb=[0,c,x]\n",
    "# Is the point when - 60 degrees of the blue axis\n",
    "elif(180<=h<240):\n",
    "    rgb=[0,x,c]\n",
    "# Is the point when - 60 degrees of the green axis\n",
    "elif(240<=h<300):\n",
    "    rgb=[x,0,c]\n",
    "    # Is the point when - 60 degrees of the red axis\n",
    "elif(300<=h<360):\n",
    "    rgb=[c,0,x]\n",
    "\n",
    "\n",
    "\n",
    "    \n",
    "# converting them in to range 0-255\n",
    "rgb=[[[round(((rgb[0]+m)*255)),round(((rgb[1]+m)*255)),round(((rgb[2]+m)*255))]]]\n",
    "\n",
    "#print converted rgb values\n",
    "print(\"The original hsv value:\", hsv)\n",
    "print(\"Converted to rgb:\", rgb)"
   ]
  }
 ],
 "metadata": {
  "kernelspec": {
   "display_name": "Python 3",
   "language": "python",
   "name": "python3"
  },
  "language_info": {
   "codemirror_mode": {
    "name": "ipython",
    "version": 3
   },
   "file_extension": ".py",
   "mimetype": "text/x-python",
   "name": "python",
   "nbconvert_exporter": "python",
   "pygments_lexer": "ipython3",
   "version": "3.11.1"
  },
  "orig_nbformat": 4,
  "vscode": {
   "interpreter": {
    "hash": "8ed9eca2ed1ad15822e0d492f67620ce61cdf5884ba79781fbb330e0115b7dc9"
   }
  }
 },
 "nbformat": 4,
 "nbformat_minor": 2
}
