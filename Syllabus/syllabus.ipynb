{
 "cells": [
  {
   "attachments": {},
   "cell_type": "markdown",
   "metadata": {},
   "source": [
    "# Image Processing & Computer Vision <br>\n",
    "\n",
    "3 Credit Hours<br> \n",
    "M-R  11:00 PM-12:15 PM <br>\n",
    "Humanities 216 <br> \n",
    "\n",
    "Michael Curry: currym6@newpaltz.edu<br>\n",
    "<hr>"
   ]
  },
  {
   "attachments": {},
   "cell_type": "markdown",
   "metadata": {},
   "source": [
    "### Course Description\n",
    "The course will begin with a discussion of digital image formats and data structures, with a view to understanding how digital images are formed and stored. The course will then transition into modules on the manipulation of stored image data covering topics such as filtering, transforming, and sorting. Later in the course, we will study image classification, segmentation and recognition. We will use openCV computer vision software extensively at this stage. Finally, time permitting, we will look at video image tracking and feature detection."
   ]
  },
  {
   "attachments": {},
   "cell_type": "markdown",
   "metadata": {},
   "source": [
    "### Topics Covered\n",
    "\n",
    "<ol>\n",
    "<li>Color, Image, Pixels</li>\n",
    "<li>Data Structures for Image Data</li>\n",
    "<li>Color Systems & File Types</li>\n",
    "<li>Image Analysis: Histograms</li>\n",
    "<li>Searching Image Data</li>\n",
    "<li>Filtering & Transforming</li>\n",
    "<li>Image Compression & Sampling</li>\n",
    "<li>Interpolation</li>\n",
    "<li>Convolution</li>\n",
    "<li>Feature Detection</li>\n",
    "<li>Object Detection</li>\n",
    "<li>Tracking</li>\n",
    "\n",
    "</ol>"
   ]
  },
  {
   "attachments": {},
   "cell_type": "markdown",
   "metadata": {},
   "source": [
    "### Texts \n",
    "No textbook but PDF's will be provided."
   ]
  },
  {
   "attachments": {},
   "cell_type": "markdown",
   "metadata": {},
   "source": [
    "### Student Learning Objectives\n",
    "\n",
    "On successful completion of the course, students will be proficient in techniques for analyzing image data.  They will understand data structures, file types, and color spaces images are stored in.  They will be able to search through image data and manipulate its contents through filtering and compression.  Using these building blocks, they will be able to implement computer vision algorithms for feature detection, object detection, and tracking.  They will be able to use these techniques in modern computer vision and machine learning disciplines. "
   ]
  },
  {
   "attachments": {},
   "cell_type": "markdown",
   "metadata": {},
   "source": [
    "### Grading and Attendance\n",
    "\n",
    "<ol>\n",
    "<li>Homework: 30% </li>\n",
    "<li>Quizzes and In Class Projects: 30%</li>\n",
    "<li>Final Project/Exam: 40%</li>\n",
    "<li>Participation: 10%</li>\n",
    "</ol>\n",
    "\n",
    "Final Exam: 5/18/23 10:15 AM - 12:15 PM\n",
    "\n",
    "Final letter grades will be based on your total percentage score, according to the scale:<p>\n",
    "<ul>\n",
    "<li>A 100 – 93 A- 92.9 – 90</li>\n",
    "<li>B+ 89.9 – 87.5 B 87.4 – 82.6</li>\n",
    "<li>B- 82.5 – 80 C+ 79.9 – 77.5</li>\n",
    "<li>C 77.4 – 72.6 C- 72.5 – 70</li>\n",
    "<li>D+ 69.9 – 67.5 D 67.4 – 62.6</li>\n",
    "<li>D- 62.5 – 60 F Below 60</li>\n",
    "</ul>\n",
    "\n",
    "<b>All work must be your own!</b> Coding is a collaborative process and solutions for common problems are widely available.  If you borrow code use a comment to let me know.  Don't represent others work as your own.<br>\n",
    "\n",
    "Along with your code each assignment/project must have extensive comments describing what your code is accomplishing and why you made the design decisions.  I want to understand your thinking and read the story of your code.<br>\n",
    "\n",
    "Due Dates will be given in class and posted.  <b>Late work will not be accepted!</b>  If you are having an issue contact me.  If your code is not working by the due date submit what you have, including comments for the sections with errors.<br>\n",
    "\n",
    "Files should be submitted in a folder using the following naming convention: LastName_FirstName  (ex. Curry_Michael) \n",
    "\n"
   ]
  },
  {
   "attachments": {},
   "cell_type": "markdown",
   "metadata": {},
   "source": [
    "### Hardware and Software\n",
    "\n",
    "You will need a Windows, Mac, or Linux computer that you can install Python, NumPy, OpenCv, along with other libraries.  \n",
    "\n",
    "I recommend using Visual Studio Code as your IDE but you are free to use others if you are more comfortable with them.  I cannot troubleshoot problems in multiple IDE environments so if you pick another IDE you are on your own.<br> \n",
    "\n",
    "[Installing OpenCv 4 with Visual Studio Code](https://www.youtube.com/watch?v=5OgY6oCZM_E&t=2s&ab_channel=AiPhile)<br>\n",
    "\n",
    "Lessons will be presented in Jupyter Notebooks.  They let you combine Python code with notes and text in Markdown language.<br>\n",
    "\n",
    "[Installing Jupyter Notebooks](https://code.visualstudio.com/docs/datascience/jupyter-notebooks)<br>\n",
    "\n",
    "All assignments should be submitted as Jupyter Notebooks.  Files should be submitted in a folder using the following naming convention: LastName_FirstName  (ex. Curry_Michael) \n",
    "\n",
    "<b>Having a stable coding environment is your responsibility!</b>"
   ]
  }
 ],
 "metadata": {
  "kernelspec": {
   "display_name": "Python 3",
   "language": "python",
   "name": "python3"
  },
  "language_info": {
   "codemirror_mode": {
    "name": "ipython",
    "version": 3
   },
   "file_extension": ".py",
   "mimetype": "text/x-python",
   "name": "python",
   "nbconvert_exporter": "python",
   "pygments_lexer": "ipython3",
   "version": "3.9.1 (v3.9.1:1e5d33e9b9, Dec  7 2020, 12:10:52) \n[Clang 6.0 (clang-600.0.57)]"
  },
  "orig_nbformat": 4,
  "vscode": {
   "interpreter": {
    "hash": "949777d72b0d2535278d3dc13498b2535136f6dfe0678499012e853ee9abcab1"
   }
  }
 },
 "nbformat": 4,
 "nbformat_minor": 2
}
